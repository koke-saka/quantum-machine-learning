{
 "cells": [
  {
   "cell_type": "code",
   "execution_count": 1,
   "metadata": {},
   "outputs": [],
   "source": [
    "import pickle,os\n",
    "from urllib.request import urlopen\n",
    "import numpy as np"
   ]
  },
  {
   "cell_type": "code",
   "execution_count": 19,
   "metadata": {},
   "outputs": [],
   "source": [
    "cwd = os.getcwd()\n",
    "data_folder_path = os.path.join(cwd+\"/sample-Ising\")\n",
    "#cwd = 0\n",
    "#data_folder_path = 0"
   ]
  },
  {
   "cell_type": "code",
   "execution_count": 3,
   "metadata": {},
   "outputs": [],
   "source": [
    "def directory_list(target_path):\n",
    "    path_list = []\n",
    "    for name in os.listdir(target_path):\n",
    "        if(name==\"Ising2DFM_reSample_L40_T=All_labels.pkl\"):\n",
    "            continue\n",
    "        path = os.path.join(target_path, name)\n",
    "        path_list.append(path)\n",
    "    return path_list"
   ]
  },
  {
   "cell_type": "code",
   "execution_count": 20,
   "metadata": {},
   "outputs": [],
   "source": [
    "sample_path_list = directory_list(data_folder_path)\n",
    "#sample_path_list = 0"
   ]
  },
  {
   "cell_type": "code",
   "execution_count": 5,
   "metadata": {},
   "outputs": [],
   "source": [
    "sample = np.zeros((10000,1600))\n",
    "sample_label = np.zeros(10000,dtype='i8')\n",
    "for i in range(8):\n",
    "    with open(sample_path_list[2*i+1],mode=\"rb\") as f:\n",
    "        hoge = pickle.load(f)\n",
    "        data = np.unpackbits(hoge).reshape(-1,1600)\n",
    "        sample = np.concatenate((sample,data))\n",
    "        sample_label = np.concatenate((sample_label,np.array([i for j in range(10000)])))"
   ]
  },
  {
   "cell_type": "code",
   "execution_count": 6,
   "metadata": {},
   "outputs": [
    {
     "name": "stdout",
     "output_type": "stream",
     "text": [
      "(90000, 1600)\n",
      "(80000, 1600)\n"
     ]
    }
   ],
   "source": [
    "print(sample.shape)\n",
    "sample=sample[10000:]\n",
    "print(sample.shape)"
   ]
  },
  {
   "cell_type": "code",
   "execution_count": 7,
   "metadata": {},
   "outputs": [],
   "source": [
    "sample_label = sample_label[10000:]"
   ]
  },
  {
   "cell_type": "code",
   "execution_count": 8,
   "metadata": {},
   "outputs": [
    {
     "data": {
      "text/plain": [
       "(0, 1, 2)"
      ]
     },
     "execution_count": 8,
     "metadata": {},
     "output_type": "execute_result"
    }
   ],
   "source": [
    "sample_label[0],sample_label[10000],sample_label[20000]"
   ]
  },
  {
   "cell_type": "code",
   "execution_count": 9,
   "metadata": {},
   "outputs": [],
   "source": [
    "def divide_train_test(data,label, test_ratio=0.3):\n",
    "    shuffled = np.random.permutation(len(data))\n",
    "    test_size = int(len(data)*test_ratio)\n",
    "    test_index = shuffled[:test_size]\n",
    "    train_index = shuffled[test_size:]\n",
    "    return data[train_index],label[train_index],data[test_index],label[test_index]"
   ]
  },
  {
   "cell_type": "code",
   "execution_count": 10,
   "metadata": {},
   "outputs": [],
   "source": [
    "x_train,y_train,x_test,y_test = divide_train_test(sample,sample_label)"
   ]
  },
  {
   "cell_type": "markdown",
   "metadata": {},
   "source": [
    "ノートPC(メモリ8GB)だと容量がきついため？（ここで`sample`,`sample_label`を解放しておかないと訓練セットをつくるときにカーネルが落ちる)"
   ]
  },
  {
   "cell_type": "code",
   "execution_count": 11,
   "metadata": {},
   "outputs": [],
   "source": [
    "sample = 0\n",
    "sample_label = 0"
   ]
  },
  {
   "cell_type": "code",
   "execution_count": null,
   "metadata": {},
   "outputs": [],
   "source": []
  },
  {
   "cell_type": "code",
   "execution_count": 12,
   "metadata": {},
   "outputs": [
    {
     "name": "stderr",
     "output_type": "stream",
     "text": [
      "Using TensorFlow backend.\n"
     ]
    }
   ],
   "source": [
    "from keras.utils import to_categorical\n",
    "from keras.layers import Input,Dense\n",
    "from keras.models import Model\n",
    "from keras.optimizers import Adam\n",
    "opt = Adam(lr=0.0005)"
   ]
  },
  {
   "cell_type": "code",
   "execution_count": null,
   "metadata": {},
   "outputs": [],
   "source": []
  },
  {
   "cell_type": "code",
   "execution_count": null,
   "metadata": {},
   "outputs": [],
   "source": []
  },
  {
   "cell_type": "code",
   "execution_count": 13,
   "metadata": {},
   "outputs": [],
   "source": [
    "NUM_CLASSES = 8\n",
    "x_train = x_train.astype('float32')\n",
    "x_test = x_test.astype('float32')\n",
    "y_train = to_categorical(y_train,NUM_CLASSES)\n",
    "y_test = to_categorical(y_test,NUM_CLASSES)"
   ]
  },
  {
   "cell_type": "code",
   "execution_count": 15,
   "metadata": {},
   "outputs": [
    {
     "data": {
      "text/plain": [
       "((56000, 1600), (24000, 1600), (56000, 8), (24000, 8))"
      ]
     },
     "execution_count": 15,
     "metadata": {},
     "output_type": "execute_result"
    }
   ],
   "source": [
    "x_train.shape,x_test.shape,y_train.shape,y_test.shape"
   ]
  },
  {
   "cell_type": "code",
   "execution_count": 14,
   "metadata": {},
   "outputs": [],
   "source": [
    "input_layer = Input(shape=(1600,))\n",
    "x = Dense(units=200,activation='relu')(input_layer)\n",
    "x = Dense(units=100,activation='relu')(x)\n",
    "x = Dense(units=50,activation='relu')(x)\n",
    "outpu_layer = Dense(units=8,activation='softmax')(x)\n",
    "model = Model(input_layer,outpu_layer)"
   ]
  },
  {
   "cell_type": "code",
   "execution_count": 16,
   "metadata": {},
   "outputs": [],
   "source": [
    "model.compile(loss='categorical_crossentropy',optimizer=opt,metrics=['accuracy'])"
   ]
  },
  {
   "cell_type": "code",
   "execution_count": 17,
   "metadata": {
    "scrolled": true
   },
   "outputs": [
    {
     "name": "stdout",
     "output_type": "stream",
     "text": [
      "Epoch 1/10\n",
      "56000/56000 [==============================] - 8s 148us/step - loss: 1.1388 - accuracy: 0.4737\n",
      "Epoch 2/10\n",
      "56000/56000 [==============================] - 8s 147us/step - loss: 0.9015 - accuracy: 0.5578\n",
      "Epoch 3/10\n",
      "56000/56000 [==============================] - 8s 148us/step - loss: 0.8211 - accuracy: 0.5938\n",
      "Epoch 4/10\n",
      "56000/56000 [==============================] - 8s 149us/step - loss: 0.7719 - accuracy: 0.6149\n",
      "Epoch 5/10\n",
      "56000/56000 [==============================] - 8s 149us/step - loss: 0.7207 - accuracy: 0.6384\n",
      "Epoch 6/10\n",
      "56000/56000 [==============================] - 8s 150us/step - loss: 0.7033 - accuracy: 0.6472\n",
      "Epoch 7/10\n",
      "56000/56000 [==============================] - 9s 153us/step - loss: 0.6700 - accuracy: 0.6615\n",
      "Epoch 8/10\n",
      "56000/56000 [==============================] - 9s 154us/step - loss: 0.6456 - accuracy: 0.6755\n",
      "Epoch 9/10\n",
      "56000/56000 [==============================] - 8s 150us/step - loss: 0.6203 - accuracy: 0.6864\n",
      "Epoch 10/10\n",
      "56000/56000 [==============================] - 8s 151us/step - loss: 0.5955 - accuracy: 0.7004\n"
     ]
    },
    {
     "data": {
      "text/plain": [
       "<keras.callbacks.callbacks.History at 0x7f295da809b0>"
      ]
     },
     "execution_count": 17,
     "metadata": {},
     "output_type": "execute_result"
    }
   ],
   "source": [
    "model.fit(x_train,y_train,batch_size=32,epochs=10,shuffle=True)"
   ]
  },
  {
   "cell_type": "code",
   "execution_count": 18,
   "metadata": {},
   "outputs": [
    {
     "name": "stdout",
     "output_type": "stream",
     "text": [
      "24000/24000 [==============================] - 1s 35us/step\n"
     ]
    },
    {
     "data": {
      "text/plain": [
       "[0.8353426659504573, 0.6139583587646484]"
      ]
     },
     "execution_count": 18,
     "metadata": {},
     "output_type": "execute_result"
    }
   ],
   "source": [
    "model.evaluate(x_test,y_test)"
   ]
  },
  {
   "cell_type": "code",
   "execution_count": null,
   "metadata": {},
   "outputs": [],
   "source": []
  }
 ],
 "metadata": {
  "kernelspec": {
   "display_name": "tf-q",
   "language": "python",
   "name": "tf-q"
  },
  "language_info": {
   "codemirror_mode": {
    "name": "ipython",
    "version": 3
   },
   "file_extension": ".py",
   "mimetype": "text/x-python",
   "name": "python",
   "nbconvert_exporter": "python",
   "pygments_lexer": "ipython3",
   "version": "3.6.10"
  }
 },
 "nbformat": 4,
 "nbformat_minor": 2
}
