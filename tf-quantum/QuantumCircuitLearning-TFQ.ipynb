{
 "cells": [
  {
   "cell_type": "markdown",
   "metadata": {},
   "source": [
    "# TensroFlow Quantum でQCL"
   ]
  },
  {
   "cell_type": "code",
   "execution_count": 211,
   "metadata": {},
   "outputs": [],
   "source": [
    "import tensorflow as tf\n",
    "import tensorflow_quantum as tfq\n",
    "\n",
    "import cirq\n",
    "import sympy\n",
    "import numpy as np\n",
    "\n",
    "import collections\n",
    "\n",
    "# visualization tools\n",
    "%matplotlib inline\n",
    "import matplotlib.pyplot as plt\n",
    "from cirq.contrib.svg import SVGCircuit"
   ]
  },
  {
   "cell_type": "code",
   "execution_count": 212,
   "metadata": {},
   "outputs": [
    {
     "data": {
      "image/png": "[encoded data removed]",
      "text/plain": [
       "<Figure size 432x288 with 1 Axes>"
      ]
     },
     "metadata": {
      "needs_background": "light"
     },
     "output_type": "display_data"
    }
   ],
   "source": [
    "########  パラメータ  #############\n",
    "nqubit = 3 ## qubitの数\n",
    "c_depth = 3 ## circuitの深さ\n",
    "time_step = 0.77  ## ランダムハミルトニアンによる時間発展の経過時間\n",
    "\n",
    "## [x_min, x_max]のうち, ランダムにnum_x_train個の点をとって教師データとする.\n",
    "x_min = - 1.; x_max = 1.;\n",
    "num_x_train = 200\n",
    "\n",
    "## 学習したい1変数関数\n",
    "func_to_learn = lambda x: np.cos(x*np.pi)\n",
    "\n",
    "## 乱数のシード\n",
    "random_seed = 2\n",
    "## 乱数発生器の初期化\n",
    "np.random.seed(random_seed)\n",
    "\n",
    "#### 教師データを準備\n",
    "x_train = x_min + (x_max - x_min) * np.random.rand(num_x_train)\n",
    "y_train = func_to_learn(x_train)\n",
    "\n",
    "# 現実のデータを用いる場合を想定し、きれいなsin関数にノイズを付加\n",
    "mag_noise = 0.05\n",
    "y_train = y_train + mag_noise * np.random.randn(num_x_train)\n",
    "\n",
    "plt.plot(x_train, y_train, \"o\"); plt.show()"
   ]
  },
  {
   "cell_type": "code",
   "execution_count": 213,
   "metadata": {},
   "outputs": [
    {
     "data": {
      "image/png": "[encoded data removed]",
      "text/plain": [
       "<Figure size 432x288 with 1 Axes>"
      ]
     },
     "metadata": {
      "needs_background": "light"
     },
     "output_type": "display_data"
    }
   ],
   "source": [
    "#### 教師データを準備\n",
    "x_train = x_min + (x_max - x_min) * np.random.rand(num_x_train)\n",
    "y_train = func_to_learn(x_train)\n",
    "\n",
    "# 現実のデータを用いる場合を想定し、きれいなsin関数にノイズを付加\n",
    "mag_noise = 0.05\n",
    "y_train = y_train + mag_noise * np.random.randn(num_x_train)\n",
    "\n",
    "plt.plot(x_train, y_train, \"o\"); plt.show()"
   ]
  },
  {
   "cell_type": "code",
   "execution_count": 214,
   "metadata": {},
   "outputs": [],
   "source": [
    "def divide_train_test(data,label, test_ratio=0.3):\n",
    "    shuffled = np.random.permutation(len(data))\n",
    "    test_size = int(len(data)*test_ratio)\n",
    "    test_index = shuffled[:test_size]\n",
    "    train_index = shuffled[test_size:]\n",
    "    return data[train_index],label[train_index],data[test_index],label[test_index]"
   ]
  },
  {
   "cell_type": "code",
   "execution_count": 215,
   "metadata": {},
   "outputs": [],
   "source": [
    "x_train,y_train,x_test,y_test=divide_train_test(x_train,y_train,test_ratio=0.25)"
   ]
  },
  {
   "cell_type": "code",
   "execution_count": null,
   "metadata": {},
   "outputs": [],
   "source": []
  },
  {
   "cell_type": "code",
   "execution_count": null,
   "metadata": {},
   "outputs": [],
   "source": []
  },
  {
   "cell_type": "markdown",
   "metadata": {},
   "source": [
    "## 入力状態の作成"
   ]
  },
  {
   "cell_type": "code",
   "execution_count": 216,
   "metadata": {},
   "outputs": [],
   "source": [
    "def convert_to_circuit(x):\n",
    "    \"\"\"Encode truncated classical image into quantum datapoint.\"\"\"\n",
    "    y = np.arcsin(x)\n",
    "    z = np.arccos(x**2)\n",
    "    qubits = cirq.GridQubit.rect(5, 1)\n",
    "    circuit = cirq.Circuit()\n",
    "    for i in range(5):\n",
    "        circuit.append(cirq.ry(y).on(qubits[i]))\n",
    "        circuit.append(cirq.rz(z).on(qubits[i]))\n",
    "    return circuit\n"
   ]
  },
  {
   "cell_type": "code",
   "execution_count": 230,
   "metadata": {},
   "outputs": [],
   "source": [
    "x_train_circ = [convert_to_circuit(x) for x in x_train]\n",
    "x_test_circ = [convert_to_circuit(x) for x in x_test]"
   ]
  },
  {
   "cell_type": "code",
   "execution_count": 231,
   "metadata": {},
   "outputs": [
    {
     "data": {
      "image/svg+xml": [
       "<svg xmlns=\"http://www.w3.org/2000/svg\" width=\"317.5466796875\" height=\"250.0\"><line x1=\"34.7588671875\" x2=\"287.5466796875\" y1=\"25.0\" y2=\"25.0\" stroke=\"#1967d2\" stroke-width=\"1\" /><line x1=\"34.7588671875\" x2=\"287.5466796875\" y1=\"75.0\" y2=\"75.0\" stroke=\"#1967d2\" stroke-width=\"1\" /><line x1=\"34.7588671875\" x2=\"287.5466796875\" y1=\"125.0\" y2=\"125.0\" stroke=\"#1967d2\" stroke-width=\"1\" /><line x1=\"34.7588671875\" x2=\"287.5466796875\" y1=\"175.0\" y2=\"175.0\" stroke=\"#1967d2\" stroke-width=\"1\" /><line x1=\"34.7588671875\" x2=\"287.5466796875\" y1=\"225.0\" y2=\"225.0\" stroke=\"#1967d2\" stroke-width=\"1\" /><rect x=\"10.0\" y=\"5.0\" width=\"49.517734375\" height=\"40\" stroke=\"black\" fill=\"white\" stroke-width=\"0\" /><text x=\"34.7588671875\" y=\"25.0\" dominant-baseline=\"middle\" text-anchor=\"middle\" font-size=\"14px\">(0, 0): </text><rect x=\"10.0\" y=\"55.0\" width=\"49.517734375\" height=\"40\" stroke=\"black\" fill=\"white\" stroke-width=\"0\" /><text x=\"34.7588671875\" y=\"75.0\" dominant-baseline=\"middle\" text-anchor=\"middle\" font-size=\"14px\">(1, 0): </text><rect x=\"10.0\" y=\"105.0\" width=\"49.517734375\" height=\"40\" stroke=\"black\" fill=\"white\" stroke-width=\"0\" /><text x=\"34.7588671875\" y=\"125.0\" dominant-baseline=\"middle\" text-anchor=\"middle\" font-size=\"14px\">(2, 0): </text><rect x=\"10.0\" y=\"155.0\" width=\"49.517734375\" height=\"40\" stroke=\"black\" fill=\"white\" stroke-width=\"0\" /><text x=\"34.7588671875\" y=\"175.0\" dominant-baseline=\"middle\" text-anchor=\"middle\" font-size=\"14px\">(3, 0): </text><rect x=\"10.0\" y=\"205.0\" width=\"49.517734375\" height=\"40\" stroke=\"black\" fill=\"white\" stroke-width=\"0\" /><text x=\"34.7588671875\" y=\"225.0\" dominant-baseline=\"middle\" text-anchor=\"middle\" font-size=\"14px\">(4, 0): </text><rect x=\"79.517734375\" y=\"5.0\" width=\"84.097734375\" height=\"40\" stroke=\"black\" fill=\"white\" stroke-width=\"1\" /><text x=\"121.56660156250001\" y=\"25.0\" dominant-baseline=\"middle\" text-anchor=\"middle\" font-size=\"14px\">Ry(0.015π)</text><rect x=\"79.517734375\" y=\"55.0\" width=\"84.097734375\" height=\"40\" stroke=\"black\" fill=\"white\" stroke-width=\"1\" /><text x=\"121.56660156250001\" y=\"75.0\" dominant-baseline=\"middle\" text-anchor=\"middle\" font-size=\"14px\">Ry(0.015π)</text><rect x=\"79.517734375\" y=\"105.0\" width=\"84.097734375\" height=\"40\" stroke=\"black\" fill=\"white\" stroke-width=\"1\" /><text x=\"121.56660156250001\" y=\"125.0\" dominant-baseline=\"middle\" text-anchor=\"middle\" font-size=\"14px\">Ry(0.015π)</text><rect x=\"79.517734375\" y=\"155.0\" width=\"84.097734375\" height=\"40\" stroke=\"black\" fill=\"white\" stroke-width=\"1\" /><text x=\"121.56660156250001\" y=\"175.0\" dominant-baseline=\"middle\" text-anchor=\"middle\" font-size=\"14px\">Ry(0.015π)</text><rect x=\"79.517734375\" y=\"205.0\" width=\"84.097734375\" height=\"40\" stroke=\"black\" fill=\"white\" stroke-width=\"1\" /><text x=\"121.56660156250001\" y=\"225.0\" dominant-baseline=\"middle\" text-anchor=\"middle\" font-size=\"14px\">Ry(0.015π)</text><rect x=\"183.61546875\" y=\"5.0\" width=\"83.93121093750001\" height=\"40\" stroke=\"black\" fill=\"white\" stroke-width=\"1\" /><text x=\"225.58107421875\" y=\"25.0\" dominant-baseline=\"middle\" text-anchor=\"middle\" font-size=\"14px\">Rz(0.499π)</text><rect x=\"183.61546875\" y=\"55.0\" width=\"83.93121093750001\" height=\"40\" stroke=\"black\" fill=\"white\" stroke-width=\"1\" /><text x=\"225.58107421875\" y=\"75.0\" dominant-baseline=\"middle\" text-anchor=\"middle\" font-size=\"14px\">Rz(0.499π)</text><rect x=\"183.61546875\" y=\"105.0\" width=\"83.93121093750001\" height=\"40\" stroke=\"black\" fill=\"white\" stroke-width=\"1\" /><text x=\"225.58107421875\" y=\"125.0\" dominant-baseline=\"middle\" text-anchor=\"middle\" font-size=\"14px\">Rz(0.499π)</text><rect x=\"183.61546875\" y=\"155.0\" width=\"83.93121093750001\" height=\"40\" stroke=\"black\" fill=\"white\" stroke-width=\"1\" /><text x=\"225.58107421875\" y=\"175.0\" dominant-baseline=\"middle\" text-anchor=\"middle\" font-size=\"14px\">Rz(0.499π)</text><rect x=\"183.61546875\" y=\"205.0\" width=\"83.93121093750001\" height=\"40\" stroke=\"black\" fill=\"white\" stroke-width=\"1\" /><text x=\"225.58107421875\" y=\"225.0\" dominant-baseline=\"middle\" text-anchor=\"middle\" font-size=\"14px\">Rz(0.499π)</text></svg>"
      ],
      "text/plain": [
       "<cirq.contrib.svg.svg.SVGCircuit at 0x7fa1501f5f28>"
      ]
     },
     "execution_count": 231,
     "metadata": {},
     "output_type": "execute_result"
    }
   ],
   "source": [
    "SVGCircuit(x_train_circ[0])"
   ]
  },
  {
   "cell_type": "code",
   "execution_count": 232,
   "metadata": {},
   "outputs": [
    {
     "data": {
      "text/plain": [
       "(0.04826269008976736, 0.015368461591925014)"
      ]
     },
     "execution_count": 232,
     "metadata": {},
     "output_type": "execute_result"
    }
   ],
   "source": [
    "x_train[0],np.arcsin(x_train[0])/np.pi"
   ]
  },
  {
   "cell_type": "code",
   "execution_count": 243,
   "metadata": {},
   "outputs": [],
   "source": [
    "x_train_tfcirc = tfq.convert_to_tensor(x_train_circ)\n",
    "x_test_tfcirc = tfq.convert_to_tensor(x_test_circ)"
   ]
  },
  {
   "cell_type": "markdown",
   "metadata": {},
   "source": [
    "## パラメトリック量子回路（ニューラルネット）の作成"
   ]
  },
  {
   "cell_type": "code",
   "execution_count": 244,
   "metadata": {},
   "outputs": [],
   "source": [
    "class CircuitLayerBuilder():\n",
    "    def __init__(self, data_qubits, readout):\n",
    "        self.data_qubits = data_qubits\n",
    "        self.readout = readout\n",
    "    \n",
    "    def add_layer(self, circuit, gate, prefix):\n",
    "        for i, qubit in enumerate(self.data_qubits):\n",
    "            symbol = sympy.Symbol(prefix + '-' + str(i))\n",
    "            circuit.append(gate(qubit, self.readout)**symbol)\n",
    "            \n",
    "    def add_layer_single(self,circuit,gate,prefix):\n",
    "        symbol = sympy.Symbol(prefix + '-' + str(0))\n",
    "        circuit.append(gate(symbol).on(self.readout))\n",
    "        for i, qubit in enumerate(self.data_qubits):\n",
    "            symbol = sympy.Symbol(prefix + '-' + str(i+1))\n",
    "            circuit.append(gate(symbol).on(qubit))\n",
    "    \n",
    "    def add_entangler(self,circuit,len_qubit):\n",
    "        circuit.append(cirq.CZ(self.readout,self.data_qubits[0]))\n",
    "        for i in range(len_qubit-1):\n",
    "            circuit.append(cirq.CZ(self.data_qubits[i],self.data_qubits[(i+1)%len_qubit]))\n",
    "        circuit.append(cirq.CZ(self.readout,self.data_qubits[-1]))\n",
    "            "
   ]
  },
  {
   "cell_type": "code",
   "execution_count": 245,
   "metadata": {},
   "outputs": [],
   "source": [
    "def create_quantum_model(c_depth=3):\n",
    "    data_qubits = cirq.GridQubit.rect(5,1)\n",
    "    readout = cirq.GridQubit(-1,-1)\n",
    "    circuit = cirq.Circuit()\n",
    "\n",
    "    \n",
    "    builder = CircuitLayerBuilder(\n",
    "        data_qubits = data_qubits,\n",
    "        readout = readout\n",
    "    )\n",
    "    \n",
    "    for i in range(3):\n",
    "        builder.add_entangler(circuit,5)\n",
    "        builder.add_layer(circuit, gate = cirq.XX, prefix='xx'+str(i))\n",
    "        builder.add_layer(circuit, gate = cirq.ZZ, prefix='zz'+str(i))\n",
    "        builder.add_layer(circuit, gate = cirq.XX, prefix='xx'+str(i))\n",
    "    \n",
    "    return circuit, cirq.Z(readout)"
   ]
  },
  {
   "cell_type": "code",
   "execution_count": 246,
   "metadata": {},
   "outputs": [],
   "source": [
    "model_circuit, model_readout = create_quantum_model()"
   ]
  },
  {
   "cell_type": "code",
   "execution_count": 247,
   "metadata": {},
   "outputs": [
    {
     "data": {
      "image/svg+xml": [
       "<svg xmlns=\"http://www.w3.org/2000/svg\" width=\"6102.673593750005\" height=\"300.0\"><line x1=\"39.810625\" x2=\"6072.673593750005\" y1=\"25.0\" y2=\"25.0\" stroke=\"#1967d2\" stroke-width=\"1\" /><line x1=\"39.810625\" x2=\"6072.673593750005\" y1=\"75.0\" y2=\"75.0\" stroke=\"#1967d2\" stroke-width=\"1\" /><line x1=\"39.810625\" x2=\"6072.673593750005\" y1=\"125.0\" y2=\"125.0\" stroke=\"#1967d2\" stroke-width=\"1\" /><line x1=\"39.810625\" x2=\"6072.673593750005\" y1=\"175.0\" y2=\"175.0\" stroke=\"#1967d2\" stroke-width=\"1\" /><line x1=\"39.810625\" x2=\"6072.673593750005\" y1=\"225.0\" y2=\"225.0\" stroke=\"#1967d2\" stroke-width=\"1\" /><line x1=\"39.810625\" x2=\"6072.673593750005\" y1=\"275.0\" y2=\"275.0\" stroke=\"#1967d2\" stroke-width=\"1\" /><line x1=\"109.62125\" x2=\"109.62125\" y1=\"25.0\" y2=\"75.0\" stroke=\"black\" stroke-width=\"3\" /><line x1=\"169.62125\" x2=\"169.62125\" y1=\"75.0\" y2=\"125.0\" stroke=\"black\" stroke-width=\"3\" /><line x1=\"229.62125\" x2=\"229.62125\" y1=\"125.0\" y2=\"175.0\" stroke=\"black\" stroke-width=\"3\" /><line x1=\"289.62125000000003\" x2=\"289.62125000000003\" y1=\"175.0\" y2=\"225.0\" stroke=\"black\" stroke-width=\"3\" /><line x1=\"349.62125000000003\" x2=\"349.62125000000003\" y1=\"225.0\" y2=\"275.0\" stroke=\"black\" stroke-width=\"3\" /><line x1=\"409.62125000000003\" x2=\"409.62125000000003\" y1=\"25.0\" y2=\"275.0\" stroke=\"black\" stroke-width=\"3\" /><line x1=\"494.44714843750006\" x2=\"494.44714843750006\" y1=\"25.0\" y2=\"75.0\" stroke=\"black\" stroke-width=\"3\" /><line x1=\"604.0989453125001\" x2=\"604.0989453125001\" y1=\"25.0\" y2=\"125.0\" stroke=\"black\" stroke-width=\"3\" /><line x1=\"713.7507421875001\" x2=\"713.7507421875001\" y1=\"25.0\" y2=\"175.0\" stroke=\"black\" stroke-width=\"3\" /><line x1=\"823.4025390625002\" x2=\"823.4025390625002\" y1=\"25.0\" y2=\"225.0\" stroke=\"black\" stroke-width=\"3\" /><line x1=\"933.0543359375002\" x2=\"933.0543359375002\" y1=\"25.0\" y2=\"275.0\" stroke=\"black\" stroke-width=\"3\" /><line x1=\"1041.6635156250004\" x2=\"1041.6635156250004\" y1=\"25.0\" y2=\"75.0\" stroke=\"black\" stroke-width=\"3\" /><line x1=\"1149.2300781250003\" x2=\"1149.2300781250003\" y1=\"25.0\" y2=\"125.0\" stroke=\"black\" stroke-width=\"3\" /><line x1=\"1256.7966406250002\" x2=\"1256.7966406250002\" y1=\"25.0\" y2=\"175.0\" stroke=\"black\" stroke-width=\"3\" /><line x1=\"1364.3632031250002\" x2=\"1364.3632031250002\" y1=\"25.0\" y2=\"225.0\" stroke=\"black\" stroke-width=\"3\" /><line x1=\"1471.929765625\" x2=\"1471.929765625\" y1=\"25.0\" y2=\"275.0\" stroke=\"black\" stroke-width=\"3\" /><line x1=\"1580.5389453125\" x2=\"1580.5389453125\" y1=\"25.0\" y2=\"75.0\" stroke=\"black\" stroke-width=\"3\" /><line x1=\"1690.1907421874998\" x2=\"1690.1907421874998\" y1=\"25.0\" y2=\"125.0\" stroke=\"black\" stroke-width=\"3\" /><line x1=\"1799.8425390624998\" x2=\"1799.8425390624998\" y1=\"25.0\" y2=\"175.0\" stroke=\"black\" stroke-width=\"3\" /><line x1=\"1909.4943359374997\" x2=\"1909.4943359374997\" y1=\"25.0\" y2=\"225.0\" stroke=\"black\" stroke-width=\"3\" /><line x1=\"2019.1461328124997\" x2=\"2019.1461328124997\" y1=\"25.0\" y2=\"275.0\" stroke=\"black\" stroke-width=\"3\" /><line x1=\"2103.97203125\" x2=\"2103.97203125\" y1=\"25.0\" y2=\"75.0\" stroke=\"black\" stroke-width=\"3\" /><line x1=\"2163.97203125\" x2=\"2163.97203125\" y1=\"75.0\" y2=\"125.0\" stroke=\"black\" stroke-width=\"3\" /><line x1=\"2223.97203125\" x2=\"2223.97203125\" y1=\"125.0\" y2=\"175.0\" stroke=\"black\" stroke-width=\"3\" /><line x1=\"2283.97203125\" x2=\"2283.97203125\" y1=\"175.0\" y2=\"225.0\" stroke=\"black\" stroke-width=\"3\" /><line x1=\"2343.97203125\" x2=\"2343.97203125\" y1=\"225.0\" y2=\"275.0\" stroke=\"black\" stroke-width=\"3\" /><line x1=\"2403.97203125\" x2=\"2403.97203125\" y1=\"25.0\" y2=\"275.0\" stroke=\"black\" stroke-width=\"3\" /><line x1=\"2488.7979296875\" x2=\"2488.7979296875\" y1=\"25.0\" y2=\"75.0\" stroke=\"black\" stroke-width=\"3\" /><line x1=\"2598.4497265625\" x2=\"2598.4497265625\" y1=\"25.0\" y2=\"125.0\" stroke=\"black\" stroke-width=\"3\" /><line x1=\"2708.1015234375\" x2=\"2708.1015234375\" y1=\"25.0\" y2=\"175.0\" stroke=\"black\" stroke-width=\"3\" /><line x1=\"2817.7533203125\" x2=\"2817.7533203125\" y1=\"25.0\" y2=\"225.0\" stroke=\"black\" stroke-width=\"3\" /><line x1=\"2927.4051171875\" x2=\"2927.4051171875\" y1=\"25.0\" y2=\"275.0\" stroke=\"black\" stroke-width=\"3\" /><line x1=\"3036.0142968749997\" x2=\"3036.0142968749997\" y1=\"25.0\" y2=\"75.0\" stroke=\"black\" stroke-width=\"3\" /><line x1=\"3143.580859375\" x2=\"3143.580859375\" y1=\"25.0\" y2=\"125.0\" stroke=\"black\" stroke-width=\"3\" /><line x1=\"3251.147421875\" x2=\"3251.147421875\" y1=\"25.0\" y2=\"175.0\" stroke=\"black\" stroke-width=\"3\" /><line x1=\"3358.713984375\" x2=\"3358.713984375\" y1=\"25.0\" y2=\"225.0\" stroke=\"black\" stroke-width=\"3\" /><line x1=\"3466.2805468750003\" x2=\"3466.2805468750003\" y1=\"25.0\" y2=\"275.0\" stroke=\"black\" stroke-width=\"3\" /><line x1=\"3574.8897265625005\" x2=\"3574.8897265625005\" y1=\"25.0\" y2=\"75.0\" stroke=\"black\" stroke-width=\"3\" /><line x1=\"3684.5415234375005\" x2=\"3684.5415234375005\" y1=\"25.0\" y2=\"125.0\" stroke=\"black\" stroke-width=\"3\" /><line x1=\"3794.1933203125004\" x2=\"3794.1933203125004\" y1=\"25.0\" y2=\"175.0\" stroke=\"black\" stroke-width=\"3\" /><line x1=\"3903.8451171875004\" x2=\"3903.8451171875004\" y1=\"25.0\" y2=\"225.0\" stroke=\"black\" stroke-width=\"3\" /><line x1=\"4013.4969140625003\" x2=\"4013.4969140625003\" y1=\"25.0\" y2=\"275.0\" stroke=\"black\" stroke-width=\"3\" /><line x1=\"4098.3228125000005\" x2=\"4098.3228125000005\" y1=\"25.0\" y2=\"75.0\" stroke=\"black\" stroke-width=\"3\" /><line x1=\"4158.3228125000005\" x2=\"4158.3228125000005\" y1=\"75.0\" y2=\"125.0\" stroke=\"black\" stroke-width=\"3\" /><line x1=\"4218.3228125000005\" x2=\"4218.3228125000005\" y1=\"125.0\" y2=\"175.0\" stroke=\"black\" stroke-width=\"3\" /><line x1=\"4278.3228125000005\" x2=\"4278.3228125000005\" y1=\"175.0\" y2=\"225.0\" stroke=\"black\" stroke-width=\"3\" /><line x1=\"4338.3228125000005\" x2=\"4338.3228125000005\" y1=\"225.0\" y2=\"275.0\" stroke=\"black\" stroke-width=\"3\" /><line x1=\"4398.3228125000005\" x2=\"4398.3228125000005\" y1=\"25.0\" y2=\"275.0\" stroke=\"black\" stroke-width=\"3\" /><line x1=\"4483.1487109375\" x2=\"4483.1487109375\" y1=\"25.0\" y2=\"75.0\" stroke=\"black\" stroke-width=\"3\" /><line x1=\"4592.800507812501\" x2=\"4592.800507812501\" y1=\"25.0\" y2=\"125.0\" stroke=\"black\" stroke-width=\"3\" /><line x1=\"4702.452304687501\" x2=\"4702.452304687501\" y1=\"25.0\" y2=\"175.0\" stroke=\"black\" stroke-width=\"3\" /><line x1=\"4812.1041015625015\" x2=\"4812.1041015625015\" y1=\"25.0\" y2=\"225.0\" stroke=\"black\" stroke-width=\"3\" /><line x1=\"4921.755898437502\" x2=\"4921.755898437502\" y1=\"25.0\" y2=\"275.0\" stroke=\"black\" stroke-width=\"3\" /><line x1=\"5030.365078125003\" x2=\"5030.365078125003\" y1=\"25.0\" y2=\"75.0\" stroke=\"black\" stroke-width=\"3\" /><line x1=\"5137.931640625003\" x2=\"5137.931640625003\" y1=\"25.0\" y2=\"125.0\" stroke=\"black\" stroke-width=\"3\" /><line x1=\"5245.498203125003\" x2=\"5245.498203125003\" y1=\"25.0\" y2=\"175.0\" stroke=\"black\" stroke-width=\"3\" /><line x1=\"5353.064765625003\" x2=\"5353.064765625003\" y1=\"25.0\" y2=\"225.0\" stroke=\"black\" stroke-width=\"3\" /><line x1=\"5460.631328125003\" x2=\"5460.631328125003\" y1=\"25.0\" y2=\"275.0\" stroke=\"black\" stroke-width=\"3\" /><line x1=\"5569.240507812503\" x2=\"5569.240507812503\" y1=\"25.0\" y2=\"75.0\" stroke=\"black\" stroke-width=\"3\" /><line x1=\"5678.892304687503\" x2=\"5678.892304687503\" y1=\"25.0\" y2=\"125.0\" stroke=\"black\" stroke-width=\"3\" /><line x1=\"5788.544101562504\" x2=\"5788.544101562504\" y1=\"25.0\" y2=\"175.0\" stroke=\"black\" stroke-width=\"3\" /><line x1=\"5898.195898437504\" x2=\"5898.195898437504\" y1=\"25.0\" y2=\"225.0\" stroke=\"black\" stroke-width=\"3\" /><line x1=\"6007.847695312505\" x2=\"6007.847695312505\" y1=\"25.0\" y2=\"275.0\" stroke=\"black\" stroke-width=\"3\" /><rect x=\"10.0\" y=\"5.0\" width=\"59.62125\" height=\"40\" stroke=\"black\" fill=\"white\" stroke-width=\"0\" /><text x=\"39.810625\" y=\"25.0\" dominant-baseline=\"middle\" text-anchor=\"middle\" font-size=\"14px\">(-1, -1): </text><rect x=\"10.0\" y=\"55.0\" width=\"59.62125\" height=\"40\" stroke=\"black\" fill=\"white\" stroke-width=\"0\" /><text x=\"39.810625\" y=\"75.0\" dominant-baseline=\"middle\" text-anchor=\"middle\" font-size=\"14px\">(0, 0): </text><rect x=\"10.0\" y=\"105.0\" width=\"59.62125\" height=\"40\" stroke=\"black\" fill=\"white\" stroke-width=\"0\" /><text x=\"39.810625\" y=\"125.0\" dominant-baseline=\"middle\" text-anchor=\"middle\" font-size=\"14px\">(1, 0): </text><rect x=\"10.0\" y=\"155.0\" width=\"59.62125\" height=\"40\" stroke=\"black\" fill=\"white\" stroke-width=\"0\" /><text x=\"39.810625\" y=\"175.0\" dominant-baseline=\"middle\" text-anchor=\"middle\" font-size=\"14px\">(2, 0): </text><rect x=\"10.0\" y=\"205.0\" width=\"59.62125\" height=\"40\" stroke=\"black\" fill=\"white\" stroke-width=\"0\" /><text x=\"39.810625\" y=\"225.0\" dominant-baseline=\"middle\" text-anchor=\"middle\" font-size=\"14px\">(3, 0): </text><rect x=\"10.0\" y=\"255.0\" width=\"59.62125\" height=\"40\" stroke=\"black\" fill=\"white\" stroke-width=\"0\" /><text x=\"39.810625\" y=\"275.0\" dominant-baseline=\"middle\" text-anchor=\"middle\" font-size=\"14px\">(4, 0): </text><circle cx=\"109.62125\" cy=\"25.0\" r=\"10.0\" /><circle cx=\"109.62125\" cy=\"75.0\" r=\"10.0\" /><circle cx=\"169.62125\" cy=\"75.0\" r=\"10.0\" /><circle cx=\"169.62125\" cy=\"125.0\" r=\"10.0\" /><circle cx=\"229.62125\" cy=\"125.0\" r=\"10.0\" /><circle cx=\"229.62125\" cy=\"175.0\" r=\"10.0\" /><circle cx=\"289.62125000000003\" cy=\"175.0\" r=\"10.0\" /><circle cx=\"289.62125000000003\" cy=\"225.0\" r=\"10.0\" /><circle cx=\"349.62125000000003\" cy=\"225.0\" r=\"10.0\" /><circle cx=\"349.62125000000003\" cy=\"275.0\" r=\"10.0\" /><circle cx=\"409.62125000000003\" cy=\"25.0\" r=\"10.0\" /><circle cx=\"409.62125000000003\" cy=\"275.0\" r=\"10.0\" /><rect x=\"449.62125000000003\" y=\"55.0\" width=\"89.65179687500002\" height=\"40\" stroke=\"black\" fill=\"white\" stroke-width=\"1\" /><text x=\"494.44714843750006\" y=\"75.0\" dominant-baseline=\"middle\" text-anchor=\"middle\" font-size=\"14px\">XX^(xx0-0)</text><rect x=\"449.62125000000003\" y=\"5.0\" width=\"89.65179687500002\" height=\"40\" stroke=\"black\" fill=\"white\" stroke-width=\"1\" /><text x=\"494.44714843750006\" y=\"25.0\" dominant-baseline=\"middle\" text-anchor=\"middle\" font-size=\"14px\">XX</text><rect x=\"559.2730468750001\" y=\"105.0\" width=\"89.65179687500002\" height=\"40\" stroke=\"black\" fill=\"white\" stroke-width=\"1\" /><text x=\"604.0989453125001\" y=\"125.0\" dominant-baseline=\"middle\" text-anchor=\"middle\" font-size=\"14px\">XX^(xx0-1)</text><rect x=\"559.2730468750001\" y=\"5.0\" width=\"89.65179687500002\" height=\"40\" stroke=\"black\" fill=\"white\" stroke-width=\"1\" /><text x=\"604.0989453125001\" y=\"25.0\" dominant-baseline=\"middle\" text-anchor=\"middle\" font-size=\"14px\">XX</text><rect x=\"668.9248437500002\" y=\"155.0\" width=\"89.65179687500002\" height=\"40\" stroke=\"black\" fill=\"white\" stroke-width=\"1\" /><text x=\"713.7507421875001\" y=\"175.0\" dominant-baseline=\"middle\" text-anchor=\"middle\" font-size=\"14px\">XX^(xx0-2)</text><rect x=\"668.9248437500002\" y=\"5.0\" width=\"89.65179687500002\" height=\"40\" stroke=\"black\" fill=\"white\" stroke-width=\"1\" /><text x=\"713.7507421875001\" y=\"25.0\" dominant-baseline=\"middle\" text-anchor=\"middle\" font-size=\"14px\">XX</text><rect x=\"778.5766406250002\" y=\"205.0\" width=\"89.65179687500002\" height=\"40\" stroke=\"black\" fill=\"white\" stroke-width=\"1\" /><text x=\"823.4025390625002\" y=\"225.0\" dominant-baseline=\"middle\" text-anchor=\"middle\" font-size=\"14px\">XX^(xx0-3)</text><rect x=\"778.5766406250002\" y=\"5.0\" width=\"89.65179687500002\" height=\"40\" stroke=\"black\" fill=\"white\" stroke-width=\"1\" /><text x=\"823.4025390625002\" y=\"25.0\" dominant-baseline=\"middle\" text-anchor=\"middle\" font-size=\"14px\">XX</text><rect x=\"888.2284375000003\" y=\"255.0\" width=\"89.65179687500002\" height=\"40\" stroke=\"black\" fill=\"white\" stroke-width=\"1\" /><text x=\"933.0543359375002\" y=\"275.0\" dominant-baseline=\"middle\" text-anchor=\"middle\" font-size=\"14px\">XX^(xx0-4)</text><rect x=\"888.2284375000003\" y=\"5.0\" width=\"89.65179687500002\" height=\"40\" stroke=\"black\" fill=\"white\" stroke-width=\"1\" /><text x=\"933.0543359375002\" y=\"25.0\" dominant-baseline=\"middle\" text-anchor=\"middle\" font-size=\"14px\">XX</text><rect x=\"997.8802343750004\" y=\"55.0\" width=\"87.56656250000002\" height=\"40\" stroke=\"black\" fill=\"white\" stroke-width=\"1\" /><text x=\"1041.6635156250004\" y=\"75.0\" dominant-baseline=\"middle\" text-anchor=\"middle\" font-size=\"14px\">ZZ^(zz0-0)</text><rect x=\"997.8802343750004\" y=\"5.0\" width=\"87.56656250000002\" height=\"40\" stroke=\"black\" fill=\"white\" stroke-width=\"1\" /><text x=\"1041.6635156250004\" y=\"25.0\" dominant-baseline=\"middle\" text-anchor=\"middle\" font-size=\"14px\">ZZ</text><rect x=\"1105.4467968750002\" y=\"105.0\" width=\"87.56656250000002\" height=\"40\" stroke=\"black\" fill=\"white\" stroke-width=\"1\" /><text x=\"1149.2300781250003\" y=\"125.0\" dominant-baseline=\"middle\" text-anchor=\"middle\" font-size=\"14px\">ZZ^(zz0-1)</text><rect x=\"1105.4467968750002\" y=\"5.0\" width=\"87.56656250000002\" height=\"40\" stroke=\"black\" fill=\"white\" stroke-width=\"1\" /><text x=\"1149.2300781250003\" y=\"25.0\" dominant-baseline=\"middle\" text-anchor=\"middle\" font-size=\"14px\">ZZ</text><rect x=\"1213.0133593750002\" y=\"155.0\" width=\"87.56656250000002\" height=\"40\" stroke=\"black\" fill=\"white\" stroke-width=\"1\" /><text x=\"1256.7966406250002\" y=\"175.0\" dominant-baseline=\"middle\" text-anchor=\"middle\" font-size=\"14px\">ZZ^(zz0-2)</text><rect x=\"1213.0133593750002\" y=\"5.0\" width=\"87.56656250000002\" height=\"40\" stroke=\"black\" fill=\"white\" stroke-width=\"1\" /><text x=\"1256.7966406250002\" y=\"25.0\" dominant-baseline=\"middle\" text-anchor=\"middle\" font-size=\"14px\">ZZ</text><rect x=\"1320.579921875\" y=\"205.0\" width=\"87.56656250000002\" height=\"40\" stroke=\"black\" fill=\"white\" stroke-width=\"1\" /><text x=\"1364.3632031250002\" y=\"225.0\" dominant-baseline=\"middle\" text-anchor=\"middle\" font-size=\"14px\">ZZ^(zz0-3)</text><rect x=\"1320.579921875\" y=\"5.0\" width=\"87.56656250000002\" height=\"40\" stroke=\"black\" fill=\"white\" stroke-width=\"1\" /><text x=\"1364.3632031250002\" y=\"25.0\" dominant-baseline=\"middle\" text-anchor=\"middle\" font-size=\"14px\">ZZ</text><rect x=\"1428.146484375\" y=\"255.0\" width=\"87.56656250000002\" height=\"40\" stroke=\"black\" fill=\"white\" stroke-width=\"1\" /><text x=\"1471.929765625\" y=\"275.0\" dominant-baseline=\"middle\" text-anchor=\"middle\" font-size=\"14px\">ZZ^(zz0-4)</text><rect x=\"1428.146484375\" y=\"5.0\" width=\"87.56656250000002\" height=\"40\" stroke=\"black\" fill=\"white\" stroke-width=\"1\" /><text x=\"1471.929765625\" y=\"25.0\" dominant-baseline=\"middle\" text-anchor=\"middle\" font-size=\"14px\">ZZ</text><rect x=\"1535.713046875\" y=\"55.0\" width=\"89.65179687500002\" height=\"40\" stroke=\"black\" fill=\"white\" stroke-width=\"1\" /><text x=\"1580.5389453125\" y=\"75.0\" dominant-baseline=\"middle\" text-anchor=\"middle\" font-size=\"14px\">XX^(xx0-0)</text><rect x=\"1535.713046875\" y=\"5.0\" width=\"89.65179687500002\" height=\"40\" stroke=\"black\" fill=\"white\" stroke-width=\"1\" /><text x=\"1580.5389453125\" y=\"25.0\" dominant-baseline=\"middle\" text-anchor=\"middle\" font-size=\"14px\">XX</text><rect x=\"1645.3648437499999\" y=\"105.0\" width=\"89.65179687500002\" height=\"40\" stroke=\"black\" fill=\"white\" stroke-width=\"1\" /><text x=\"1690.1907421874998\" y=\"125.0\" dominant-baseline=\"middle\" text-anchor=\"middle\" font-size=\"14px\">XX^(xx0-1)</text><rect x=\"1645.3648437499999\" y=\"5.0\" width=\"89.65179687500002\" height=\"40\" stroke=\"black\" fill=\"white\" stroke-width=\"1\" /><text x=\"1690.1907421874998\" y=\"25.0\" dominant-baseline=\"middle\" text-anchor=\"middle\" font-size=\"14px\">XX</text><rect x=\"1755.0166406249998\" y=\"155.0\" width=\"89.65179687500002\" height=\"40\" stroke=\"black\" fill=\"white\" stroke-width=\"1\" /><text x=\"1799.8425390624998\" y=\"175.0\" dominant-baseline=\"middle\" text-anchor=\"middle\" font-size=\"14px\">XX^(xx0-2)</text><rect x=\"1755.0166406249998\" y=\"5.0\" width=\"89.65179687500002\" height=\"40\" stroke=\"black\" fill=\"white\" stroke-width=\"1\" /><text x=\"1799.8425390624998\" y=\"25.0\" dominant-baseline=\"middle\" text-anchor=\"middle\" font-size=\"14px\">XX</text><rect x=\"1864.6684374999998\" y=\"205.0\" width=\"89.65179687500002\" height=\"40\" stroke=\"black\" fill=\"white\" stroke-width=\"1\" /><text x=\"1909.4943359374997\" y=\"225.0\" dominant-baseline=\"middle\" text-anchor=\"middle\" font-size=\"14px\">XX^(xx0-3)</text><rect x=\"1864.6684374999998\" y=\"5.0\" width=\"89.65179687500002\" height=\"40\" stroke=\"black\" fill=\"white\" stroke-width=\"1\" /><text x=\"1909.4943359374997\" y=\"25.0\" dominant-baseline=\"middle\" text-anchor=\"middle\" font-size=\"14px\">XX</text><rect x=\"1974.3202343749997\" y=\"255.0\" width=\"89.65179687500002\" height=\"40\" stroke=\"black\" fill=\"white\" stroke-width=\"1\" /><text x=\"2019.1461328124997\" y=\"275.0\" dominant-baseline=\"middle\" text-anchor=\"middle\" font-size=\"14px\">XX^(xx0-4)</text><rect x=\"1974.3202343749997\" y=\"5.0\" width=\"89.65179687500002\" height=\"40\" stroke=\"black\" fill=\"white\" stroke-width=\"1\" /><text x=\"2019.1461328124997\" y=\"25.0\" dominant-baseline=\"middle\" text-anchor=\"middle\" font-size=\"14px\">XX</text><circle cx=\"2103.97203125\" cy=\"25.0\" r=\"10.0\" /><circle cx=\"2103.97203125\" cy=\"75.0\" r=\"10.0\" /><circle cx=\"2163.97203125\" cy=\"75.0\" r=\"10.0\" /><circle cx=\"2163.97203125\" cy=\"125.0\" r=\"10.0\" /><circle cx=\"2223.97203125\" cy=\"125.0\" r=\"10.0\" /><circle cx=\"2223.97203125\" cy=\"175.0\" r=\"10.0\" /><circle cx=\"2283.97203125\" cy=\"175.0\" r=\"10.0\" /><circle cx=\"2283.97203125\" cy=\"225.0\" r=\"10.0\" /><circle cx=\"2343.97203125\" cy=\"225.0\" r=\"10.0\" /><circle cx=\"2343.97203125\" cy=\"275.0\" r=\"10.0\" /><circle cx=\"2403.97203125\" cy=\"25.0\" r=\"10.0\" /><circle cx=\"2403.97203125\" cy=\"275.0\" r=\"10.0\" /><rect x=\"2443.97203125\" y=\"55.0\" width=\"89.65179687500002\" height=\"40\" stroke=\"black\" fill=\"white\" stroke-width=\"1\" /><text x=\"2488.7979296875\" y=\"75.0\" dominant-baseline=\"middle\" text-anchor=\"middle\" font-size=\"14px\">XX^(xx1-0)</text><rect x=\"2443.97203125\" y=\"5.0\" width=\"89.65179687500002\" height=\"40\" stroke=\"black\" fill=\"white\" stroke-width=\"1\" /><text x=\"2488.7979296875\" y=\"25.0\" dominant-baseline=\"middle\" text-anchor=\"middle\" font-size=\"14px\">XX</text><rect x=\"2553.623828125\" y=\"105.0\" width=\"89.65179687500002\" height=\"40\" stroke=\"black\" fill=\"white\" stroke-width=\"1\" /><text x=\"2598.4497265625\" y=\"125.0\" dominant-baseline=\"middle\" text-anchor=\"middle\" font-size=\"14px\">XX^(xx1-1)</text><rect x=\"2553.623828125\" y=\"5.0\" width=\"89.65179687500002\" height=\"40\" stroke=\"black\" fill=\"white\" stroke-width=\"1\" /><text x=\"2598.4497265625\" y=\"25.0\" dominant-baseline=\"middle\" text-anchor=\"middle\" font-size=\"14px\">XX</text><rect x=\"2663.2756249999998\" y=\"155.0\" width=\"89.65179687500002\" height=\"40\" stroke=\"black\" fill=\"white\" stroke-width=\"1\" /><text x=\"2708.1015234375\" y=\"175.0\" dominant-baseline=\"middle\" text-anchor=\"middle\" font-size=\"14px\">XX^(xx1-2)</text><rect x=\"2663.2756249999998\" y=\"5.0\" width=\"89.65179687500002\" height=\"40\" stroke=\"black\" fill=\"white\" stroke-width=\"1\" /><text x=\"2708.1015234375\" y=\"25.0\" dominant-baseline=\"middle\" text-anchor=\"middle\" font-size=\"14px\">XX</text><rect x=\"2772.9274218749997\" y=\"205.0\" width=\"89.65179687500002\" height=\"40\" stroke=\"black\" fill=\"white\" stroke-width=\"1\" /><text x=\"2817.7533203125\" y=\"225.0\" dominant-baseline=\"middle\" text-anchor=\"middle\" font-size=\"14px\">XX^(xx1-3)</text><rect x=\"2772.9274218749997\" y=\"5.0\" width=\"89.65179687500002\" height=\"40\" stroke=\"black\" fill=\"white\" stroke-width=\"1\" /><text x=\"2817.7533203125\" y=\"25.0\" dominant-baseline=\"middle\" text-anchor=\"middle\" font-size=\"14px\">XX</text><rect x=\"2882.5792187499997\" y=\"255.0\" width=\"89.65179687500002\" height=\"40\" stroke=\"black\" fill=\"white\" stroke-width=\"1\" /><text x=\"2927.4051171875\" y=\"275.0\" dominant-baseline=\"middle\" text-anchor=\"middle\" font-size=\"14px\">XX^(xx1-4)</text><rect x=\"2882.5792187499997\" y=\"5.0\" width=\"89.65179687500002\" height=\"40\" stroke=\"black\" fill=\"white\" stroke-width=\"1\" /><text x=\"2927.4051171875\" y=\"25.0\" dominant-baseline=\"middle\" text-anchor=\"middle\" font-size=\"14px\">XX</text><rect x=\"2992.2310156249996\" y=\"55.0\" width=\"87.56656250000002\" height=\"40\" stroke=\"black\" fill=\"white\" stroke-width=\"1\" /><text x=\"3036.0142968749997\" y=\"75.0\" dominant-baseline=\"middle\" text-anchor=\"middle\" font-size=\"14px\">ZZ^(zz1-0)</text><rect x=\"2992.2310156249996\" y=\"5.0\" width=\"87.56656250000002\" height=\"40\" stroke=\"black\" fill=\"white\" stroke-width=\"1\" /><text x=\"3036.0142968749997\" y=\"25.0\" dominant-baseline=\"middle\" text-anchor=\"middle\" font-size=\"14px\">ZZ</text><rect x=\"3099.7975781249997\" y=\"105.0\" width=\"87.56656250000002\" height=\"40\" stroke=\"black\" fill=\"white\" stroke-width=\"1\" /><text x=\"3143.580859375\" y=\"125.0\" dominant-baseline=\"middle\" text-anchor=\"middle\" font-size=\"14px\">ZZ^(zz1-1)</text><rect x=\"3099.7975781249997\" y=\"5.0\" width=\"87.56656250000002\" height=\"40\" stroke=\"black\" fill=\"white\" stroke-width=\"1\" /><text x=\"3143.580859375\" y=\"25.0\" dominant-baseline=\"middle\" text-anchor=\"middle\" font-size=\"14px\">ZZ</text><rect x=\"3207.364140625\" y=\"155.0\" width=\"87.56656250000002\" height=\"40\" stroke=\"black\" fill=\"white\" stroke-width=\"1\" /><text x=\"3251.147421875\" y=\"175.0\" dominant-baseline=\"middle\" text-anchor=\"middle\" font-size=\"14px\">ZZ^(zz1-2)</text><rect x=\"3207.364140625\" y=\"5.0\" width=\"87.56656250000002\" height=\"40\" stroke=\"black\" fill=\"white\" stroke-width=\"1\" /><text x=\"3251.147421875\" y=\"25.0\" dominant-baseline=\"middle\" text-anchor=\"middle\" font-size=\"14px\">ZZ</text><rect x=\"3314.930703125\" y=\"205.0\" width=\"87.56656250000002\" height=\"40\" stroke=\"black\" fill=\"white\" stroke-width=\"1\" /><text x=\"3358.713984375\" y=\"225.0\" dominant-baseline=\"middle\" text-anchor=\"middle\" font-size=\"14px\">ZZ^(zz1-3)</text><rect x=\"3314.930703125\" y=\"5.0\" width=\"87.56656250000002\" height=\"40\" stroke=\"black\" fill=\"white\" stroke-width=\"1\" /><text x=\"3358.713984375\" y=\"25.0\" dominant-baseline=\"middle\" text-anchor=\"middle\" font-size=\"14px\">ZZ</text><rect x=\"3422.497265625\" y=\"255.0\" width=\"87.56656250000002\" height=\"40\" stroke=\"black\" fill=\"white\" stroke-width=\"1\" /><text x=\"3466.2805468750003\" y=\"275.0\" dominant-baseline=\"middle\" text-anchor=\"middle\" font-size=\"14px\">ZZ^(zz1-4)</text><rect x=\"3422.497265625\" y=\"5.0\" width=\"87.56656250000002\" height=\"40\" stroke=\"black\" fill=\"white\" stroke-width=\"1\" /><text x=\"3466.2805468750003\" y=\"25.0\" dominant-baseline=\"middle\" text-anchor=\"middle\" font-size=\"14px\">ZZ</text><rect x=\"3530.0638281250003\" y=\"55.0\" width=\"89.65179687500002\" height=\"40\" stroke=\"black\" fill=\"white\" stroke-width=\"1\" /><text x=\"3574.8897265625005\" y=\"75.0\" dominant-baseline=\"middle\" text-anchor=\"middle\" font-size=\"14px\">XX^(xx1-0)</text><rect x=\"3530.0638281250003\" y=\"5.0\" width=\"89.65179687500002\" height=\"40\" stroke=\"black\" fill=\"white\" stroke-width=\"1\" /><text x=\"3574.8897265625005\" y=\"25.0\" dominant-baseline=\"middle\" text-anchor=\"middle\" font-size=\"14px\">XX</text><rect x=\"3639.7156250000003\" y=\"105.0\" width=\"89.65179687500002\" height=\"40\" stroke=\"black\" fill=\"white\" stroke-width=\"1\" /><text x=\"3684.5415234375005\" y=\"125.0\" dominant-baseline=\"middle\" text-anchor=\"middle\" font-size=\"14px\">XX^(xx1-1)</text><rect x=\"3639.7156250000003\" y=\"5.0\" width=\"89.65179687500002\" height=\"40\" stroke=\"black\" fill=\"white\" stroke-width=\"1\" /><text x=\"3684.5415234375005\" y=\"25.0\" dominant-baseline=\"middle\" text-anchor=\"middle\" font-size=\"14px\">XX</text><rect x=\"3749.367421875\" y=\"155.0\" width=\"89.65179687500002\" height=\"40\" stroke=\"black\" fill=\"white\" stroke-width=\"1\" /><text x=\"3794.1933203125004\" y=\"175.0\" dominant-baseline=\"middle\" text-anchor=\"middle\" font-size=\"14px\">XX^(xx1-2)</text><rect x=\"3749.367421875\" y=\"5.0\" width=\"89.65179687500002\" height=\"40\" stroke=\"black\" fill=\"white\" stroke-width=\"1\" /><text x=\"3794.1933203125004\" y=\"25.0\" dominant-baseline=\"middle\" text-anchor=\"middle\" font-size=\"14px\">XX</text><rect x=\"3859.01921875\" y=\"205.0\" width=\"89.65179687500002\" height=\"40\" stroke=\"black\" fill=\"white\" stroke-width=\"1\" /><text x=\"3903.8451171875004\" y=\"225.0\" dominant-baseline=\"middle\" text-anchor=\"middle\" font-size=\"14px\">XX^(xx1-3)</text><rect x=\"3859.01921875\" y=\"5.0\" width=\"89.65179687500002\" height=\"40\" stroke=\"black\" fill=\"white\" stroke-width=\"1\" /><text x=\"3903.8451171875004\" y=\"25.0\" dominant-baseline=\"middle\" text-anchor=\"middle\" font-size=\"14px\">XX</text><rect x=\"3968.671015625\" y=\"255.0\" width=\"89.65179687500002\" height=\"40\" stroke=\"black\" fill=\"white\" stroke-width=\"1\" /><text x=\"4013.4969140625003\" y=\"275.0\" dominant-baseline=\"middle\" text-anchor=\"middle\" font-size=\"14px\">XX^(xx1-4)</text><rect x=\"3968.671015625\" y=\"5.0\" width=\"89.65179687500002\" height=\"40\" stroke=\"black\" fill=\"white\" stroke-width=\"1\" /><text x=\"4013.4969140625003\" y=\"25.0\" dominant-baseline=\"middle\" text-anchor=\"middle\" font-size=\"14px\">XX</text><circle cx=\"4098.3228125000005\" cy=\"25.0\" r=\"10.0\" /><circle cx=\"4098.3228125000005\" cy=\"75.0\" r=\"10.0\" /><circle cx=\"4158.3228125000005\" cy=\"75.0\" r=\"10.0\" /><circle cx=\"4158.3228125000005\" cy=\"125.0\" r=\"10.0\" /><circle cx=\"4218.3228125000005\" cy=\"125.0\" r=\"10.0\" /><circle cx=\"4218.3228125000005\" cy=\"175.0\" r=\"10.0\" /><circle cx=\"4278.3228125000005\" cy=\"175.0\" r=\"10.0\" /><circle cx=\"4278.3228125000005\" cy=\"225.0\" r=\"10.0\" /><circle cx=\"4338.3228125000005\" cy=\"225.0\" r=\"10.0\" /><circle cx=\"4338.3228125000005\" cy=\"275.0\" r=\"10.0\" /><circle cx=\"4398.3228125000005\" cy=\"25.0\" r=\"10.0\" /><circle cx=\"4398.3228125000005\" cy=\"275.0\" r=\"10.0\" /><rect x=\"4438.3228125000005\" y=\"55.0\" width=\"89.65179687500002\" height=\"40\" stroke=\"black\" fill=\"white\" stroke-width=\"1\" /><text x=\"4483.1487109375\" y=\"75.0\" dominant-baseline=\"middle\" text-anchor=\"middle\" font-size=\"14px\">XX^(xx2-0)</text><rect x=\"4438.3228125000005\" y=\"5.0\" width=\"89.65179687500002\" height=\"40\" stroke=\"black\" fill=\"white\" stroke-width=\"1\" /><text x=\"4483.1487109375\" y=\"25.0\" dominant-baseline=\"middle\" text-anchor=\"middle\" font-size=\"14px\">XX</text><rect x=\"4547.974609375001\" y=\"105.0\" width=\"89.65179687500002\" height=\"40\" stroke=\"black\" fill=\"white\" stroke-width=\"1\" /><text x=\"4592.800507812501\" y=\"125.0\" dominant-baseline=\"middle\" text-anchor=\"middle\" font-size=\"14px\">XX^(xx2-1)</text><rect x=\"4547.974609375001\" y=\"5.0\" width=\"89.65179687500002\" height=\"40\" stroke=\"black\" fill=\"white\" stroke-width=\"1\" /><text x=\"4592.800507812501\" y=\"25.0\" dominant-baseline=\"middle\" text-anchor=\"middle\" font-size=\"14px\">XX</text><rect x=\"4657.626406250001\" y=\"155.0\" width=\"89.65179687500002\" height=\"40\" stroke=\"black\" fill=\"white\" stroke-width=\"1\" /><text x=\"4702.452304687501\" y=\"175.0\" dominant-baseline=\"middle\" text-anchor=\"middle\" font-size=\"14px\">XX^(xx2-2)</text><rect x=\"4657.626406250001\" y=\"5.0\" width=\"89.65179687500002\" height=\"40\" stroke=\"black\" fill=\"white\" stroke-width=\"1\" /><text x=\"4702.452304687501\" y=\"25.0\" dominant-baseline=\"middle\" text-anchor=\"middle\" font-size=\"14px\">XX</text><rect x=\"4767.278203125002\" y=\"205.0\" width=\"89.65179687500002\" height=\"40\" stroke=\"black\" fill=\"white\" stroke-width=\"1\" /><text x=\"4812.1041015625015\" y=\"225.0\" dominant-baseline=\"middle\" text-anchor=\"middle\" font-size=\"14px\">XX^(xx2-3)</text><rect x=\"4767.278203125002\" y=\"5.0\" width=\"89.65179687500002\" height=\"40\" stroke=\"black\" fill=\"white\" stroke-width=\"1\" /><text x=\"4812.1041015625015\" y=\"25.0\" dominant-baseline=\"middle\" text-anchor=\"middle\" font-size=\"14px\">XX</text><rect x=\"4876.930000000002\" y=\"255.0\" width=\"89.65179687500002\" height=\"40\" stroke=\"black\" fill=\"white\" stroke-width=\"1\" /><text x=\"4921.755898437502\" y=\"275.0\" dominant-baseline=\"middle\" text-anchor=\"middle\" font-size=\"14px\">XX^(xx2-4)</text><rect x=\"4876.930000000002\" y=\"5.0\" width=\"89.65179687500002\" height=\"40\" stroke=\"black\" fill=\"white\" stroke-width=\"1\" /><text x=\"4921.755898437502\" y=\"25.0\" dominant-baseline=\"middle\" text-anchor=\"middle\" font-size=\"14px\">XX</text><rect x=\"4986.5817968750025\" y=\"55.0\" width=\"87.56656250000002\" height=\"40\" stroke=\"black\" fill=\"white\" stroke-width=\"1\" /><text x=\"5030.365078125003\" y=\"75.0\" dominant-baseline=\"middle\" text-anchor=\"middle\" font-size=\"14px\">ZZ^(zz2-0)</text><rect x=\"4986.5817968750025\" y=\"5.0\" width=\"87.56656250000002\" height=\"40\" stroke=\"black\" fill=\"white\" stroke-width=\"1\" /><text x=\"5030.365078125003\" y=\"25.0\" dominant-baseline=\"middle\" text-anchor=\"middle\" font-size=\"14px\">ZZ</text><rect x=\"5094.148359375003\" y=\"105.0\" width=\"87.56656250000002\" height=\"40\" stroke=\"black\" fill=\"white\" stroke-width=\"1\" /><text x=\"5137.931640625003\" y=\"125.0\" dominant-baseline=\"middle\" text-anchor=\"middle\" font-size=\"14px\">ZZ^(zz2-1)</text><rect x=\"5094.148359375003\" y=\"5.0\" width=\"87.56656250000002\" height=\"40\" stroke=\"black\" fill=\"white\" stroke-width=\"1\" /><text x=\"5137.931640625003\" y=\"25.0\" dominant-baseline=\"middle\" text-anchor=\"middle\" font-size=\"14px\">ZZ</text><rect x=\"5201.714921875003\" y=\"155.0\" width=\"87.56656250000002\" height=\"40\" stroke=\"black\" fill=\"white\" stroke-width=\"1\" /><text x=\"5245.498203125003\" y=\"175.0\" dominant-baseline=\"middle\" text-anchor=\"middle\" font-size=\"14px\">ZZ^(zz2-2)</text><rect x=\"5201.714921875003\" y=\"5.0\" width=\"87.56656250000002\" height=\"40\" stroke=\"black\" fill=\"white\" stroke-width=\"1\" /><text x=\"5245.498203125003\" y=\"25.0\" dominant-baseline=\"middle\" text-anchor=\"middle\" font-size=\"14px\">ZZ</text><rect x=\"5309.281484375003\" y=\"205.0\" width=\"87.56656250000002\" height=\"40\" stroke=\"black\" fill=\"white\" stroke-width=\"1\" /><text x=\"5353.064765625003\" y=\"225.0\" dominant-baseline=\"middle\" text-anchor=\"middle\" font-size=\"14px\">ZZ^(zz2-3)</text><rect x=\"5309.281484375003\" y=\"5.0\" width=\"87.56656250000002\" height=\"40\" stroke=\"black\" fill=\"white\" stroke-width=\"1\" /><text x=\"5353.064765625003\" y=\"25.0\" dominant-baseline=\"middle\" text-anchor=\"middle\" font-size=\"14px\">ZZ</text><rect x=\"5416.848046875003\" y=\"255.0\" width=\"87.56656250000002\" height=\"40\" stroke=\"black\" fill=\"white\" stroke-width=\"1\" /><text x=\"5460.631328125003\" y=\"275.0\" dominant-baseline=\"middle\" text-anchor=\"middle\" font-size=\"14px\">ZZ^(zz2-4)</text><rect x=\"5416.848046875003\" y=\"5.0\" width=\"87.56656250000002\" height=\"40\" stroke=\"black\" fill=\"white\" stroke-width=\"1\" /><text x=\"5460.631328125003\" y=\"25.0\" dominant-baseline=\"middle\" text-anchor=\"middle\" font-size=\"14px\">ZZ</text><rect x=\"5524.414609375003\" y=\"55.0\" width=\"89.65179687500002\" height=\"40\" stroke=\"black\" fill=\"white\" stroke-width=\"1\" /><text x=\"5569.240507812503\" y=\"75.0\" dominant-baseline=\"middle\" text-anchor=\"middle\" font-size=\"14px\">XX^(xx2-0)</text><rect x=\"5524.414609375003\" y=\"5.0\" width=\"89.65179687500002\" height=\"40\" stroke=\"black\" fill=\"white\" stroke-width=\"1\" /><text x=\"5569.240507812503\" y=\"25.0\" dominant-baseline=\"middle\" text-anchor=\"middle\" font-size=\"14px\">XX</text><rect x=\"5634.066406250004\" y=\"105.0\" width=\"89.65179687500002\" height=\"40\" stroke=\"black\" fill=\"white\" stroke-width=\"1\" /><text x=\"5678.892304687503\" y=\"125.0\" dominant-baseline=\"middle\" text-anchor=\"middle\" font-size=\"14px\">XX^(xx2-1)</text><rect x=\"5634.066406250004\" y=\"5.0\" width=\"89.65179687500002\" height=\"40\" stroke=\"black\" fill=\"white\" stroke-width=\"1\" /><text x=\"5678.892304687503\" y=\"25.0\" dominant-baseline=\"middle\" text-anchor=\"middle\" font-size=\"14px\">XX</text><rect x=\"5743.718203125004\" y=\"155.0\" width=\"89.65179687500002\" height=\"40\" stroke=\"black\" fill=\"white\" stroke-width=\"1\" /><text x=\"5788.544101562504\" y=\"175.0\" dominant-baseline=\"middle\" text-anchor=\"middle\" font-size=\"14px\">XX^(xx2-2)</text><rect x=\"5743.718203125004\" y=\"5.0\" width=\"89.65179687500002\" height=\"40\" stroke=\"black\" fill=\"white\" stroke-width=\"1\" /><text x=\"5788.544101562504\" y=\"25.0\" dominant-baseline=\"middle\" text-anchor=\"middle\" font-size=\"14px\">XX</text><rect x=\"5853.370000000004\" y=\"205.0\" width=\"89.65179687500002\" height=\"40\" stroke=\"black\" fill=\"white\" stroke-width=\"1\" /><text x=\"5898.195898437504\" y=\"225.0\" dominant-baseline=\"middle\" text-anchor=\"middle\" font-size=\"14px\">XX^(xx2-3)</text><rect x=\"5853.370000000004\" y=\"5.0\" width=\"89.65179687500002\" height=\"40\" stroke=\"black\" fill=\"white\" stroke-width=\"1\" /><text x=\"5898.195898437504\" y=\"25.0\" dominant-baseline=\"middle\" text-anchor=\"middle\" font-size=\"14px\">XX</text><rect x=\"5963.021796875005\" y=\"255.0\" width=\"89.65179687500002\" height=\"40\" stroke=\"black\" fill=\"white\" stroke-width=\"1\" /><text x=\"6007.847695312505\" y=\"275.0\" dominant-baseline=\"middle\" text-anchor=\"middle\" font-size=\"14px\">XX^(xx2-4)</text><rect x=\"5963.021796875005\" y=\"5.0\" width=\"89.65179687500002\" height=\"40\" stroke=\"black\" fill=\"white\" stroke-width=\"1\" /><text x=\"6007.847695312505\" y=\"25.0\" dominant-baseline=\"middle\" text-anchor=\"middle\" font-size=\"14px\">XX</text></svg>"
      ],
      "text/plain": [
       "<cirq.contrib.svg.svg.SVGCircuit at 0x7fa1502a45c0>"
      ]
     },
     "execution_count": 247,
     "metadata": {},
     "output_type": "execute_result"
    }
   ],
   "source": [
    "SVGCircuit(model_circuit)"
   ]
  },
  {
   "cell_type": "code",
   "execution_count": 248,
   "metadata": {},
   "outputs": [
    {
     "data": {
      "text/plain": [
       "cirq.Z.on(cirq.GridQubit(-1, -1))"
      ]
     },
     "execution_count": 248,
     "metadata": {},
     "output_type": "execute_result"
    }
   ],
   "source": [
    "model_readout"
   ]
  },
  {
   "cell_type": "code",
   "execution_count": 249,
   "metadata": {},
   "outputs": [],
   "source": [
    "# Build the Keras model.\n",
    "model = tf.keras.Sequential([\n",
    "    # The input is the data-circuit, encoded as a tf.string\n",
    "    tf.keras.layers.Input(shape=(), dtype=tf.string),\n",
    "    # The PQC layer returns the expected value of the readout gate, range [-1,1].\n",
    "    tfq.layers.PQC(model_circuit, model_readout),\n",
    "])"
   ]
  },
  {
   "cell_type": "code",
   "execution_count": null,
   "metadata": {},
   "outputs": [],
   "source": []
  },
  {
   "cell_type": "code",
   "execution_count": 250,
   "metadata": {},
   "outputs": [],
   "source": [
    "model.compile(\n",
    "    loss=tf.keras.losses.mse,\n",
    "    optimizer=tf.keras.optimizers.Adam(),\n",
    "    metrics=['mae'])"
   ]
  },
  {
   "cell_type": "code",
   "execution_count": 251,
   "metadata": {},
   "outputs": [
    {
     "name": "stdout",
     "output_type": "stream",
     "text": [
      "Model: \"sequential_10\"\n",
      "_________________________________________________________________\n",
      "Layer (type)                 Output Shape              Param #   \n",
      "=================================================================\n",
      "pqc_10 (PQC)                 (None, 1)                 30        \n",
      "=================================================================\n",
      "Total params: 30\n",
      "Trainable params: 30\n",
      "Non-trainable params: 0\n",
      "_________________________________________________________________\n",
      "None\n"
     ]
    }
   ],
   "source": [
    "print(model.summary())"
   ]
  },
  {
   "cell_type": "code",
   "execution_count": 252,
   "metadata": {},
   "outputs": [],
   "source": [
    "EPOCHS = 100\n",
    "BATCH_SIZE = 50"
   ]
  },
  {
   "cell_type": "code",
   "execution_count": 253,
   "metadata": {},
   "outputs": [
    {
     "name": "stdout",
     "output_type": "stream",
     "text": [
      "Train on 150 samples, validate on 50 samples\n",
      "Epoch 1/100\n",
      "150/150 [==============================] - 2s 16ms/sample - loss: 0.3854 - mae: 0.5386 - val_loss: 0.3974 - val_mae: 0.5531\n",
      "Epoch 2/100\n",
      "150/150 [==============================] - 2s 11ms/sample - loss: 0.3517 - mae: 0.5175 - val_loss: 0.3635 - val_mae: 0.5348\n",
      "Epoch 3/100\n",
      "150/150 [==============================] - 2s 11ms/sample - loss: 0.3246 - mae: 0.5010 - val_loss: 0.3337 - val_mae: 0.5185\n",
      "Epoch 4/100\n",
      "150/150 [==============================] - 2s 11ms/sample - loss: 0.3007 - mae: 0.4854 - val_loss: 0.3094 - val_mae: 0.5034\n",
      "Epoch 5/100\n",
      "150/150 [==============================] - 2s 11ms/sample - loss: 0.2806 - mae: 0.4710 - val_loss: 0.2894 - val_mae: 0.4888\n",
      "Epoch 6/100\n",
      "150/150 [==============================] - 2s 11ms/sample - loss: 0.2615 - mae: 0.4560 - val_loss: 0.2723 - val_mae: 0.4744\n",
      "Epoch 7/100\n",
      "150/150 [==============================] - 2s 11ms/sample - loss: 0.2468 - mae: 0.4432 - val_loss: 0.2566 - val_mae: 0.4605\n",
      "Epoch 8/100\n",
      "150/150 [==============================] - 2s 12ms/sample - loss: 0.2319 - mae: 0.4293 - val_loss: 0.2430 - val_mae: 0.4474\n",
      "Epoch 9/100\n",
      "150/150 [==============================] - 2s 11ms/sample - loss: 0.2192 - mae: 0.4171 - val_loss: 0.2305 - val_mae: 0.4354\n",
      "Epoch 10/100\n",
      "150/150 [==============================] - 2s 11ms/sample - loss: 0.2087 - mae: 0.4068 - val_loss: 0.2186 - val_mae: 0.4245\n",
      "Epoch 11/100\n",
      "150/150 [==============================] - 2s 11ms/sample - loss: 0.1980 - mae: 0.3963 - val_loss: 0.2092 - val_mae: 0.4145\n",
      "Epoch 12/100\n",
      "150/150 [==============================] - 2s 11ms/sample - loss: 0.1892 - mae: 0.3872 - val_loss: 0.2005 - val_mae: 0.4059\n",
      "Epoch 13/100\n",
      "150/150 [==============================] - 2s 11ms/sample - loss: 0.1821 - mae: 0.3799 - val_loss: 0.1924 - val_mae: 0.3981\n",
      "Epoch 14/100\n",
      "150/150 [==============================] - 2s 12ms/sample - loss: 0.1752 - mae: 0.3729 - val_loss: 0.1858 - val_mae: 0.3911\n",
      "Epoch 15/100\n",
      "150/150 [==============================] - 2s 12ms/sample - loss: 0.1695 - mae: 0.3664 - val_loss: 0.1800 - val_mae: 0.3847\n",
      "Epoch 16/100\n",
      "150/150 [==============================] - 2s 11ms/sample - loss: 0.1644 - mae: 0.3605 - val_loss: 0.1751 - val_mae: 0.3789\n",
      "Epoch 17/100\n",
      "150/150 [==============================] - 2s 11ms/sample - loss: 0.1597 - mae: 0.3550 - val_loss: 0.1702 - val_mae: 0.3736\n",
      "Epoch 18/100\n",
      "150/150 [==============================] - 2s 11ms/sample - loss: 0.1557 - mae: 0.3508 - val_loss: 0.1656 - val_mae: 0.3687\n",
      "Epoch 19/100\n",
      "150/150 [==============================] - 2s 11ms/sample - loss: 0.1515 - mae: 0.3460 - val_loss: 0.1617 - val_mae: 0.3641\n",
      "Epoch 20/100\n",
      "150/150 [==============================] - 2s 11ms/sample - loss: 0.1480 - mae: 0.3419 - val_loss: 0.1581 - val_mae: 0.3598\n",
      "Epoch 21/100\n",
      "150/150 [==============================] - 2s 11ms/sample - loss: 0.1446 - mae: 0.3376 - val_loss: 0.1549 - val_mae: 0.3555\n",
      "Epoch 22/100\n",
      "150/150 [==============================] - 2s 13ms/sample - loss: 0.1414 - mae: 0.3335 - val_loss: 0.1518 - val_mae: 0.3515\n",
      "Epoch 23/100\n",
      "150/150 [==============================] - 2s 11ms/sample - loss: 0.1385 - mae: 0.3298 - val_loss: 0.1486 - val_mae: 0.3477\n",
      "Epoch 24/100\n",
      "150/150 [==============================] - 2s 11ms/sample - loss: 0.1359 - mae: 0.3267 - val_loss: 0.1459 - val_mae: 0.3441\n",
      "Epoch 25/100\n",
      "150/150 [==============================] - 2s 11ms/sample - loss: 0.1330 - mae: 0.3230 - val_loss: 0.1431 - val_mae: 0.3407\n",
      "Epoch 26/100\n",
      "150/150 [==============================] - 2s 11ms/sample - loss: 0.1305 - mae: 0.3199 - val_loss: 0.1405 - val_mae: 0.3377\n",
      "Epoch 27/100\n",
      "150/150 [==============================] - 2s 11ms/sample - loss: 0.1283 - mae: 0.3171 - val_loss: 0.1381 - val_mae: 0.3346\n",
      "Epoch 28/100\n",
      "150/150 [==============================] - 2s 11ms/sample - loss: 0.1261 - mae: 0.3144 - val_loss: 0.1358 - val_mae: 0.3315\n",
      "Epoch 29/100\n",
      "150/150 [==============================] - 2s 12ms/sample - loss: 0.1239 - mae: 0.3114 - val_loss: 0.1337 - val_mae: 0.3286\n",
      "Epoch 30/100\n",
      "150/150 [==============================] - 2s 12ms/sample - loss: 0.1221 - mae: 0.3091 - val_loss: 0.1318 - val_mae: 0.3257\n",
      "Epoch 31/100\n",
      "150/150 [==============================] - 2s 11ms/sample - loss: 0.1201 - mae: 0.3066 - val_loss: 0.1298 - val_mae: 0.3231\n",
      "Epoch 32/100\n",
      "150/150 [==============================] - 2s 11ms/sample - loss: 0.1186 - mae: 0.3046 - val_loss: 0.1279 - val_mae: 0.3207\n",
      "Epoch 33/100\n",
      "150/150 [==============================] - 2s 11ms/sample - loss: 0.1168 - mae: 0.3022 - val_loss: 0.1261 - val_mae: 0.3186\n",
      "Epoch 34/100\n",
      "150/150 [==============================] - 2s 11ms/sample - loss: 0.1153 - mae: 0.3002 - val_loss: 0.1247 - val_mae: 0.3160\n",
      "Epoch 35/100\n",
      "150/150 [==============================] - 2s 12ms/sample - loss: 0.1136 - mae: 0.2979 - val_loss: 0.1231 - val_mae: 0.3139\n",
      "Epoch 36/100\n",
      "150/150 [==============================] - 2s 12ms/sample - loss: 0.1123 - mae: 0.2960 - val_loss: 0.1216 - val_mae: 0.3120\n",
      "Epoch 37/100\n",
      "150/150 [==============================] - 2s 12ms/sample - loss: 0.1112 - mae: 0.2946 - val_loss: 0.1202 - val_mae: 0.3101\n",
      "Epoch 38/100\n",
      "150/150 [==============================] - 2s 11ms/sample - loss: 0.1097 - mae: 0.2926 - val_loss: 0.1189 - val_mae: 0.3083\n",
      "Epoch 39/100\n",
      "150/150 [==============================] - 2s 12ms/sample - loss: 0.1090 - mae: 0.2922 - val_loss: 0.1179 - val_mae: 0.3061\n",
      "Epoch 40/100\n",
      "150/150 [==============================] - 2s 12ms/sample - loss: 0.1076 - mae: 0.2899 - val_loss: 0.1166 - val_mae: 0.3048\n",
      "Epoch 41/100\n",
      "150/150 [==============================] - 2s 12ms/sample - loss: 0.1066 - mae: 0.2884 - val_loss: 0.1155 - val_mae: 0.3036\n",
      "Epoch 42/100\n",
      "150/150 [==============================] - 2s 12ms/sample - loss: 0.1057 - mae: 0.2873 - val_loss: 0.1146 - val_mae: 0.3019\n",
      "Epoch 43/100\n",
      "150/150 [==============================] - 2s 12ms/sample - loss: 0.1047 - mae: 0.2859 - val_loss: 0.1136 - val_mae: 0.3008\n",
      "Epoch 44/100\n",
      "150/150 [==============================] - 2s 12ms/sample - loss: 0.1040 - mae: 0.2850 - val_loss: 0.1127 - val_mae: 0.2994\n",
      "Epoch 45/100\n",
      "150/150 [==============================] - 2s 11ms/sample - loss: 0.1033 - mae: 0.2842 - val_loss: 0.1121 - val_mae: 0.2982\n",
      "Epoch 46/100\n",
      "150/150 [==============================] - 2s 11ms/sample - loss: 0.1024 - mae: 0.2828 - val_loss: 0.1113 - val_mae: 0.2973\n",
      "Epoch 47/100\n",
      "150/150 [==============================] - 2s 12ms/sample - loss: 0.1021 - mae: 0.2824 - val_loss: 0.1106 - val_mae: 0.2970\n",
      "Epoch 48/100\n",
      "150/150 [==============================] - 2s 11ms/sample - loss: 0.1013 - mae: 0.2812 - val_loss: 0.1100 - val_mae: 0.2956\n",
      "Epoch 49/100\n",
      "150/150 [==============================] - 2s 11ms/sample - loss: 0.1007 - mae: 0.2804 - val_loss: 0.1094 - val_mae: 0.2947\n",
      "Epoch 50/100\n",
      "150/150 [==============================] - 2s 11ms/sample - loss: 0.1003 - mae: 0.2797 - val_loss: 0.1090 - val_mae: 0.2937\n",
      "Epoch 51/100\n",
      "150/150 [==============================] - 2s 11ms/sample - loss: 0.0997 - mae: 0.2793 - val_loss: 0.1084 - val_mae: 0.2931\n",
      "Epoch 52/100\n",
      "150/150 [==============================] - 2s 11ms/sample - loss: 0.0993 - mae: 0.2785 - val_loss: 0.1079 - val_mae: 0.2925\n",
      "Epoch 53/100\n",
      "150/150 [==============================] - 2s 11ms/sample - loss: 0.0990 - mae: 0.2781 - val_loss: 0.1075 - val_mae: 0.2918\n",
      "Epoch 54/100\n",
      "150/150 [==============================] - 2s 11ms/sample - loss: 0.0985 - mae: 0.2775 - val_loss: 0.1071 - val_mae: 0.2913\n",
      "Epoch 55/100\n",
      "150/150 [==============================] - 2s 11ms/sample - loss: 0.0981 - mae: 0.2767 - val_loss: 0.1066 - val_mae: 0.2910\n",
      "Epoch 56/100\n",
      "150/150 [==============================] - 2s 11ms/sample - loss: 0.0978 - mae: 0.2763 - val_loss: 0.1064 - val_mae: 0.2903\n",
      "Epoch 57/100\n",
      "150/150 [==============================] - 2s 11ms/sample - loss: 0.0974 - mae: 0.2758 - val_loss: 0.1060 - val_mae: 0.2899\n",
      "Epoch 58/100\n",
      "150/150 [==============================] - 2s 11ms/sample - loss: 0.0971 - mae: 0.2754 - val_loss: 0.1057 - val_mae: 0.2893\n",
      "Epoch 59/100\n",
      "150/150 [==============================] - 2s 11ms/sample - loss: 0.0968 - mae: 0.2750 - val_loss: 0.1053 - val_mae: 0.2889\n",
      "Epoch 60/100\n"
     ]
    },
    {
     "name": "stdout",
     "output_type": "stream",
     "text": [
      "150/150 [==============================] - 2s 11ms/sample - loss: 0.0966 - mae: 0.2747 - val_loss: 0.1051 - val_mae: 0.2883\n",
      "Epoch 61/100\n",
      "150/150 [==============================] - 2s 11ms/sample - loss: 0.0963 - mae: 0.2745 - val_loss: 0.1049 - val_mae: 0.2879\n",
      "Epoch 62/100\n",
      "150/150 [==============================] - 2s 12ms/sample - loss: 0.0961 - mae: 0.2741 - val_loss: 0.1046 - val_mae: 0.2876\n",
      "Epoch 63/100\n",
      "150/150 [==============================] - 2s 11ms/sample - loss: 0.0958 - mae: 0.2736 - val_loss: 0.1043 - val_mae: 0.2874\n",
      "Epoch 64/100\n",
      "150/150 [==============================] - 2s 11ms/sample - loss: 0.0956 - mae: 0.2733 - val_loss: 0.1041 - val_mae: 0.2871\n",
      "Epoch 65/100\n",
      "150/150 [==============================] - 2s 11ms/sample - loss: 0.0954 - mae: 0.2729 - val_loss: 0.1039 - val_mae: 0.2866\n",
      "Epoch 66/100\n",
      "150/150 [==============================] - 2s 12ms/sample - loss: 0.0952 - mae: 0.2728 - val_loss: 0.1037 - val_mae: 0.2861\n",
      "Epoch 67/100\n",
      "150/150 [==============================] - 2s 14ms/sample - loss: 0.0950 - mae: 0.2726 - val_loss: 0.1035 - val_mae: 0.2860\n",
      "Epoch 68/100\n",
      "150/150 [==============================] - 2s 12ms/sample - loss: 0.0948 - mae: 0.2722 - val_loss: 0.1032 - val_mae: 0.2855\n",
      "Epoch 69/100\n",
      "150/150 [==============================] - 2s 12ms/sample - loss: 0.0945 - mae: 0.2718 - val_loss: 0.1029 - val_mae: 0.2852\n",
      "Epoch 70/100\n",
      "150/150 [==============================] - 2s 12ms/sample - loss: 0.0943 - mae: 0.2716 - val_loss: 0.1027 - val_mae: 0.2848\n",
      "Epoch 71/100\n",
      "150/150 [==============================] - 2s 12ms/sample - loss: 0.0942 - mae: 0.2715 - val_loss: 0.1026 - val_mae: 0.2845\n",
      "Epoch 72/100\n",
      "150/150 [==============================] - 2s 12ms/sample - loss: 0.0939 - mae: 0.2710 - val_loss: 0.1023 - val_mae: 0.2844\n",
      "Epoch 73/100\n",
      "150/150 [==============================] - 2s 12ms/sample - loss: 0.0937 - mae: 0.2705 - val_loss: 0.1021 - val_mae: 0.2843\n",
      "Epoch 74/100\n",
      "150/150 [==============================] - 2s 12ms/sample - loss: 0.0935 - mae: 0.2702 - val_loss: 0.1019 - val_mae: 0.2840\n",
      "Epoch 75/100\n",
      "150/150 [==============================] - 2s 12ms/sample - loss: 0.0933 - mae: 0.2699 - val_loss: 0.1017 - val_mae: 0.2837\n",
      "Epoch 76/100\n",
      "150/150 [==============================] - 2s 12ms/sample - loss: 0.0935 - mae: 0.2704 - val_loss: 0.1016 - val_mae: 0.2830\n",
      "Epoch 77/100\n",
      "150/150 [==============================] - 2s 12ms/sample - loss: 0.0931 - mae: 0.2698 - val_loss: 0.1013 - val_mae: 0.2830\n",
      "Epoch 78/100\n",
      "150/150 [==============================] - 2s 12ms/sample - loss: 0.0929 - mae: 0.2693 - val_loss: 0.1011 - val_mae: 0.2828\n",
      "Epoch 79/100\n",
      "150/150 [==============================] - 2s 12ms/sample - loss: 0.0926 - mae: 0.2689 - val_loss: 0.1010 - val_mae: 0.2824\n",
      "Epoch 80/100\n",
      "150/150 [==============================] - 2s 12ms/sample - loss: 0.0925 - mae: 0.2687 - val_loss: 0.1009 - val_mae: 0.2821\n",
      "Epoch 81/100\n",
      "150/150 [==============================] - 2s 12ms/sample - loss: 0.0922 - mae: 0.2684 - val_loss: 0.1007 - val_mae: 0.2816\n",
      "Epoch 82/100\n",
      "150/150 [==============================] - 2s 11ms/sample - loss: 0.0921 - mae: 0.2685 - val_loss: 0.1005 - val_mae: 0.2812\n",
      "Epoch 83/100\n",
      "150/150 [==============================] - 2s 11ms/sample - loss: 0.0920 - mae: 0.2682 - val_loss: 0.1002 - val_mae: 0.2812\n",
      "Epoch 84/100\n",
      "150/150 [==============================] - 2s 13ms/sample - loss: 0.0917 - mae: 0.2679 - val_loss: 0.1000 - val_mae: 0.2809\n",
      "Epoch 85/100\n",
      "150/150 [==============================] - 2s 12ms/sample - loss: 0.0916 - mae: 0.2677 - val_loss: 0.0998 - val_mae: 0.2805\n",
      "Epoch 86/100\n",
      "150/150 [==============================] - 2s 12ms/sample - loss: 0.0914 - mae: 0.2674 - val_loss: 0.0996 - val_mae: 0.2803\n",
      "Epoch 87/100\n",
      "150/150 [==============================] - 2s 11ms/sample - loss: 0.0912 - mae: 0.2671 - val_loss: 0.0994 - val_mae: 0.2802\n",
      "Epoch 88/100\n",
      "150/150 [==============================] - 2s 12ms/sample - loss: 0.0910 - mae: 0.2666 - val_loss: 0.0992 - val_mae: 0.2800\n",
      "Epoch 89/100\n",
      "150/150 [==============================] - 2s 12ms/sample - loss: 0.0909 - mae: 0.2664 - val_loss: 0.0990 - val_mae: 0.2797\n",
      "Epoch 90/100\n",
      "150/150 [==============================] - 2s 12ms/sample - loss: 0.0907 - mae: 0.2663 - val_loss: 0.0987 - val_mae: 0.2794\n",
      "Epoch 91/100\n",
      "150/150 [==============================] - 2s 12ms/sample - loss: 0.0905 - mae: 0.2660 - val_loss: 0.0986 - val_mae: 0.2791\n",
      "Epoch 92/100\n",
      "150/150 [==============================] - 2s 12ms/sample - loss: 0.0903 - mae: 0.2658 - val_loss: 0.0984 - val_mae: 0.2786\n",
      "Epoch 93/100\n",
      "150/150 [==============================] - 2s 12ms/sample - loss: 0.0901 - mae: 0.2656 - val_loss: 0.0983 - val_mae: 0.2784\n",
      "Epoch 94/100\n",
      "150/150 [==============================] - 2s 12ms/sample - loss: 0.0901 - mae: 0.2656 - val_loss: 0.0981 - val_mae: 0.2779\n",
      "Epoch 95/100\n",
      "150/150 [==============================] - 2s 12ms/sample - loss: 0.0899 - mae: 0.2653 - val_loss: 0.0978 - val_mae: 0.2780\n",
      "Epoch 96/100\n",
      "150/150 [==============================] - 2s 12ms/sample - loss: 0.0897 - mae: 0.2648 - val_loss: 0.0976 - val_mae: 0.2777\n",
      "Epoch 97/100\n",
      "150/150 [==============================] - 2s 12ms/sample - loss: 0.0895 - mae: 0.2646 - val_loss: 0.0974 - val_mae: 0.2774\n",
      "Epoch 98/100\n",
      "150/150 [==============================] - 2s 12ms/sample - loss: 0.0893 - mae: 0.2643 - val_loss: 0.0973 - val_mae: 0.2771\n",
      "Epoch 99/100\n",
      "150/150 [==============================] - 2s 12ms/sample - loss: 0.0891 - mae: 0.2640 - val_loss: 0.0970 - val_mae: 0.2768\n",
      "Epoch 100/100\n",
      "150/150 [==============================] - 2s 12ms/sample - loss: 0.0889 - mae: 0.2638 - val_loss: 0.0967 - val_mae: 0.2768\n"
     ]
    }
   ],
   "source": [
    "qnn_history = model.fit(\n",
    "      x_train_tfcirc, y_train,\n",
    "      batch_size=25,\n",
    "      epochs=EPOCHS,\n",
    "      verbose=1,\n",
    "      validation_data=(x_test_tfcirc,y_test)\n",
    ")"
   ]
  },
  {
   "cell_type": "code",
   "execution_count": 254,
   "metadata": {},
   "outputs": [
    {
     "name": "stdout",
     "output_type": "stream",
     "text": [
      "50/50 [==============================] - 0s 3ms/sample - loss: 0.0967 - mae: 0.2768\n"
     ]
    },
    {
     "data": {
      "text/plain": [
       "[0.09673620641231537, 0.27678412]"
      ]
     },
     "execution_count": 254,
     "metadata": {},
     "output_type": "execute_result"
    }
   ],
   "source": [
    "model.evaluate(x_test_tfcirc,y_test)"
   ]
  },
  {
   "cell_type": "code",
   "execution_count": 280,
   "metadata": {},
   "outputs": [],
   "source": [
    "y_pred = model.predict(x_test_tfcirc)"
   ]
  },
  {
   "cell_type": "code",
   "execution_count": 281,
   "metadata": {},
   "outputs": [
    {
     "data": {
      "text/plain": [
       "(50,)"
      ]
     },
     "execution_count": 281,
     "metadata": {},
     "output_type": "execute_result"
    }
   ],
   "source": [
    "x_test.shape"
   ]
  },
  {
   "cell_type": "code",
   "execution_count": 282,
   "metadata": {},
   "outputs": [
    {
     "data": {
      "text/plain": [
       "(50, 1)"
      ]
     },
     "execution_count": 282,
     "metadata": {},
     "output_type": "execute_result"
    }
   ],
   "source": [
    "y_pred.shape"
   ]
  },
  {
   "cell_type": "code",
   "execution_count": 284,
   "metadata": {},
   "outputs": [
    {
     "data": {
      "image/png": "[encoded data removed]",
      "text/plain": [
       "<Figure size 432x288 with 1 Axes>"
      ]
     },
     "metadata": {
      "needs_background": "light"
     },
     "output_type": "display_data"
    }
   ],
   "source": [
    "plt.plot(x_test,y_pred,\"o\",label=\"pred\")\n",
    "plt.plot(x_test,y_test,\"xr\",label=\"test\")\n",
    "plt.xlabel('x')\n",
    "plt.ylabel('y')\n",
    "p\n",
    "#plt.show()\n",
    "plt.savefig('fig1.png')"
   ]
  },
  {
   "cell_type": "code",
   "execution_count": null,
   "metadata": {},
   "outputs": [],
   "source": []
  }
 ],
 "metadata": {
  "kernelspec": {
   "display_name": "tf-q",
   "language": "python",
   "name": "tf-q"
  },
  "language_info": {
   "codemirror_mode": {
    "name": "ipython",
    "version": 3
   },
   "file_extension": ".py",
   "mimetype": "text/x-python",
   "name": "python",
   "nbconvert_exporter": "python",
   "pygments_lexer": "ipython3",
   "version": "3.6.10"
  }
 },
 "nbformat": 4,
 "nbformat_minor": 2
}
