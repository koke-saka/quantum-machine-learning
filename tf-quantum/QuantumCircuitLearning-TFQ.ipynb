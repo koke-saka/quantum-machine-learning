{
 "cells": [
  {
   "cell_type": "markdown",
   "metadata": {},
   "source": [
    "# TensroFlow Quantum でQCL"
   ]
  },
  {
   "cell_type": "code",
   "execution_count": 1,
   "metadata": {},
   "outputs": [],
   "source": [
    "import tensorflow as tf\n",
    "import tensorflow_quantum as tfq\n",
    "\n",
    "import cirq\n",
    "import sympy\n",
    "import numpy as np\n",
    "\n",
    "import collections\n",
    "\n",
    "# visualization tools\n",
    "%matplotlib inline\n",
    "import matplotlib.pyplot as plt\n",
    "from cirq.contrib.svg import SVGCircuit"
   ]
  },
  {
   "cell_type": "code",
   "execution_count": 2,
   "metadata": {},
   "outputs": [
    {
     "data": {
      "image/png": "[encoded data removed]",
      "text/plain": [
       "<Figure size 432x288 with 1 Axes>"
      ]
     },
     "metadata": {
      "needs_background": "light"
     },
     "output_type": "display_data"
    }
   ],
   "source": [
    "########  パラメータ  #############\n",
    "nqubit = 3 ## qubitの数\n",
    "c_depth = 3 ## circuitの深さ\n",
    "time_step = 0.77  ## ランダムハミルトニアンによる時間発展の経過時間\n",
    "\n",
    "## [x_min, x_max]のうち, ランダムにnum_x_train個の点をとって教師データとする.\n",
    "x_min = - 1.; x_max = 1.;\n",
    "num_x_train = 200\n",
    "\n",
    "## 学習したい1変数関数\n",
    "func_to_learn = lambda x: np.cos(x*np.pi)\n",
    "\n",
    "## 乱数のシード\n",
    "random_seed = 2\n",
    "## 乱数発生器の初期化\n",
    "np.random.seed(random_seed)\n",
    "\n",
    "#### 教師データを準備\n",
    "x_train = x_min + (x_max - x_min) * np.random.rand(num_x_train)\n",
    "y_train = func_to_learn(x_train)\n",
    "\n",
    "# 現実のデータを用いる場合を想定し、きれいなsin関数にノイズを付加\n",
    "mag_noise = 0.05\n",
    "y_train = y_train + mag_noise * np.random.randn(num_x_train)\n",
    "\n",
    "plt.plot(x_train, y_train, \"o\"); plt.show()"
   ]
  },
  {
   "cell_type": "code",
   "execution_count": 3,
   "metadata": {},
   "outputs": [
    {
     "data": {
      "image/png": "[encoded data removed]",
      "text/plain": [
       "<Figure size 432x288 with 1 Axes>"
      ]
     },
     "metadata": {
      "needs_background": "light"
     },
     "output_type": "display_data"
    }
   ],
   "source": [
    "#### 教師データを準備\n",
    "x_train = x_min + (x_max - x_min) * np.random.rand(num_x_train)\n",
    "y_train = func_to_learn(x_train)\n",
    "\n",
    "# 現実のデータを用いる場合を想定し、きれいなsin関数にノイズを付加\n",
    "mag_noise = 0.05\n",
    "y_train = y_train + mag_noise * np.random.randn(num_x_train)\n",
    "\n",
    "plt.plot(x_train, y_train, \"o\"); plt.show()"
   ]
  },
  {
   "cell_type": "code",
   "execution_count": 4,
   "metadata": {},
   "outputs": [],
   "source": [
    "def divide_train_test(data,label, test_ratio=0.3):\n",
    "    shuffled = np.random.permutation(len(data))\n",
    "    test_size = int(len(data)*test_ratio)\n",
    "    test_index = shuffled[:test_size]\n",
    "    train_index = shuffled[test_size:]\n",
    "    return data[train_index],label[train_index],data[test_index],label[test_index]"
   ]
  },
  {
   "cell_type": "code",
   "execution_count": 5,
   "metadata": {},
   "outputs": [],
   "source": [
    "x_train,y_train,x_test,y_test=divide_train_test(x_train,y_train,test_ratio=0.25)"
   ]
  },
  {
   "cell_type": "code",
   "execution_count": null,
   "metadata": {},
   "outputs": [],
   "source": []
  },
  {
   "cell_type": "code",
   "execution_count": null,
   "metadata": {},
   "outputs": [],
   "source": []
  },
  {
   "cell_type": "markdown",
   "metadata": {},
   "source": [
    "## 入力状態の作成"
   ]
  },
  {
   "cell_type": "code",
   "execution_count": 6,
   "metadata": {},
   "outputs": [],
   "source": [
    "def convert_to_circuit(x):\n",
    "    \"\"\"Encode truncated classical image into quantum datapoint.\"\"\"\n",
    "    y = np.arcsin(x)\n",
    "    z = np.arccos(x**2)\n",
    "    qubits = cirq.GridQubit.rect(5, 1)\n",
    "    circuit = cirq.Circuit()\n",
    "    for i in range(5):\n",
    "        circuit.append(cirq.ry(y).on(qubits[i]))\n",
    "        circuit.append(cirq.rz(z).on(qubits[i]))\n",
    "    return circuit\n"
   ]
  },
  {
   "cell_type": "code",
   "execution_count": 7,
   "metadata": {},
   "outputs": [],
   "source": [
    "x_train_circ = [convert_to_circuit(x) for x in x_train]\n",
    "x_test_circ = [convert_to_circuit(x) for x in x_test]"
   ]
  },
  {
   "cell_type": "code",
   "execution_count": 8,
   "metadata": {},
   "outputs": [
    {
     "name": "stderr",
     "output_type": "stream",
     "text": [
      "findfont: Font family ['Arial'] not found. Falling back to DejaVu Sans.\n"
     ]
    },
    {
     "data": {
      "image/svg+xml": [
       "<svg xmlns=\"http://www.w3.org/2000/svg\" width=\"317.5466796875\" height=\"250.0\"><line x1=\"34.7588671875\" x2=\"287.5466796875\" y1=\"25.0\" y2=\"25.0\" stroke=\"#1967d2\" stroke-width=\"1\" /><line x1=\"34.7588671875\" x2=\"287.5466796875\" y1=\"75.0\" y2=\"75.0\" stroke=\"#1967d2\" stroke-width=\"1\" /><line x1=\"34.7588671875\" x2=\"287.5466796875\" y1=\"125.0\" y2=\"125.0\" stroke=\"#1967d2\" stroke-width=\"1\" /><line x1=\"34.7588671875\" x2=\"287.5466796875\" y1=\"175.0\" y2=\"175.0\" stroke=\"#1967d2\" stroke-width=\"1\" /><line x1=\"34.7588671875\" x2=\"287.5466796875\" y1=\"225.0\" y2=\"225.0\" stroke=\"#1967d2\" stroke-width=\"1\" /><rect x=\"10.0\" y=\"5.0\" width=\"49.517734375\" height=\"40\" stroke=\"black\" fill=\"white\" stroke-width=\"0\" /><text x=\"34.7588671875\" y=\"25.0\" dominant-baseline=\"middle\" text-anchor=\"middle\" font-size=\"14px\">(0, 0): </text><rect x=\"10.0\" y=\"55.0\" width=\"49.517734375\" height=\"40\" stroke=\"black\" fill=\"white\" stroke-width=\"0\" /><text x=\"34.7588671875\" y=\"75.0\" dominant-baseline=\"middle\" text-anchor=\"middle\" font-size=\"14px\">(1, 0): </text><rect x=\"10.0\" y=\"105.0\" width=\"49.517734375\" height=\"40\" stroke=\"black\" fill=\"white\" stroke-width=\"0\" /><text x=\"34.7588671875\" y=\"125.0\" dominant-baseline=\"middle\" text-anchor=\"middle\" font-size=\"14px\">(2, 0): </text><rect x=\"10.0\" y=\"155.0\" width=\"49.517734375\" height=\"40\" stroke=\"black\" fill=\"white\" stroke-width=\"0\" /><text x=\"34.7588671875\" y=\"175.0\" dominant-baseline=\"middle\" text-anchor=\"middle\" font-size=\"14px\">(3, 0): </text><rect x=\"10.0\" y=\"205.0\" width=\"49.517734375\" height=\"40\" stroke=\"black\" fill=\"white\" stroke-width=\"0\" /><text x=\"34.7588671875\" y=\"225.0\" dominant-baseline=\"middle\" text-anchor=\"middle\" font-size=\"14px\">(4, 0): </text><rect x=\"79.517734375\" y=\"5.0\" width=\"84.097734375\" height=\"40\" stroke=\"black\" fill=\"white\" stroke-width=\"1\" /><text x=\"121.56660156250001\" y=\"25.0\" dominant-baseline=\"middle\" text-anchor=\"middle\" font-size=\"14px\">Ry(0.015π)</text><rect x=\"79.517734375\" y=\"55.0\" width=\"84.097734375\" height=\"40\" stroke=\"black\" fill=\"white\" stroke-width=\"1\" /><text x=\"121.56660156250001\" y=\"75.0\" dominant-baseline=\"middle\" text-anchor=\"middle\" font-size=\"14px\">Ry(0.015π)</text><rect x=\"79.517734375\" y=\"105.0\" width=\"84.097734375\" height=\"40\" stroke=\"black\" fill=\"white\" stroke-width=\"1\" /><text x=\"121.56660156250001\" y=\"125.0\" dominant-baseline=\"middle\" text-anchor=\"middle\" font-size=\"14px\">Ry(0.015π)</text><rect x=\"79.517734375\" y=\"155.0\" width=\"84.097734375\" height=\"40\" stroke=\"black\" fill=\"white\" stroke-width=\"1\" /><text x=\"121.56660156250001\" y=\"175.0\" dominant-baseline=\"middle\" text-anchor=\"middle\" font-size=\"14px\">Ry(0.015π)</text><rect x=\"79.517734375\" y=\"205.0\" width=\"84.097734375\" height=\"40\" stroke=\"black\" fill=\"white\" stroke-width=\"1\" /><text x=\"121.56660156250001\" y=\"225.0\" dominant-baseline=\"middle\" text-anchor=\"middle\" font-size=\"14px\">Ry(0.015π)</text><rect x=\"183.61546875\" y=\"5.0\" width=\"83.93121093750001\" height=\"40\" stroke=\"black\" fill=\"white\" stroke-width=\"1\" /><text x=\"225.58107421875\" y=\"25.0\" dominant-baseline=\"middle\" text-anchor=\"middle\" font-size=\"14px\">Rz(0.499π)</text><rect x=\"183.61546875\" y=\"55.0\" width=\"83.93121093750001\" height=\"40\" stroke=\"black\" fill=\"white\" stroke-width=\"1\" /><text x=\"225.58107421875\" y=\"75.0\" dominant-baseline=\"middle\" text-anchor=\"middle\" font-size=\"14px\">Rz(0.499π)</text><rect x=\"183.61546875\" y=\"105.0\" width=\"83.93121093750001\" height=\"40\" stroke=\"black\" fill=\"white\" stroke-width=\"1\" /><text x=\"225.58107421875\" y=\"125.0\" dominant-baseline=\"middle\" text-anchor=\"middle\" font-size=\"14px\">Rz(0.499π)</text><rect x=\"183.61546875\" y=\"155.0\" width=\"83.93121093750001\" height=\"40\" stroke=\"black\" fill=\"white\" stroke-width=\"1\" /><text x=\"225.58107421875\" y=\"175.0\" dominant-baseline=\"middle\" text-anchor=\"middle\" font-size=\"14px\">Rz(0.499π)</text><rect x=\"183.61546875\" y=\"205.0\" width=\"83.93121093750001\" height=\"40\" stroke=\"black\" fill=\"white\" stroke-width=\"1\" /><text x=\"225.58107421875\" y=\"225.0\" dominant-baseline=\"middle\" text-anchor=\"middle\" font-size=\"14px\">Rz(0.499π)</text></svg>"
      ],
      "text/plain": [
       "<cirq.contrib.svg.svg.SVGCircuit at 0x7f9bbffffe80>"
      ]
     },
     "execution_count": 8,
     "metadata": {},
     "output_type": "execute_result"
    }
   ],
   "source": [
    "SVGCircuit(x_train_circ[0])"
   ]
  },
  {
   "cell_type": "code",
   "execution_count": 9,
   "metadata": {},
   "outputs": [
    {
     "data": {
      "text/plain": [
       "(0.04826269008976736, 0.015368461591925014)"
      ]
     },
     "execution_count": 9,
     "metadata": {},
     "output_type": "execute_result"
    }
   ],
   "source": [
    "x_train[0],np.arcsin(x_train[0])/np.pi"
   ]
  },
  {
   "cell_type": "code",
   "execution_count": 10,
   "metadata": {},
   "outputs": [],
   "source": [
    "x_train_tfcirc = tfq.convert_to_tensor(x_train_circ)\n",
    "x_test_tfcirc = tfq.convert_to_tensor(x_test_circ)"
   ]
  },
  {
   "cell_type": "markdown",
   "metadata": {},
   "source": [
    "## パラメトリック量子回路（ニューラルネット）の作成"
   ]
  },
  {
   "cell_type": "code",
   "execution_count": 11,
   "metadata": {},
   "outputs": [],
   "source": [
    "class CircuitLayerBuilder():\n",
    "    def __init__(self, data_qubits, readout):\n",
    "        self.data_qubits = data_qubits\n",
    "        self.readout = readout\n",
    "    \n",
    "    def add_layer(self, circuit, gate, prefix):\n",
    "        for i, qubit in enumerate(self.data_qubits):\n",
    "            symbol = sympy.Symbol(prefix + '-' + str(i))\n",
    "            circuit.append(gate(qubit, self.readout)**symbol)\n",
    "            \n",
    "    def add_layer_single(self,circuit,gate,prefix):\n",
    "        symbol = sympy.Symbol(prefix + '-' + str(0))\n",
    "        circuit.append(gate(symbol).on(self.readout))\n",
    "        for i, qubit in enumerate(self.data_qubits):\n",
    "            symbol = sympy.Symbol(prefix + '-' + str(i+1))\n",
    "            circuit.append(gate(symbol).on(qubit))\n",
    "    \n",
    "    def add_entangler(self,circuit,len_qubit):\n",
    "        circuit.append(cirq.CZ(self.readout,self.data_qubits[0]))\n",
    "        for i in range(len_qubit-1):\n",
    "            circuit.append(cirq.CZ(self.data_qubits[i],self.data_qubits[(i+1)%len_qubit]))\n",
    "        circuit.append(cirq.CZ(self.readout,self.data_qubits[-1]))\n",
    "            "
   ]
  },
  {
   "cell_type": "code",
   "execution_count": 12,
   "metadata": {},
   "outputs": [],
   "source": [
    "def create_quantum_model(c_depth=3):\n",
    "    data_qubits = cirq.GridQubit.rect(5,1)\n",
    "    readout = cirq.GridQubit(-1,-1)\n",
    "    circuit = cirq.Circuit()\n",
    "\n",
    "    \n",
    "    builder = CircuitLayerBuilder(\n",
    "        data_qubits = data_qubits,\n",
    "        readout = readout\n",
    "    )\n",
    "    \n",
    "    for i in range(3):\n",
    "        builder.add_entangler(circuit,5)\n",
    "        builder.add_layer(circuit, gate = cirq.XX, prefix='xx'+str(i))\n",
    "        builder.add_layer(circuit, gate = cirq.ZZ, prefix='zz'+str(i))\n",
    "        builder.add_layer(circuit, gate = cirq.XX, prefix='xx1'+str(i))\n",
    "    \n",
    "    return circuit, cirq.Z(readout)"
   ]
  },
  {
   "cell_type": "code",
   "execution_count": 13,
   "metadata": {},
   "outputs": [],
   "source": [
    "model_circuit, model_readout = create_quantum_model()"
   ]
  },
  {
   "cell_type": "code",
   "execution_count": 14,
   "metadata": {},
   "outputs": [
    {
     "data": {
      "image/svg+xml": [
       "<svg xmlns=\"http://www.w3.org/2000/svg\" width=\"6236.281992187505\" height=\"300.0\"><line x1=\"39.810625\" x2=\"6206.281992187505\" y1=\"25.0\" y2=\"25.0\" stroke=\"#1967d2\" stroke-width=\"1\" /><line x1=\"39.810625\" x2=\"6206.281992187505\" y1=\"75.0\" y2=\"75.0\" stroke=\"#1967d2\" stroke-width=\"1\" /><line x1=\"39.810625\" x2=\"6206.281992187505\" y1=\"125.0\" y2=\"125.0\" stroke=\"#1967d2\" stroke-width=\"1\" /><line x1=\"39.810625\" x2=\"6206.281992187505\" y1=\"175.0\" y2=\"175.0\" stroke=\"#1967d2\" stroke-width=\"1\" /><line x1=\"39.810625\" x2=\"6206.281992187505\" y1=\"225.0\" y2=\"225.0\" stroke=\"#1967d2\" stroke-width=\"1\" /><line x1=\"39.810625\" x2=\"6206.281992187505\" y1=\"275.0\" y2=\"275.0\" stroke=\"#1967d2\" stroke-width=\"1\" /><line x1=\"109.62125\" x2=\"109.62125\" y1=\"25.0\" y2=\"75.0\" stroke=\"black\" stroke-width=\"3\" /><line x1=\"169.62125\" x2=\"169.62125\" y1=\"75.0\" y2=\"125.0\" stroke=\"black\" stroke-width=\"3\" /><line x1=\"229.62125\" x2=\"229.62125\" y1=\"125.0\" y2=\"175.0\" stroke=\"black\" stroke-width=\"3\" /><line x1=\"289.62125000000003\" x2=\"289.62125000000003\" y1=\"175.0\" y2=\"225.0\" stroke=\"black\" stroke-width=\"3\" /><line x1=\"349.62125000000003\" x2=\"349.62125000000003\" y1=\"225.0\" y2=\"275.0\" stroke=\"black\" stroke-width=\"3\" /><line x1=\"409.62125000000003\" x2=\"409.62125000000003\" y1=\"25.0\" y2=\"275.0\" stroke=\"black\" stroke-width=\"3\" /><line x1=\"494.44714843750006\" x2=\"494.44714843750006\" y1=\"25.0\" y2=\"75.0\" stroke=\"black\" stroke-width=\"3\" /><line x1=\"604.0989453125001\" x2=\"604.0989453125001\" y1=\"25.0\" y2=\"125.0\" stroke=\"black\" stroke-width=\"3\" /><line x1=\"713.7507421875001\" x2=\"713.7507421875001\" y1=\"25.0\" y2=\"175.0\" stroke=\"black\" stroke-width=\"3\" /><line x1=\"823.4025390625002\" x2=\"823.4025390625002\" y1=\"25.0\" y2=\"225.0\" stroke=\"black\" stroke-width=\"3\" /><line x1=\"933.0543359375002\" x2=\"933.0543359375002\" y1=\"25.0\" y2=\"275.0\" stroke=\"black\" stroke-width=\"3\" /><line x1=\"1041.6635156250004\" x2=\"1041.6635156250004\" y1=\"25.0\" y2=\"75.0\" stroke=\"black\" stroke-width=\"3\" /><line x1=\"1149.2300781250003\" x2=\"1149.2300781250003\" y1=\"25.0\" y2=\"125.0\" stroke=\"black\" stroke-width=\"3\" /><line x1=\"1256.7966406250002\" x2=\"1256.7966406250002\" y1=\"25.0\" y2=\"175.0\" stroke=\"black\" stroke-width=\"3\" /><line x1=\"1364.3632031250002\" x2=\"1364.3632031250002\" y1=\"25.0\" y2=\"225.0\" stroke=\"black\" stroke-width=\"3\" /><line x1=\"1471.929765625\" x2=\"1471.929765625\" y1=\"25.0\" y2=\"275.0\" stroke=\"black\" stroke-width=\"3\" /><line x1=\"1584.99255859375\" x2=\"1584.99255859375\" y1=\"25.0\" y2=\"75.0\" stroke=\"black\" stroke-width=\"3\" /><line x1=\"1703.5515820312498\" x2=\"1703.5515820312498\" y1=\"25.0\" y2=\"125.0\" stroke=\"black\" stroke-width=\"3\" /><line x1=\"1822.1106054687498\" x2=\"1822.1106054687498\" y1=\"25.0\" y2=\"175.0\" stroke=\"black\" stroke-width=\"3\" /><line x1=\"1940.6696289062497\" x2=\"1940.6696289062497\" y1=\"25.0\" y2=\"225.0\" stroke=\"black\" stroke-width=\"3\" /><line x1=\"2059.2286523437497\" x2=\"2059.2286523437497\" y1=\"25.0\" y2=\"275.0\" stroke=\"black\" stroke-width=\"3\" /><line x1=\"2148.5081640625\" x2=\"2148.5081640625\" y1=\"25.0\" y2=\"75.0\" stroke=\"black\" stroke-width=\"3\" /><line x1=\"2208.5081640625\" x2=\"2208.5081640625\" y1=\"75.0\" y2=\"125.0\" stroke=\"black\" stroke-width=\"3\" /><line x1=\"2268.5081640625\" x2=\"2268.5081640625\" y1=\"125.0\" y2=\"175.0\" stroke=\"black\" stroke-width=\"3\" /><line x1=\"2328.5081640625\" x2=\"2328.5081640625\" y1=\"175.0\" y2=\"225.0\" stroke=\"black\" stroke-width=\"3\" /><line x1=\"2388.5081640625\" x2=\"2388.5081640625\" y1=\"225.0\" y2=\"275.0\" stroke=\"black\" stroke-width=\"3\" /><line x1=\"2448.5081640625\" x2=\"2448.5081640625\" y1=\"25.0\" y2=\"275.0\" stroke=\"black\" stroke-width=\"3\" /><line x1=\"2533.3340625\" x2=\"2533.3340625\" y1=\"25.0\" y2=\"75.0\" stroke=\"black\" stroke-width=\"3\" /><line x1=\"2642.985859375\" x2=\"2642.985859375\" y1=\"25.0\" y2=\"125.0\" stroke=\"black\" stroke-width=\"3\" /><line x1=\"2752.63765625\" x2=\"2752.63765625\" y1=\"25.0\" y2=\"175.0\" stroke=\"black\" stroke-width=\"3\" /><line x1=\"2862.289453125\" x2=\"2862.289453125\" y1=\"25.0\" y2=\"225.0\" stroke=\"black\" stroke-width=\"3\" /><line x1=\"2971.94125\" x2=\"2971.94125\" y1=\"25.0\" y2=\"275.0\" stroke=\"black\" stroke-width=\"3\" /><line x1=\"3080.5504296874997\" x2=\"3080.5504296874997\" y1=\"25.0\" y2=\"75.0\" stroke=\"black\" stroke-width=\"3\" /><line x1=\"3188.1169921875\" x2=\"3188.1169921875\" y1=\"25.0\" y2=\"125.0\" stroke=\"black\" stroke-width=\"3\" /><line x1=\"3295.6835546875\" x2=\"3295.6835546875\" y1=\"25.0\" y2=\"175.0\" stroke=\"black\" stroke-width=\"3\" /><line x1=\"3403.2501171875\" x2=\"3403.2501171875\" y1=\"25.0\" y2=\"225.0\" stroke=\"black\" stroke-width=\"3\" /><line x1=\"3510.8166796875003\" x2=\"3510.8166796875003\" y1=\"25.0\" y2=\"275.0\" stroke=\"black\" stroke-width=\"3\" /><line x1=\"3623.8794726562505\" x2=\"3623.8794726562505\" y1=\"25.0\" y2=\"75.0\" stroke=\"black\" stroke-width=\"3\" /><line x1=\"3742.4384960937505\" x2=\"3742.4384960937505\" y1=\"25.0\" y2=\"125.0\" stroke=\"black\" stroke-width=\"3\" /><line x1=\"3860.9975195312504\" x2=\"3860.9975195312504\" y1=\"25.0\" y2=\"175.0\" stroke=\"black\" stroke-width=\"3\" /><line x1=\"3979.5565429687504\" x2=\"3979.5565429687504\" y1=\"25.0\" y2=\"225.0\" stroke=\"black\" stroke-width=\"3\" /><line x1=\"4098.11556640625\" x2=\"4098.11556640625\" y1=\"25.0\" y2=\"275.0\" stroke=\"black\" stroke-width=\"3\" /><line x1=\"4187.3950781250005\" x2=\"4187.3950781250005\" y1=\"25.0\" y2=\"75.0\" stroke=\"black\" stroke-width=\"3\" /><line x1=\"4247.3950781250005\" x2=\"4247.3950781250005\" y1=\"75.0\" y2=\"125.0\" stroke=\"black\" stroke-width=\"3\" /><line x1=\"4307.3950781250005\" x2=\"4307.3950781250005\" y1=\"125.0\" y2=\"175.0\" stroke=\"black\" stroke-width=\"3\" /><line x1=\"4367.3950781250005\" x2=\"4367.3950781250005\" y1=\"175.0\" y2=\"225.0\" stroke=\"black\" stroke-width=\"3\" /><line x1=\"4427.3950781250005\" x2=\"4427.3950781250005\" y1=\"225.0\" y2=\"275.0\" stroke=\"black\" stroke-width=\"3\" /><line x1=\"4487.3950781250005\" x2=\"4487.3950781250005\" y1=\"25.0\" y2=\"275.0\" stroke=\"black\" stroke-width=\"3\" /><line x1=\"4572.2209765625\" x2=\"4572.2209765625\" y1=\"25.0\" y2=\"75.0\" stroke=\"black\" stroke-width=\"3\" /><line x1=\"4681.872773437501\" x2=\"4681.872773437501\" y1=\"25.0\" y2=\"125.0\" stroke=\"black\" stroke-width=\"3\" /><line x1=\"4791.524570312501\" x2=\"4791.524570312501\" y1=\"25.0\" y2=\"175.0\" stroke=\"black\" stroke-width=\"3\" /><line x1=\"4901.1763671875015\" x2=\"4901.1763671875015\" y1=\"25.0\" y2=\"225.0\" stroke=\"black\" stroke-width=\"3\" /><line x1=\"5010.828164062502\" x2=\"5010.828164062502\" y1=\"25.0\" y2=\"275.0\" stroke=\"black\" stroke-width=\"3\" /><line x1=\"5119.437343750003\" x2=\"5119.437343750003\" y1=\"25.0\" y2=\"75.0\" stroke=\"black\" stroke-width=\"3\" /><line x1=\"5227.003906250003\" x2=\"5227.003906250003\" y1=\"25.0\" y2=\"125.0\" stroke=\"black\" stroke-width=\"3\" /><line x1=\"5334.570468750003\" x2=\"5334.570468750003\" y1=\"25.0\" y2=\"175.0\" stroke=\"black\" stroke-width=\"3\" /><line x1=\"5442.137031250003\" x2=\"5442.137031250003\" y1=\"25.0\" y2=\"225.0\" stroke=\"black\" stroke-width=\"3\" /><line x1=\"5549.703593750003\" x2=\"5549.703593750003\" y1=\"25.0\" y2=\"275.0\" stroke=\"black\" stroke-width=\"3\" /><line x1=\"5662.766386718753\" x2=\"5662.766386718753\" y1=\"25.0\" y2=\"75.0\" stroke=\"black\" stroke-width=\"3\" /><line x1=\"5781.325410156253\" x2=\"5781.325410156253\" y1=\"25.0\" y2=\"125.0\" stroke=\"black\" stroke-width=\"3\" /><line x1=\"5899.884433593754\" x2=\"5899.884433593754\" y1=\"25.0\" y2=\"175.0\" stroke=\"black\" stroke-width=\"3\" /><line x1=\"6018.443457031254\" x2=\"6018.443457031254\" y1=\"25.0\" y2=\"225.0\" stroke=\"black\" stroke-width=\"3\" /><line x1=\"6137.002480468755\" x2=\"6137.002480468755\" y1=\"25.0\" y2=\"275.0\" stroke=\"black\" stroke-width=\"3\" /><rect x=\"10.0\" y=\"5.0\" width=\"59.62125\" height=\"40\" stroke=\"black\" fill=\"white\" stroke-width=\"0\" /><text x=\"39.810625\" y=\"25.0\" dominant-baseline=\"middle\" text-anchor=\"middle\" font-size=\"14px\">(-1, -1): </text><rect x=\"10.0\" y=\"55.0\" width=\"59.62125\" height=\"40\" stroke=\"black\" fill=\"white\" stroke-width=\"0\" /><text x=\"39.810625\" y=\"75.0\" dominant-baseline=\"middle\" text-anchor=\"middle\" font-size=\"14px\">(0, 0): </text><rect x=\"10.0\" y=\"105.0\" width=\"59.62125\" height=\"40\" stroke=\"black\" fill=\"white\" stroke-width=\"0\" /><text x=\"39.810625\" y=\"125.0\" dominant-baseline=\"middle\" text-anchor=\"middle\" font-size=\"14px\">(1, 0): </text><rect x=\"10.0\" y=\"155.0\" width=\"59.62125\" height=\"40\" stroke=\"black\" fill=\"white\" stroke-width=\"0\" /><text x=\"39.810625\" y=\"175.0\" dominant-baseline=\"middle\" text-anchor=\"middle\" font-size=\"14px\">(2, 0): </text><rect x=\"10.0\" y=\"205.0\" width=\"59.62125\" height=\"40\" stroke=\"black\" fill=\"white\" stroke-width=\"0\" /><text x=\"39.810625\" y=\"225.0\" dominant-baseline=\"middle\" text-anchor=\"middle\" font-size=\"14px\">(3, 0): </text><rect x=\"10.0\" y=\"255.0\" width=\"59.62125\" height=\"40\" stroke=\"black\" fill=\"white\" stroke-width=\"0\" /><text x=\"39.810625\" y=\"275.0\" dominant-baseline=\"middle\" text-anchor=\"middle\" font-size=\"14px\">(4, 0): </text><circle cx=\"109.62125\" cy=\"25.0\" r=\"10.0\" /><circle cx=\"109.62125\" cy=\"75.0\" r=\"10.0\" /><circle cx=\"169.62125\" cy=\"75.0\" r=\"10.0\" /><circle cx=\"169.62125\" cy=\"125.0\" r=\"10.0\" /><circle cx=\"229.62125\" cy=\"125.0\" r=\"10.0\" /><circle cx=\"229.62125\" cy=\"175.0\" r=\"10.0\" /><circle cx=\"289.62125000000003\" cy=\"175.0\" r=\"10.0\" /><circle cx=\"289.62125000000003\" cy=\"225.0\" r=\"10.0\" /><circle cx=\"349.62125000000003\" cy=\"225.0\" r=\"10.0\" /><circle cx=\"349.62125000000003\" cy=\"275.0\" r=\"10.0\" /><circle cx=\"409.62125000000003\" cy=\"25.0\" r=\"10.0\" /><circle cx=\"409.62125000000003\" cy=\"275.0\" r=\"10.0\" /><rect x=\"449.62125000000003\" y=\"55.0\" width=\"89.65179687500002\" height=\"40\" stroke=\"black\" fill=\"white\" stroke-width=\"1\" /><text x=\"494.44714843750006\" y=\"75.0\" dominant-baseline=\"middle\" text-anchor=\"middle\" font-size=\"14px\">XX^(xx0-0)</text><rect x=\"449.62125000000003\" y=\"5.0\" width=\"89.65179687500002\" height=\"40\" stroke=\"black\" fill=\"white\" stroke-width=\"1\" /><text x=\"494.44714843750006\" y=\"25.0\" dominant-baseline=\"middle\" text-anchor=\"middle\" font-size=\"14px\">XX</text><rect x=\"559.2730468750001\" y=\"105.0\" width=\"89.65179687500002\" height=\"40\" stroke=\"black\" fill=\"white\" stroke-width=\"1\" /><text x=\"604.0989453125001\" y=\"125.0\" dominant-baseline=\"middle\" text-anchor=\"middle\" font-size=\"14px\">XX^(xx0-1)</text><rect x=\"559.2730468750001\" y=\"5.0\" width=\"89.65179687500002\" height=\"40\" stroke=\"black\" fill=\"white\" stroke-width=\"1\" /><text x=\"604.0989453125001\" y=\"25.0\" dominant-baseline=\"middle\" text-anchor=\"middle\" font-size=\"14px\">XX</text><rect x=\"668.9248437500002\" y=\"155.0\" width=\"89.65179687500002\" height=\"40\" stroke=\"black\" fill=\"white\" stroke-width=\"1\" /><text x=\"713.7507421875001\" y=\"175.0\" dominant-baseline=\"middle\" text-anchor=\"middle\" font-size=\"14px\">XX^(xx0-2)</text><rect x=\"668.9248437500002\" y=\"5.0\" width=\"89.65179687500002\" height=\"40\" stroke=\"black\" fill=\"white\" stroke-width=\"1\" /><text x=\"713.7507421875001\" y=\"25.0\" dominant-baseline=\"middle\" text-anchor=\"middle\" font-size=\"14px\">XX</text><rect x=\"778.5766406250002\" y=\"205.0\" width=\"89.65179687500002\" height=\"40\" stroke=\"black\" fill=\"white\" stroke-width=\"1\" /><text x=\"823.4025390625002\" y=\"225.0\" dominant-baseline=\"middle\" text-anchor=\"middle\" font-size=\"14px\">XX^(xx0-3)</text><rect x=\"778.5766406250002\" y=\"5.0\" width=\"89.65179687500002\" height=\"40\" stroke=\"black\" fill=\"white\" stroke-width=\"1\" /><text x=\"823.4025390625002\" y=\"25.0\" dominant-baseline=\"middle\" text-anchor=\"middle\" font-size=\"14px\">XX</text><rect x=\"888.2284375000003\" y=\"255.0\" width=\"89.65179687500002\" height=\"40\" stroke=\"black\" fill=\"white\" stroke-width=\"1\" /><text x=\"933.0543359375002\" y=\"275.0\" dominant-baseline=\"middle\" text-anchor=\"middle\" font-size=\"14px\">XX^(xx0-4)</text><rect x=\"888.2284375000003\" y=\"5.0\" width=\"89.65179687500002\" height=\"40\" stroke=\"black\" fill=\"white\" stroke-width=\"1\" /><text x=\"933.0543359375002\" y=\"25.0\" dominant-baseline=\"middle\" text-anchor=\"middle\" font-size=\"14px\">XX</text><rect x=\"997.8802343750004\" y=\"55.0\" width=\"87.56656250000002\" height=\"40\" stroke=\"black\" fill=\"white\" stroke-width=\"1\" /><text x=\"1041.6635156250004\" y=\"75.0\" dominant-baseline=\"middle\" text-anchor=\"middle\" font-size=\"14px\">ZZ^(zz0-0)</text><rect x=\"997.8802343750004\" y=\"5.0\" width=\"87.56656250000002\" height=\"40\" stroke=\"black\" fill=\"white\" stroke-width=\"1\" /><text x=\"1041.6635156250004\" y=\"25.0\" dominant-baseline=\"middle\" text-anchor=\"middle\" font-size=\"14px\">ZZ</text><rect x=\"1105.4467968750002\" y=\"105.0\" width=\"87.56656250000002\" height=\"40\" stroke=\"black\" fill=\"white\" stroke-width=\"1\" /><text x=\"1149.2300781250003\" y=\"125.0\" dominant-baseline=\"middle\" text-anchor=\"middle\" font-size=\"14px\">ZZ^(zz0-1)</text><rect x=\"1105.4467968750002\" y=\"5.0\" width=\"87.56656250000002\" height=\"40\" stroke=\"black\" fill=\"white\" stroke-width=\"1\" /><text x=\"1149.2300781250003\" y=\"25.0\" dominant-baseline=\"middle\" text-anchor=\"middle\" font-size=\"14px\">ZZ</text><rect x=\"1213.0133593750002\" y=\"155.0\" width=\"87.56656250000002\" height=\"40\" stroke=\"black\" fill=\"white\" stroke-width=\"1\" /><text x=\"1256.7966406250002\" y=\"175.0\" dominant-baseline=\"middle\" text-anchor=\"middle\" font-size=\"14px\">ZZ^(zz0-2)</text><rect x=\"1213.0133593750002\" y=\"5.0\" width=\"87.56656250000002\" height=\"40\" stroke=\"black\" fill=\"white\" stroke-width=\"1\" /><text x=\"1256.7966406250002\" y=\"25.0\" dominant-baseline=\"middle\" text-anchor=\"middle\" font-size=\"14px\">ZZ</text><rect x=\"1320.579921875\" y=\"205.0\" width=\"87.56656250000002\" height=\"40\" stroke=\"black\" fill=\"white\" stroke-width=\"1\" /><text x=\"1364.3632031250002\" y=\"225.0\" dominant-baseline=\"middle\" text-anchor=\"middle\" font-size=\"14px\">ZZ^(zz0-3)</text><rect x=\"1320.579921875\" y=\"5.0\" width=\"87.56656250000002\" height=\"40\" stroke=\"black\" fill=\"white\" stroke-width=\"1\" /><text x=\"1364.3632031250002\" y=\"25.0\" dominant-baseline=\"middle\" text-anchor=\"middle\" font-size=\"14px\">ZZ</text><rect x=\"1428.146484375\" y=\"255.0\" width=\"87.56656250000002\" height=\"40\" stroke=\"black\" fill=\"white\" stroke-width=\"1\" /><text x=\"1471.929765625\" y=\"275.0\" dominant-baseline=\"middle\" text-anchor=\"middle\" font-size=\"14px\">ZZ^(zz0-4)</text><rect x=\"1428.146484375\" y=\"5.0\" width=\"87.56656250000002\" height=\"40\" stroke=\"black\" fill=\"white\" stroke-width=\"1\" /><text x=\"1471.929765625\" y=\"25.0\" dominant-baseline=\"middle\" text-anchor=\"middle\" font-size=\"14px\">ZZ</text><rect x=\"1535.713046875\" y=\"55.0\" width=\"98.55902343750002\" height=\"40\" stroke=\"black\" fill=\"white\" stroke-width=\"1\" /><text x=\"1584.99255859375\" y=\"75.0\" dominant-baseline=\"middle\" text-anchor=\"middle\" font-size=\"14px\">XX^(xx10-0)</text><rect x=\"1535.713046875\" y=\"5.0\" width=\"98.55902343750002\" height=\"40\" stroke=\"black\" fill=\"white\" stroke-width=\"1\" /><text x=\"1584.99255859375\" y=\"25.0\" dominant-baseline=\"middle\" text-anchor=\"middle\" font-size=\"14px\">XX</text><rect x=\"1654.2720703124999\" y=\"105.0\" width=\"98.55902343750002\" height=\"40\" stroke=\"black\" fill=\"white\" stroke-width=\"1\" /><text x=\"1703.5515820312498\" y=\"125.0\" dominant-baseline=\"middle\" text-anchor=\"middle\" font-size=\"14px\">XX^(xx10-1)</text><rect x=\"1654.2720703124999\" y=\"5.0\" width=\"98.55902343750002\" height=\"40\" stroke=\"black\" fill=\"white\" stroke-width=\"1\" /><text x=\"1703.5515820312498\" y=\"25.0\" dominant-baseline=\"middle\" text-anchor=\"middle\" font-size=\"14px\">XX</text><rect x=\"1772.8310937499998\" y=\"155.0\" width=\"98.55902343750002\" height=\"40\" stroke=\"black\" fill=\"white\" stroke-width=\"1\" /><text x=\"1822.1106054687498\" y=\"175.0\" dominant-baseline=\"middle\" text-anchor=\"middle\" font-size=\"14px\">XX^(xx10-2)</text><rect x=\"1772.8310937499998\" y=\"5.0\" width=\"98.55902343750002\" height=\"40\" stroke=\"black\" fill=\"white\" stroke-width=\"1\" /><text x=\"1822.1106054687498\" y=\"25.0\" dominant-baseline=\"middle\" text-anchor=\"middle\" font-size=\"14px\">XX</text><rect x=\"1891.3901171874998\" y=\"205.0\" width=\"98.55902343750002\" height=\"40\" stroke=\"black\" fill=\"white\" stroke-width=\"1\" /><text x=\"1940.6696289062497\" y=\"225.0\" dominant-baseline=\"middle\" text-anchor=\"middle\" font-size=\"14px\">XX^(xx10-3)</text><rect x=\"1891.3901171874998\" y=\"5.0\" width=\"98.55902343750002\" height=\"40\" stroke=\"black\" fill=\"white\" stroke-width=\"1\" /><text x=\"1940.6696289062497\" y=\"25.0\" dominant-baseline=\"middle\" text-anchor=\"middle\" font-size=\"14px\">XX</text><rect x=\"2009.9491406249997\" y=\"255.0\" width=\"98.55902343750002\" height=\"40\" stroke=\"black\" fill=\"white\" stroke-width=\"1\" /><text x=\"2059.2286523437497\" y=\"275.0\" dominant-baseline=\"middle\" text-anchor=\"middle\" font-size=\"14px\">XX^(xx10-4)</text><rect x=\"2009.9491406249997\" y=\"5.0\" width=\"98.55902343750002\" height=\"40\" stroke=\"black\" fill=\"white\" stroke-width=\"1\" /><text x=\"2059.2286523437497\" y=\"25.0\" dominant-baseline=\"middle\" text-anchor=\"middle\" font-size=\"14px\">XX</text><circle cx=\"2148.5081640625\" cy=\"25.0\" r=\"10.0\" /><circle cx=\"2148.5081640625\" cy=\"75.0\" r=\"10.0\" /><circle cx=\"2208.5081640625\" cy=\"75.0\" r=\"10.0\" /><circle cx=\"2208.5081640625\" cy=\"125.0\" r=\"10.0\" /><circle cx=\"2268.5081640625\" cy=\"125.0\" r=\"10.0\" /><circle cx=\"2268.5081640625\" cy=\"175.0\" r=\"10.0\" /><circle cx=\"2328.5081640625\" cy=\"175.0\" r=\"10.0\" /><circle cx=\"2328.5081640625\" cy=\"225.0\" r=\"10.0\" /><circle cx=\"2388.5081640625\" cy=\"225.0\" r=\"10.0\" /><circle cx=\"2388.5081640625\" cy=\"275.0\" r=\"10.0\" /><circle cx=\"2448.5081640625\" cy=\"25.0\" r=\"10.0\" /><circle cx=\"2448.5081640625\" cy=\"275.0\" r=\"10.0\" /><rect x=\"2488.5081640625\" y=\"55.0\" width=\"89.65179687500002\" height=\"40\" stroke=\"black\" fill=\"white\" stroke-width=\"1\" /><text x=\"2533.3340625\" y=\"75.0\" dominant-baseline=\"middle\" text-anchor=\"middle\" font-size=\"14px\">XX^(xx1-0)</text><rect x=\"2488.5081640625\" y=\"5.0\" width=\"89.65179687500002\" height=\"40\" stroke=\"black\" fill=\"white\" stroke-width=\"1\" /><text x=\"2533.3340625\" y=\"25.0\" dominant-baseline=\"middle\" text-anchor=\"middle\" font-size=\"14px\">XX</text><rect x=\"2598.1599609375\" y=\"105.0\" width=\"89.65179687500002\" height=\"40\" stroke=\"black\" fill=\"white\" stroke-width=\"1\" /><text x=\"2642.985859375\" y=\"125.0\" dominant-baseline=\"middle\" text-anchor=\"middle\" font-size=\"14px\">XX^(xx1-1)</text><rect x=\"2598.1599609375\" y=\"5.0\" width=\"89.65179687500002\" height=\"40\" stroke=\"black\" fill=\"white\" stroke-width=\"1\" /><text x=\"2642.985859375\" y=\"25.0\" dominant-baseline=\"middle\" text-anchor=\"middle\" font-size=\"14px\">XX</text><rect x=\"2707.8117578124998\" y=\"155.0\" width=\"89.65179687500002\" height=\"40\" stroke=\"black\" fill=\"white\" stroke-width=\"1\" /><text x=\"2752.63765625\" y=\"175.0\" dominant-baseline=\"middle\" text-anchor=\"middle\" font-size=\"14px\">XX^(xx1-2)</text><rect x=\"2707.8117578124998\" y=\"5.0\" width=\"89.65179687500002\" height=\"40\" stroke=\"black\" fill=\"white\" stroke-width=\"1\" /><text x=\"2752.63765625\" y=\"25.0\" dominant-baseline=\"middle\" text-anchor=\"middle\" font-size=\"14px\">XX</text><rect x=\"2817.4635546874997\" y=\"205.0\" width=\"89.65179687500002\" height=\"40\" stroke=\"black\" fill=\"white\" stroke-width=\"1\" /><text x=\"2862.289453125\" y=\"225.0\" dominant-baseline=\"middle\" text-anchor=\"middle\" font-size=\"14px\">XX^(xx1-3)</text><rect x=\"2817.4635546874997\" y=\"5.0\" width=\"89.65179687500002\" height=\"40\" stroke=\"black\" fill=\"white\" stroke-width=\"1\" /><text x=\"2862.289453125\" y=\"25.0\" dominant-baseline=\"middle\" text-anchor=\"middle\" font-size=\"14px\">XX</text><rect x=\"2927.1153515624997\" y=\"255.0\" width=\"89.65179687500002\" height=\"40\" stroke=\"black\" fill=\"white\" stroke-width=\"1\" /><text x=\"2971.94125\" y=\"275.0\" dominant-baseline=\"middle\" text-anchor=\"middle\" font-size=\"14px\">XX^(xx1-4)</text><rect x=\"2927.1153515624997\" y=\"5.0\" width=\"89.65179687500002\" height=\"40\" stroke=\"black\" fill=\"white\" stroke-width=\"1\" /><text x=\"2971.94125\" y=\"25.0\" dominant-baseline=\"middle\" text-anchor=\"middle\" font-size=\"14px\">XX</text><rect x=\"3036.7671484374996\" y=\"55.0\" width=\"87.56656250000002\" height=\"40\" stroke=\"black\" fill=\"white\" stroke-width=\"1\" /><text x=\"3080.5504296874997\" y=\"75.0\" dominant-baseline=\"middle\" text-anchor=\"middle\" font-size=\"14px\">ZZ^(zz1-0)</text><rect x=\"3036.7671484374996\" y=\"5.0\" width=\"87.56656250000002\" height=\"40\" stroke=\"black\" fill=\"white\" stroke-width=\"1\" /><text x=\"3080.5504296874997\" y=\"25.0\" dominant-baseline=\"middle\" text-anchor=\"middle\" font-size=\"14px\">ZZ</text><rect x=\"3144.3337109374997\" y=\"105.0\" width=\"87.56656250000002\" height=\"40\" stroke=\"black\" fill=\"white\" stroke-width=\"1\" /><text x=\"3188.1169921875\" y=\"125.0\" dominant-baseline=\"middle\" text-anchor=\"middle\" font-size=\"14px\">ZZ^(zz1-1)</text><rect x=\"3144.3337109374997\" y=\"5.0\" width=\"87.56656250000002\" height=\"40\" stroke=\"black\" fill=\"white\" stroke-width=\"1\" /><text x=\"3188.1169921875\" y=\"25.0\" dominant-baseline=\"middle\" text-anchor=\"middle\" font-size=\"14px\">ZZ</text><rect x=\"3251.9002734375\" y=\"155.0\" width=\"87.56656250000002\" height=\"40\" stroke=\"black\" fill=\"white\" stroke-width=\"1\" /><text x=\"3295.6835546875\" y=\"175.0\" dominant-baseline=\"middle\" text-anchor=\"middle\" font-size=\"14px\">ZZ^(zz1-2)</text><rect x=\"3251.9002734375\" y=\"5.0\" width=\"87.56656250000002\" height=\"40\" stroke=\"black\" fill=\"white\" stroke-width=\"1\" /><text x=\"3295.6835546875\" y=\"25.0\" dominant-baseline=\"middle\" text-anchor=\"middle\" font-size=\"14px\">ZZ</text><rect x=\"3359.4668359375\" y=\"205.0\" width=\"87.56656250000002\" height=\"40\" stroke=\"black\" fill=\"white\" stroke-width=\"1\" /><text x=\"3403.2501171875\" y=\"225.0\" dominant-baseline=\"middle\" text-anchor=\"middle\" font-size=\"14px\">ZZ^(zz1-3)</text><rect x=\"3359.4668359375\" y=\"5.0\" width=\"87.56656250000002\" height=\"40\" stroke=\"black\" fill=\"white\" stroke-width=\"1\" /><text x=\"3403.2501171875\" y=\"25.0\" dominant-baseline=\"middle\" text-anchor=\"middle\" font-size=\"14px\">ZZ</text><rect x=\"3467.0333984375\" y=\"255.0\" width=\"87.56656250000002\" height=\"40\" stroke=\"black\" fill=\"white\" stroke-width=\"1\" /><text x=\"3510.8166796875003\" y=\"275.0\" dominant-baseline=\"middle\" text-anchor=\"middle\" font-size=\"14px\">ZZ^(zz1-4)</text><rect x=\"3467.0333984375\" y=\"5.0\" width=\"87.56656250000002\" height=\"40\" stroke=\"black\" fill=\"white\" stroke-width=\"1\" /><text x=\"3510.8166796875003\" y=\"25.0\" dominant-baseline=\"middle\" text-anchor=\"middle\" font-size=\"14px\">ZZ</text><rect x=\"3574.5999609375003\" y=\"55.0\" width=\"98.55902343750002\" height=\"40\" stroke=\"black\" fill=\"white\" stroke-width=\"1\" /><text x=\"3623.8794726562505\" y=\"75.0\" dominant-baseline=\"middle\" text-anchor=\"middle\" font-size=\"14px\">XX^(xx11-0)</text><rect x=\"3574.5999609375003\" y=\"5.0\" width=\"98.55902343750002\" height=\"40\" stroke=\"black\" fill=\"white\" stroke-width=\"1\" /><text x=\"3623.8794726562505\" y=\"25.0\" dominant-baseline=\"middle\" text-anchor=\"middle\" font-size=\"14px\">XX</text><rect x=\"3693.1589843750003\" y=\"105.0\" width=\"98.55902343750002\" height=\"40\" stroke=\"black\" fill=\"white\" stroke-width=\"1\" /><text x=\"3742.4384960937505\" y=\"125.0\" dominant-baseline=\"middle\" text-anchor=\"middle\" font-size=\"14px\">XX^(xx11-1)</text><rect x=\"3693.1589843750003\" y=\"5.0\" width=\"98.55902343750002\" height=\"40\" stroke=\"black\" fill=\"white\" stroke-width=\"1\" /><text x=\"3742.4384960937505\" y=\"25.0\" dominant-baseline=\"middle\" text-anchor=\"middle\" font-size=\"14px\">XX</text><rect x=\"3811.7180078125\" y=\"155.0\" width=\"98.55902343750002\" height=\"40\" stroke=\"black\" fill=\"white\" stroke-width=\"1\" /><text x=\"3860.9975195312504\" y=\"175.0\" dominant-baseline=\"middle\" text-anchor=\"middle\" font-size=\"14px\">XX^(xx11-2)</text><rect x=\"3811.7180078125\" y=\"5.0\" width=\"98.55902343750002\" height=\"40\" stroke=\"black\" fill=\"white\" stroke-width=\"1\" /><text x=\"3860.9975195312504\" y=\"25.0\" dominant-baseline=\"middle\" text-anchor=\"middle\" font-size=\"14px\">XX</text><rect x=\"3930.27703125\" y=\"205.0\" width=\"98.55902343750002\" height=\"40\" stroke=\"black\" fill=\"white\" stroke-width=\"1\" /><text x=\"3979.5565429687504\" y=\"225.0\" dominant-baseline=\"middle\" text-anchor=\"middle\" font-size=\"14px\">XX^(xx11-3)</text><rect x=\"3930.27703125\" y=\"5.0\" width=\"98.55902343750002\" height=\"40\" stroke=\"black\" fill=\"white\" stroke-width=\"1\" /><text x=\"3979.5565429687504\" y=\"25.0\" dominant-baseline=\"middle\" text-anchor=\"middle\" font-size=\"14px\">XX</text><rect x=\"4048.8360546874997\" y=\"255.0\" width=\"98.55902343750002\" height=\"40\" stroke=\"black\" fill=\"white\" stroke-width=\"1\" /><text x=\"4098.11556640625\" y=\"275.0\" dominant-baseline=\"middle\" text-anchor=\"middle\" font-size=\"14px\">XX^(xx11-4)</text><rect x=\"4048.8360546874997\" y=\"5.0\" width=\"98.55902343750002\" height=\"40\" stroke=\"black\" fill=\"white\" stroke-width=\"1\" /><text x=\"4098.11556640625\" y=\"25.0\" dominant-baseline=\"middle\" text-anchor=\"middle\" font-size=\"14px\">XX</text><circle cx=\"4187.3950781250005\" cy=\"25.0\" r=\"10.0\" /><circle cx=\"4187.3950781250005\" cy=\"75.0\" r=\"10.0\" /><circle cx=\"4247.3950781250005\" cy=\"75.0\" r=\"10.0\" /><circle cx=\"4247.3950781250005\" cy=\"125.0\" r=\"10.0\" /><circle cx=\"4307.3950781250005\" cy=\"125.0\" r=\"10.0\" /><circle cx=\"4307.3950781250005\" cy=\"175.0\" r=\"10.0\" /><circle cx=\"4367.3950781250005\" cy=\"175.0\" r=\"10.0\" /><circle cx=\"4367.3950781250005\" cy=\"225.0\" r=\"10.0\" /><circle cx=\"4427.3950781250005\" cy=\"225.0\" r=\"10.0\" /><circle cx=\"4427.3950781250005\" cy=\"275.0\" r=\"10.0\" /><circle cx=\"4487.3950781250005\" cy=\"25.0\" r=\"10.0\" /><circle cx=\"4487.3950781250005\" cy=\"275.0\" r=\"10.0\" /><rect x=\"4527.3950781250005\" y=\"55.0\" width=\"89.65179687500002\" height=\"40\" stroke=\"black\" fill=\"white\" stroke-width=\"1\" /><text x=\"4572.2209765625\" y=\"75.0\" dominant-baseline=\"middle\" text-anchor=\"middle\" font-size=\"14px\">XX^(xx2-0)</text><rect x=\"4527.3950781250005\" y=\"5.0\" width=\"89.65179687500002\" height=\"40\" stroke=\"black\" fill=\"white\" stroke-width=\"1\" /><text x=\"4572.2209765625\" y=\"25.0\" dominant-baseline=\"middle\" text-anchor=\"middle\" font-size=\"14px\">XX</text><rect x=\"4637.046875000001\" y=\"105.0\" width=\"89.65179687500002\" height=\"40\" stroke=\"black\" fill=\"white\" stroke-width=\"1\" /><text x=\"4681.872773437501\" y=\"125.0\" dominant-baseline=\"middle\" text-anchor=\"middle\" font-size=\"14px\">XX^(xx2-1)</text><rect x=\"4637.046875000001\" y=\"5.0\" width=\"89.65179687500002\" height=\"40\" stroke=\"black\" fill=\"white\" stroke-width=\"1\" /><text x=\"4681.872773437501\" y=\"25.0\" dominant-baseline=\"middle\" text-anchor=\"middle\" font-size=\"14px\">XX</text><rect x=\"4746.698671875001\" y=\"155.0\" width=\"89.65179687500002\" height=\"40\" stroke=\"black\" fill=\"white\" stroke-width=\"1\" /><text x=\"4791.524570312501\" y=\"175.0\" dominant-baseline=\"middle\" text-anchor=\"middle\" font-size=\"14px\">XX^(xx2-2)</text><rect x=\"4746.698671875001\" y=\"5.0\" width=\"89.65179687500002\" height=\"40\" stroke=\"black\" fill=\"white\" stroke-width=\"1\" /><text x=\"4791.524570312501\" y=\"25.0\" dominant-baseline=\"middle\" text-anchor=\"middle\" font-size=\"14px\">XX</text><rect x=\"4856.350468750002\" y=\"205.0\" width=\"89.65179687500002\" height=\"40\" stroke=\"black\" fill=\"white\" stroke-width=\"1\" /><text x=\"4901.1763671875015\" y=\"225.0\" dominant-baseline=\"middle\" text-anchor=\"middle\" font-size=\"14px\">XX^(xx2-3)</text><rect x=\"4856.350468750002\" y=\"5.0\" width=\"89.65179687500002\" height=\"40\" stroke=\"black\" fill=\"white\" stroke-width=\"1\" /><text x=\"4901.1763671875015\" y=\"25.0\" dominant-baseline=\"middle\" text-anchor=\"middle\" font-size=\"14px\">XX</text><rect x=\"4966.002265625002\" y=\"255.0\" width=\"89.65179687500002\" height=\"40\" stroke=\"black\" fill=\"white\" stroke-width=\"1\" /><text x=\"5010.828164062502\" y=\"275.0\" dominant-baseline=\"middle\" text-anchor=\"middle\" font-size=\"14px\">XX^(xx2-4)</text><rect x=\"4966.002265625002\" y=\"5.0\" width=\"89.65179687500002\" height=\"40\" stroke=\"black\" fill=\"white\" stroke-width=\"1\" /><text x=\"5010.828164062502\" y=\"25.0\" dominant-baseline=\"middle\" text-anchor=\"middle\" font-size=\"14px\">XX</text><rect x=\"5075.6540625000025\" y=\"55.0\" width=\"87.56656250000002\" height=\"40\" stroke=\"black\" fill=\"white\" stroke-width=\"1\" /><text x=\"5119.437343750003\" y=\"75.0\" dominant-baseline=\"middle\" text-anchor=\"middle\" font-size=\"14px\">ZZ^(zz2-0)</text><rect x=\"5075.6540625000025\" y=\"5.0\" width=\"87.56656250000002\" height=\"40\" stroke=\"black\" fill=\"white\" stroke-width=\"1\" /><text x=\"5119.437343750003\" y=\"25.0\" dominant-baseline=\"middle\" text-anchor=\"middle\" font-size=\"14px\">ZZ</text><rect x=\"5183.220625000003\" y=\"105.0\" width=\"87.56656250000002\" height=\"40\" stroke=\"black\" fill=\"white\" stroke-width=\"1\" /><text x=\"5227.003906250003\" y=\"125.0\" dominant-baseline=\"middle\" text-anchor=\"middle\" font-size=\"14px\">ZZ^(zz2-1)</text><rect x=\"5183.220625000003\" y=\"5.0\" width=\"87.56656250000002\" height=\"40\" stroke=\"black\" fill=\"white\" stroke-width=\"1\" /><text x=\"5227.003906250003\" y=\"25.0\" dominant-baseline=\"middle\" text-anchor=\"middle\" font-size=\"14px\">ZZ</text><rect x=\"5290.787187500003\" y=\"155.0\" width=\"87.56656250000002\" height=\"40\" stroke=\"black\" fill=\"white\" stroke-width=\"1\" /><text x=\"5334.570468750003\" y=\"175.0\" dominant-baseline=\"middle\" text-anchor=\"middle\" font-size=\"14px\">ZZ^(zz2-2)</text><rect x=\"5290.787187500003\" y=\"5.0\" width=\"87.56656250000002\" height=\"40\" stroke=\"black\" fill=\"white\" stroke-width=\"1\" /><text x=\"5334.570468750003\" y=\"25.0\" dominant-baseline=\"middle\" text-anchor=\"middle\" font-size=\"14px\">ZZ</text><rect x=\"5398.353750000003\" y=\"205.0\" width=\"87.56656250000002\" height=\"40\" stroke=\"black\" fill=\"white\" stroke-width=\"1\" /><text x=\"5442.137031250003\" y=\"225.0\" dominant-baseline=\"middle\" text-anchor=\"middle\" font-size=\"14px\">ZZ^(zz2-3)</text><rect x=\"5398.353750000003\" y=\"5.0\" width=\"87.56656250000002\" height=\"40\" stroke=\"black\" fill=\"white\" stroke-width=\"1\" /><text x=\"5442.137031250003\" y=\"25.0\" dominant-baseline=\"middle\" text-anchor=\"middle\" font-size=\"14px\">ZZ</text><rect x=\"5505.920312500003\" y=\"255.0\" width=\"87.56656250000002\" height=\"40\" stroke=\"black\" fill=\"white\" stroke-width=\"1\" /><text x=\"5549.703593750003\" y=\"275.0\" dominant-baseline=\"middle\" text-anchor=\"middle\" font-size=\"14px\">ZZ^(zz2-4)</text><rect x=\"5505.920312500003\" y=\"5.0\" width=\"87.56656250000002\" height=\"40\" stroke=\"black\" fill=\"white\" stroke-width=\"1\" /><text x=\"5549.703593750003\" y=\"25.0\" dominant-baseline=\"middle\" text-anchor=\"middle\" font-size=\"14px\">ZZ</text><rect x=\"5613.486875000003\" y=\"55.0\" width=\"98.55902343750002\" height=\"40\" stroke=\"black\" fill=\"white\" stroke-width=\"1\" /><text x=\"5662.766386718753\" y=\"75.0\" dominant-baseline=\"middle\" text-anchor=\"middle\" font-size=\"14px\">XX^(xx12-0)</text><rect x=\"5613.486875000003\" y=\"5.0\" width=\"98.55902343750002\" height=\"40\" stroke=\"black\" fill=\"white\" stroke-width=\"1\" /><text x=\"5662.766386718753\" y=\"25.0\" dominant-baseline=\"middle\" text-anchor=\"middle\" font-size=\"14px\">XX</text><rect x=\"5732.045898437504\" y=\"105.0\" width=\"98.55902343750002\" height=\"40\" stroke=\"black\" fill=\"white\" stroke-width=\"1\" /><text x=\"5781.325410156253\" y=\"125.0\" dominant-baseline=\"middle\" text-anchor=\"middle\" font-size=\"14px\">XX^(xx12-1)</text><rect x=\"5732.045898437504\" y=\"5.0\" width=\"98.55902343750002\" height=\"40\" stroke=\"black\" fill=\"white\" stroke-width=\"1\" /><text x=\"5781.325410156253\" y=\"25.0\" dominant-baseline=\"middle\" text-anchor=\"middle\" font-size=\"14px\">XX</text><rect x=\"5850.604921875004\" y=\"155.0\" width=\"98.55902343750002\" height=\"40\" stroke=\"black\" fill=\"white\" stroke-width=\"1\" /><text x=\"5899.884433593754\" y=\"175.0\" dominant-baseline=\"middle\" text-anchor=\"middle\" font-size=\"14px\">XX^(xx12-2)</text><rect x=\"5850.604921875004\" y=\"5.0\" width=\"98.55902343750002\" height=\"40\" stroke=\"black\" fill=\"white\" stroke-width=\"1\" /><text x=\"5899.884433593754\" y=\"25.0\" dominant-baseline=\"middle\" text-anchor=\"middle\" font-size=\"14px\">XX</text><rect x=\"5969.163945312504\" y=\"205.0\" width=\"98.55902343750002\" height=\"40\" stroke=\"black\" fill=\"white\" stroke-width=\"1\" /><text x=\"6018.443457031254\" y=\"225.0\" dominant-baseline=\"middle\" text-anchor=\"middle\" font-size=\"14px\">XX^(xx12-3)</text><rect x=\"5969.163945312504\" y=\"5.0\" width=\"98.55902343750002\" height=\"40\" stroke=\"black\" fill=\"white\" stroke-width=\"1\" /><text x=\"6018.443457031254\" y=\"25.0\" dominant-baseline=\"middle\" text-anchor=\"middle\" font-size=\"14px\">XX</text><rect x=\"6087.722968750005\" y=\"255.0\" width=\"98.55902343750002\" height=\"40\" stroke=\"black\" fill=\"white\" stroke-width=\"1\" /><text x=\"6137.002480468755\" y=\"275.0\" dominant-baseline=\"middle\" text-anchor=\"middle\" font-size=\"14px\">XX^(xx12-4)</text><rect x=\"6087.722968750005\" y=\"5.0\" width=\"98.55902343750002\" height=\"40\" stroke=\"black\" fill=\"white\" stroke-width=\"1\" /><text x=\"6137.002480468755\" y=\"25.0\" dominant-baseline=\"middle\" text-anchor=\"middle\" font-size=\"14px\">XX</text></svg>"
      ],
      "text/plain": [
       "<cirq.contrib.svg.svg.SVGCircuit at 0x7f9b414c24a8>"
      ]
     },
     "execution_count": 14,
     "metadata": {},
     "output_type": "execute_result"
    }
   ],
   "source": [
    "SVGCircuit(model_circuit)"
   ]
  },
  {
   "cell_type": "code",
   "execution_count": 15,
   "metadata": {},
   "outputs": [
    {
     "data": {
      "text/plain": [
       "cirq.Z.on(cirq.GridQubit(-1, -1))"
      ]
     },
     "execution_count": 15,
     "metadata": {},
     "output_type": "execute_result"
    }
   ],
   "source": [
    "model_readout"
   ]
  },
  {
   "cell_type": "code",
   "execution_count": 16,
   "metadata": {},
   "outputs": [],
   "source": [
    "# Build the Keras model.\n",
    "model = tf.keras.Sequential([\n",
    "    # The input is the data-circuit, encoded as a tf.string\n",
    "    tf.keras.layers.Input(shape=(), dtype=tf.string),\n",
    "    # The PQC layer returns the expected value of the readout gate, range [-1,1].\n",
    "    tfq.layers.PQC(model_circuit, model_readout),\n",
    "])"
   ]
  },
  {
   "cell_type": "code",
   "execution_count": null,
   "metadata": {},
   "outputs": [],
   "source": []
  },
  {
   "cell_type": "code",
   "execution_count": 17,
   "metadata": {},
   "outputs": [],
   "source": [
    "model.compile(\n",
    "    loss=tf.keras.losses.mse,\n",
    "    optimizer=tf.keras.optimizers.Adam(),\n",
    "    metrics=['mae'])"
   ]
  },
  {
   "cell_type": "code",
   "execution_count": 18,
   "metadata": {},
   "outputs": [
    {
     "name": "stdout",
     "output_type": "stream",
     "text": [
      "Model: \"sequential\"\n",
      "_________________________________________________________________\n",
      "Layer (type)                 Output Shape              Param #   \n",
      "=================================================================\n",
      "pqc (PQC)                    (None, 1)                 45        \n",
      "=================================================================\n",
      "Total params: 45\n",
      "Trainable params: 45\n",
      "Non-trainable params: 0\n",
      "_________________________________________________________________\n",
      "None\n"
     ]
    }
   ],
   "source": [
    "print(model.summary())"
   ]
  },
  {
   "cell_type": "code",
   "execution_count": 19,
   "metadata": {},
   "outputs": [],
   "source": [
    "EPOCHS = 100\n",
    "BATCH_SIZE = 50"
   ]
  },
  {
   "cell_type": "code",
   "execution_count": null,
   "metadata": {},
   "outputs": [
    {
     "name": "stdout",
     "output_type": "stream",
     "text": [
      "Train on 150 samples, validate on 50 samples\n",
      "Epoch 1/100\n",
      "150/150 [==============================] - 4s 29ms/sample - loss: 0.4203 - mae: 0.5814 - val_loss: 0.4318 - val_mae: 0.5934\n",
      "Epoch 2/100\n",
      "150/150 [==============================] - 3s 17ms/sample - loss: 0.3745 - mae: 0.5482 - val_loss: 0.3909 - val_mae: 0.5628\n",
      "Epoch 3/100\n",
      "150/150 [==============================] - 3s 17ms/sample - loss: 0.3381 - mae: 0.5168 - val_loss: 0.3569 - val_mae: 0.5366\n",
      "Epoch 4/100\n",
      "150/150 [==============================] - 3s 17ms/sample - loss: 0.3100 - mae: 0.4923 - val_loss: 0.3286 - val_mae: 0.5129\n",
      "Epoch 5/100\n",
      "150/150 [==============================] - 3s 17ms/sample - loss: 0.2851 - mae: 0.4702 - val_loss: 0.3032 - val_mae: 0.4920\n",
      "Epoch 6/100\n",
      "150/150 [==============================] - 3s 17ms/sample - loss: 0.2635 - mae: 0.4512 - val_loss: 0.2806 - val_mae: 0.4735\n",
      "Epoch 7/100\n",
      "150/150 [==============================] - 3s 17ms/sample - loss: 0.2443 - mae: 0.4346 - val_loss: 0.2612 - val_mae: 0.4571\n",
      "Epoch 8/100\n",
      "150/150 [==============================] - 3s 19ms/sample - loss: 0.2279 - mae: 0.4202 - val_loss: 0.2444 - val_mae: 0.4425\n",
      "Epoch 9/100\n",
      "150/150 [==============================] - 3s 19ms/sample - loss: 0.2145 - mae: 0.4082 - val_loss: 0.2291 - val_mae: 0.4294\n",
      "Epoch 10/100\n",
      "150/150 [==============================] - 3s 17ms/sample - loss: 0.2017 - mae: 0.3966 - val_loss: 0.2161 - val_mae: 0.4178\n",
      "Epoch 11/100\n",
      "150/150 [==============================] - 3s 20ms/sample - loss: 0.1912 - mae: 0.3867 - val_loss: 0.2049 - val_mae: 0.4073\n",
      "Epoch 12/100\n",
      "150/150 [==============================] - 3s 17ms/sample - loss: 0.1823 - mae: 0.3779 - val_loss: 0.1951 - val_mae: 0.3978\n",
      "Epoch 13/100\n",
      "150/150 [==============================] - 3s 17ms/sample - loss: 0.1744 - mae: 0.3697 - val_loss: 0.1866 - val_mae: 0.3893\n",
      "Epoch 14/100\n",
      "150/150 [==============================] - 3s 17ms/sample - loss: 0.1675 - mae: 0.3625 - val_loss: 0.1793 - val_mae: 0.3818\n",
      "Epoch 15/100\n",
      "150/150 [==============================] - 3s 17ms/sample - loss: 0.1614 - mae: 0.3560 - val_loss: 0.1734 - val_mae: 0.3754\n",
      "Epoch 16/100\n",
      "150/150 [==============================] - 3s 17ms/sample - loss: 0.1563 - mae: 0.3502 - val_loss: 0.1678 - val_mae: 0.3695\n",
      "Epoch 17/100\n",
      "150/150 [==============================] - 3s 17ms/sample - loss: 0.1518 - mae: 0.3451 - val_loss: 0.1629 - val_mae: 0.3641\n",
      "Epoch 18/100\n",
      "150/150 [==============================] - 3s 17ms/sample - loss: 0.1477 - mae: 0.3407 - val_loss: 0.1586 - val_mae: 0.3595\n",
      "Epoch 19/100\n",
      "150/150 [==============================] - 3s 17ms/sample - loss: 0.1442 - mae: 0.3366 - val_loss: 0.1547 - val_mae: 0.3552\n",
      "Epoch 20/100\n",
      "150/150 [==============================] - 3s 17ms/sample - loss: 0.1410 - mae: 0.3329 - val_loss: 0.1512 - val_mae: 0.3513\n",
      "Epoch 21/100\n",
      "150/150 [==============================] - 3s 17ms/sample - loss: 0.1380 - mae: 0.3294 - val_loss: 0.1482 - val_mae: 0.3478\n",
      "Epoch 22/100\n",
      "150/150 [==============================] - 3s 17ms/sample - loss: 0.1354 - mae: 0.3263 - val_loss: 0.1455 - val_mae: 0.3446\n",
      "Epoch 23/100\n",
      "150/150 [==============================] - 3s 17ms/sample - loss: 0.1331 - mae: 0.3234 - val_loss: 0.1431 - val_mae: 0.3416\n",
      "Epoch 24/100\n",
      "150/150 [==============================] - 3s 17ms/sample - loss: 0.1310 - mae: 0.3208 - val_loss: 0.1407 - val_mae: 0.3389\n",
      "Epoch 25/100\n",
      "150/150 [==============================] - 3s 17ms/sample - loss: 0.1289 - mae: 0.3183 - val_loss: 0.1387 - val_mae: 0.3364\n",
      "Epoch 26/100\n",
      "150/150 [==============================] - 3s 17ms/sample - loss: 0.1272 - mae: 0.3160 - val_loss: 0.1367 - val_mae: 0.3340\n",
      "Epoch 27/100\n",
      "150/150 [==============================] - 3s 17ms/sample - loss: 0.1253 - mae: 0.3138 - val_loss: 0.1350 - val_mae: 0.3318\n",
      "Epoch 28/100\n",
      "150/150 [==============================] - 3s 19ms/sample - loss: 0.1237 - mae: 0.3118 - val_loss: 0.1332 - val_mae: 0.3296\n",
      "Epoch 29/100\n",
      "150/150 [==============================] - 3s 18ms/sample - loss: 0.1222 - mae: 0.3099 - val_loss: 0.1314 - val_mae: 0.3276\n",
      "Epoch 30/100\n",
      "150/150 [==============================] - 3s 17ms/sample - loss: 0.1208 - mae: 0.3081 - val_loss: 0.1297 - val_mae: 0.3256\n",
      "Epoch 31/100\n",
      "150/150 [==============================] - 3s 17ms/sample - loss: 0.1194 - mae: 0.3063 - val_loss: 0.1283 - val_mae: 0.3237\n",
      "Epoch 32/100\n",
      "150/150 [==============================] - 3s 17ms/sample - loss: 0.1180 - mae: 0.3046 - val_loss: 0.1268 - val_mae: 0.3218\n",
      "Epoch 33/100\n",
      "150/150 [==============================] - 3s 17ms/sample - loss: 0.1168 - mae: 0.3030 - val_loss: 0.1255 - val_mae: 0.3200\n",
      "Epoch 34/100\n",
      "150/150 [==============================] - 3s 17ms/sample - loss: 0.1155 - mae: 0.3013 - val_loss: 0.1240 - val_mae: 0.3182\n",
      "Epoch 35/100\n",
      "150/150 [==============================] - 3s 17ms/sample - loss: 0.1142 - mae: 0.2996 - val_loss: 0.1226 - val_mae: 0.3164\n",
      "Epoch 36/100\n",
      "150/150 [==============================] - 3s 19ms/sample - loss: 0.1130 - mae: 0.2981 - val_loss: 0.1212 - val_mae: 0.3146\n",
      "Epoch 37/100\n",
      "150/150 [==============================] - 3s 17ms/sample - loss: 0.1118 - mae: 0.2966 - val_loss: 0.1198 - val_mae: 0.3128\n",
      "Epoch 38/100\n",
      "150/150 [==============================] - 3s 17ms/sample - loss: 0.1106 - mae: 0.2951 - val_loss: 0.1185 - val_mae: 0.3111\n",
      "Epoch 39/100\n",
      "150/150 [==============================] - 3s 17ms/sample - loss: 0.1094 - mae: 0.2936 - val_loss: 0.1170 - val_mae: 0.3094\n",
      "Epoch 40/100\n",
      "150/150 [==============================] - 3s 17ms/sample - loss: 0.1082 - mae: 0.2921 - val_loss: 0.1157 - val_mae: 0.3077\n",
      "Epoch 41/100\n",
      "150/150 [==============================] - 3s 17ms/sample - loss: 0.1071 - mae: 0.2907 - val_loss: 0.1145 - val_mae: 0.3060\n",
      "Epoch 42/100\n",
      "150/150 [==============================] - 3s 17ms/sample - loss: 0.1061 - mae: 0.2893 - val_loss: 0.1132 - val_mae: 0.3043\n",
      "Epoch 43/100\n",
      "150/150 [==============================] - 3s 17ms/sample - loss: 0.1050 - mae: 0.2878 - val_loss: 0.1117 - val_mae: 0.3026\n",
      "Epoch 44/100\n",
      "150/150 [==============================] - 3s 17ms/sample - loss: 0.1039 - mae: 0.2865 - val_loss: 0.1104 - val_mae: 0.3010\n",
      "Epoch 45/100\n",
      "150/150 [==============================] - 3s 17ms/sample - loss: 0.1031 - mae: 0.2854 - val_loss: 0.1094 - val_mae: 0.2992\n",
      "Epoch 46/100\n",
      "150/150 [==============================] - 3s 18ms/sample - loss: 0.1018 - mae: 0.2837 - val_loss: 0.1079 - val_mae: 0.2976\n",
      "Epoch 47/100\n",
      "150/150 [==============================] - 3s 17ms/sample - loss: 0.1007 - mae: 0.2823 - val_loss: 0.1067 - val_mae: 0.2960\n",
      "Epoch 48/100\n",
      "150/150 [==============================] - 3s 17ms/sample - loss: 0.0997 - mae: 0.2810 - val_loss: 0.1055 - val_mae: 0.2942\n",
      "Epoch 49/100\n",
      "150/150 [==============================] - 3s 19ms/sample - loss: 0.0987 - mae: 0.2796 - val_loss: 0.1043 - val_mae: 0.2926\n",
      "Epoch 50/100\n",
      "150/150 [==============================] - 3s 19ms/sample - loss: 0.0977 - mae: 0.2783 - val_loss: 0.1031 - val_mae: 0.2909\n",
      "Epoch 51/100\n",
      "150/150 [==============================] - 3s 18ms/sample - loss: 0.0967 - mae: 0.2770 - val_loss: 0.1018 - val_mae: 0.2892\n",
      "Epoch 52/100\n",
      "150/150 [==============================] - 3s 17ms/sample - loss: 0.0956 - mae: 0.2756 - val_loss: 0.1007 - val_mae: 0.2876\n",
      "Epoch 53/100\n",
      "150/150 [==============================] - 3s 17ms/sample - loss: 0.0947 - mae: 0.2744 - val_loss: 0.0994 - val_mae: 0.2860\n",
      "Epoch 54/100\n",
      "150/150 [==============================] - 3s 17ms/sample - loss: 0.0939 - mae: 0.2733 - val_loss: 0.0982 - val_mae: 0.2844\n",
      "Epoch 55/100\n",
      "150/150 [==============================] - 3s 18ms/sample - loss: 0.0929 - mae: 0.2718 - val_loss: 0.0970 - val_mae: 0.2827\n",
      "Epoch 56/100\n",
      "150/150 [==============================] - 3s 18ms/sample - loss: 0.0919 - mae: 0.2705 - val_loss: 0.0960 - val_mae: 0.2810\n",
      "Epoch 57/100\n",
      "150/150 [==============================] - 3s 18ms/sample - loss: 0.0909 - mae: 0.2692 - val_loss: 0.0949 - val_mae: 0.2794\n",
      "Epoch 58/100\n",
      "150/150 [==============================] - 3s 17ms/sample - loss: 0.0901 - mae: 0.2681 - val_loss: 0.0937 - val_mae: 0.2778\n",
      "Epoch 59/100\n",
      "150/150 [==============================] - 3s 17ms/sample - loss: 0.0891 - mae: 0.2666 - val_loss: 0.0926 - val_mae: 0.2762\n",
      "Epoch 60/100\n"
     ]
    },
    {
     "name": "stdout",
     "output_type": "stream",
     "text": [
      "150/150 [==============================] - 3s 17ms/sample - loss: 0.0882 - mae: 0.2655 - val_loss: 0.0915 - val_mae: 0.2745\n",
      "Epoch 61/100\n",
      "150/150 [==============================] - 3s 17ms/sample - loss: 0.0874 - mae: 0.2644 - val_loss: 0.0905 - val_mae: 0.2728\n",
      "Epoch 62/100\n",
      "150/150 [==============================] - 3s 17ms/sample - loss: 0.0864 - mae: 0.2630 - val_loss: 0.0893 - val_mae: 0.2713\n",
      "Epoch 63/100\n",
      "150/150 [==============================] - 3s 17ms/sample - loss: 0.0855 - mae: 0.2616 - val_loss: 0.0884 - val_mae: 0.2697\n",
      "Epoch 64/100\n",
      "150/150 [==============================] - 3s 17ms/sample - loss: 0.0846 - mae: 0.2603 - val_loss: 0.0873 - val_mae: 0.2682\n",
      "Epoch 65/100\n",
      "150/150 [==============================] - 3s 17ms/sample - loss: 0.0838 - mae: 0.2589 - val_loss: 0.0863 - val_mae: 0.2667\n",
      "Epoch 66/100\n",
      "150/150 [==============================] - 3s 17ms/sample - loss: 0.0829 - mae: 0.2576 - val_loss: 0.0853 - val_mae: 0.2651\n",
      "Epoch 67/100\n",
      "150/150 [==============================] - 3s 17ms/sample - loss: 0.0820 - mae: 0.2563 - val_loss: 0.0843 - val_mae: 0.2635\n",
      "Epoch 68/100\n",
      "150/150 [==============================] - 3s 17ms/sample - loss: 0.0811 - mae: 0.2550 - val_loss: 0.0834 - val_mae: 0.2620\n",
      "Epoch 69/100\n",
      "150/150 [==============================] - 3s 17ms/sample - loss: 0.0802 - mae: 0.2536 - val_loss: 0.0825 - val_mae: 0.2605\n",
      "Epoch 70/100\n",
      "150/150 [==============================] - 3s 17ms/sample - loss: 0.0794 - mae: 0.2522 - val_loss: 0.0815 - val_mae: 0.2589\n",
      "Epoch 71/100\n",
      "150/150 [==============================] - 3s 17ms/sample - loss: 0.0785 - mae: 0.2510 - val_loss: 0.0806 - val_mae: 0.2574\n",
      "Epoch 72/100\n",
      "150/150 [==============================] - 3s 17ms/sample - loss: 0.0776 - mae: 0.2495 - val_loss: 0.0796 - val_mae: 0.2559\n",
      "Epoch 73/100\n",
      "150/150 [==============================] - 3s 17ms/sample - loss: 0.0768 - mae: 0.2481 - val_loss: 0.0787 - val_mae: 0.2544\n",
      "Epoch 74/100\n",
      "150/150 [==============================] - 3s 17ms/sample - loss: 0.0759 - mae: 0.2466 - val_loss: 0.0779 - val_mae: 0.2529\n",
      "Epoch 75/100\n",
      "150/150 [==============================] - 3s 17ms/sample - loss: 0.0751 - mae: 0.2454 - val_loss: 0.0771 - val_mae: 0.2514\n",
      "Epoch 76/100\n",
      "150/150 [==============================] - 3s 17ms/sample - loss: 0.0742 - mae: 0.2438 - val_loss: 0.0763 - val_mae: 0.2500\n",
      "Epoch 77/100\n",
      "150/150 [==============================] - 3s 17ms/sample - loss: 0.0734 - mae: 0.2422 - val_loss: 0.0755 - val_mae: 0.2486\n",
      "Epoch 78/100\n",
      "150/150 [==============================] - 3s 17ms/sample - loss: 0.0727 - mae: 0.2412 - val_loss: 0.0748 - val_mae: 0.2472\n",
      "Epoch 79/100\n",
      "150/150 [==============================] - 3s 17ms/sample - loss: 0.0718 - mae: 0.2397 - val_loss: 0.0740 - val_mae: 0.2458\n",
      "Epoch 80/100\n",
      "150/150 [==============================] - 3s 17ms/sample - loss: 0.0710 - mae: 0.2383 - val_loss: 0.0733 - val_mae: 0.2445\n",
      "Epoch 81/100\n",
      "150/150 [==============================] - 3s 17ms/sample - loss: 0.0703 - mae: 0.2371 - val_loss: 0.0726 - val_mae: 0.2432\n",
      "Epoch 82/100\n",
      "150/150 [==============================] - 3s 17ms/sample - loss: 0.0697 - mae: 0.2360 - val_loss: 0.0719 - val_mae: 0.2420\n",
      "Epoch 83/100\n",
      "150/150 [==============================] - 3s 17ms/sample - loss: 0.0689 - mae: 0.2345 - val_loss: 0.0713 - val_mae: 0.2409\n",
      "Epoch 84/100\n",
      "150/150 [==============================] - 3s 20ms/sample - loss: 0.0682 - mae: 0.2332 - val_loss: 0.0708 - val_mae: 0.2398\n",
      "Epoch 85/100\n",
      "150/150 [==============================] - 3s 18ms/sample - loss: 0.0677 - mae: 0.2320 - val_loss: 0.0702 - val_mae: 0.2387\n",
      "Epoch 86/100\n",
      "150/150 [==============================] - 3s 19ms/sample - loss: 0.0672 - mae: 0.2313 - val_loss: 0.0697 - val_mae: 0.2377\n",
      "Epoch 87/100\n",
      "150/150 [==============================] - 3s 19ms/sample - loss: 0.0665 - mae: 0.2301 - val_loss: 0.0692 - val_mae: 0.2367\n",
      "Epoch 88/100\n",
      "150/150 [==============================] - 3s 18ms/sample - loss: 0.0659 - mae: 0.2290 - val_loss: 0.0688 - val_mae: 0.2358\n",
      "Epoch 89/100\n",
      "150/150 [==============================] - 3s 18ms/sample - loss: 0.0654 - mae: 0.2279 - val_loss: 0.0683 - val_mae: 0.2349\n",
      "Epoch 90/100\n",
      "150/150 [==============================] - 3s 17ms/sample - loss: 0.0650 - mae: 0.2269 - val_loss: 0.0679 - val_mae: 0.2340\n",
      "Epoch 91/100\n",
      "125/150 [========================>.....] - ETA: 0s - loss: 0.0637 - mae: 0.2260"
     ]
    }
   ],
   "source": [
    "qnn_history = model.fit(\n",
    "      x_train_tfcirc, y_train,\n",
    "      batch_size=25,\n",
    "      epochs=EPOCHS,\n",
    "      verbose=1,\n",
    "      validation_data=(x_test_tfcirc,y_test)\n",
    ")"
   ]
  },
  {
   "cell_type": "code",
   "execution_count": 254,
   "metadata": {},
   "outputs": [
    {
     "name": "stdout",
     "output_type": "stream",
     "text": [
      "50/50 [==============================] - 0s 3ms/sample - loss: 0.0967 - mae: 0.2768\n"
     ]
    },
    {
     "data": {
      "text/plain": [
       "[0.09673620641231537, 0.27678412]"
      ]
     },
     "execution_count": 254,
     "metadata": {},
     "output_type": "execute_result"
    }
   ],
   "source": [
    "model.evaluate(x_test_tfcirc,y_test)"
   ]
  },
  {
   "cell_type": "code",
   "execution_count": 280,
   "metadata": {},
   "outputs": [],
   "source": [
    "y_pred = model.predict(x_test_tfcirc)"
   ]
  },
  {
   "cell_type": "code",
   "execution_count": 281,
   "metadata": {},
   "outputs": [
    {
     "data": {
      "text/plain": [
       "(50,)"
      ]
     },
     "execution_count": 281,
     "metadata": {},
     "output_type": "execute_result"
    }
   ],
   "source": [
    "x_test.shape"
   ]
  },
  {
   "cell_type": "code",
   "execution_count": 282,
   "metadata": {},
   "outputs": [
    {
     "data": {
      "text/plain": [
       "(50, 1)"
      ]
     },
     "execution_count": 282,
     "metadata": {},
     "output_type": "execute_result"
    }
   ],
   "source": [
    "y_pred.shape"
   ]
  },
  {
   "cell_type": "code",
   "execution_count": 285,
   "metadata": {},
   "outputs": [
    {
     "data": {
      "image/png": "[encoded data removed]",
      "text/plain": [
       "<Figure size 432x288 with 1 Axes>"
      ]
     },
     "metadata": {
      "needs_background": "light"
     },
     "output_type": "display_data"
    }
   ],
   "source": [
    "plt.plot(x_test,y_pred,\"o\",label=\"pred\")\n",
    "plt.plot(x_test,y_test,\"xr\",label=\"test\")\n",
    "plt.xlabel('x')\n",
    "plt.ylabel('y')\n",
    "plt.legend()\n",
    "#plt.show()\n",
    "plt.savefig('fig1.png')"
   ]
  },
  {
   "cell_type": "code",
   "execution_count": null,
   "metadata": {},
   "outputs": [],
   "source": []
  }
 ],
 "metadata": {
  "kernelspec": {
   "display_name": "tf-q",
   "language": "python",
   "name": "tf-q"
  },
  "language_info": {
   "codemirror_mode": {
    "name": "ipython",
    "version": 3
   },
   "file_extension": ".py",
   "mimetype": "text/x-python",
   "name": "python",
   "nbconvert_exporter": "python",
   "pygments_lexer": "ipython3",
   "version": "3.6.10"
  }
 },
 "nbformat": 4,
 "nbformat_minor": 2
}
