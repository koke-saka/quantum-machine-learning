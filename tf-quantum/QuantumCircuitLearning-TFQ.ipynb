{
 "cells": [
  {
   "cell_type": "markdown",
   "metadata": {},
   "source": [
    "# TensroFlow Quantum でQCL"
   ]
  },
  {
   "cell_type": "code",
   "execution_count": 2,
   "metadata": {},
   "outputs": [],
   "source": [
    "import tensorflow as tf\n",
    "import tensorflow_quantum as tfq\n",
    "\n",
    "import cirq\n",
    "import sympy\n",
    "import numpy as np\n",
    "\n",
    "import collections\n",
    "\n",
    "# visualization tools\n",
    "%matplotlib inline\n",
    "import matplotlib.pyplot as plt\n",
    "from cirq.contrib.svg import SVGCircuit"
   ]
  },
  {
   "cell_type": "markdown",
   "metadata": {},
   "source": [
    "## 学習データの作成\n",
    "\n",
    "[QuantumNativeDojo](https://dojo.qulacs.org/ja/latest/notebooks/5.2_Quantum_Circuit_Learning.html)を参考にした"
   ]
  },
  {
   "cell_type": "code",
   "execution_count": 4,
   "metadata": {},
   "outputs": [
    {
     "data": {
      "image/png": "[encoded data removed]",
      "text/plain": [
       "<Figure size 432x288 with 1 Axes>"
      ]
     },
     "metadata": {
      "needs_background": "light"
     },
     "output_type": "display_data"
    }
   ],
   "source": [
    "## [x_min, x_max]のうち, ランダムにnum_x_train個の点をとって教師データとする.\n",
    "x_min = - 1.; x_max = 1.;\n",
    "num_x_train = 200\n",
    "\n",
    "## 学習したい1変数関数\n",
    "#func_to_learn = lambda x: np.cos(x*np.pi)\n",
    "func_to_learn = lambda x: x**2-0.5\n",
    "\n",
    "random_seed = 1\n",
    "np.random.seed(random_seed)\n",
    "\n",
    "#### 教師データを準備\n",
    "x_train = x_min + (x_max - x_min) * np.random.rand(num_x_train)\n",
    "y_train = func_to_learn(x_train)\n",
    "\n",
    "# 現実のデータを用いる場合を想定し、きれいなsin関数にノイズを付加\n",
    "mag_noise = 0.025\n",
    "y_train = y_train + mag_noise * np.random.randn(num_x_train)\n",
    "\n",
    "plt.plot(x_train, y_train, \"o\"); plt.show()"
   ]
  },
  {
   "cell_type": "code",
   "execution_count": 5,
   "metadata": {},
   "outputs": [],
   "source": [
    "def divide_train_test(data,label, test_ratio=0.3):\n",
    "    shuffled = np.random.permutation(len(data))\n",
    "    test_size = int(len(data)*test_ratio)\n",
    "    test_index = shuffled[:test_size]\n",
    "    train_index = shuffled[test_size:]\n",
    "    return data[train_index],label[train_index],data[test_index],label[test_index]"
   ]
  },
  {
   "cell_type": "code",
   "execution_count": 6,
   "metadata": {},
   "outputs": [],
   "source": [
    "x_train,y_train,x_test,y_test=divide_train_test(x_train,y_train,test_ratio=0.25)"
   ]
  },
  {
   "cell_type": "code",
   "execution_count": null,
   "metadata": {},
   "outputs": [],
   "source": []
  },
  {
   "cell_type": "code",
   "execution_count": null,
   "metadata": {},
   "outputs": [],
   "source": []
  },
  {
   "cell_type": "markdown",
   "metadata": {},
   "source": [
    "## 入力状態の作成"
   ]
  },
  {
   "cell_type": "code",
   "execution_count": 7,
   "metadata": {},
   "outputs": [],
   "source": [
    "def convert_to_circuit(x):\n",
    "    \"\"\"Encode truncated classical image into quantum datapoint.\"\"\"\n",
    "    y = np.arcsin(x)\n",
    "    z = np.arccos(x**2)\n",
    "    qubits = cirq.GridQubit.rect(5, 1)\n",
    "    circuit = cirq.Circuit()\n",
    "    for i in range(5):\n",
    "        circuit.append(cirq.ry(y).on(qubits[i]))\n",
    "        circuit.append(cirq.rz(z).on(qubits[i]))\n",
    "    return circuit\n"
   ]
  },
  {
   "cell_type": "code",
   "execution_count": 8,
   "metadata": {},
   "outputs": [],
   "source": [
    "x_train_circ = [convert_to_circuit(x) for x in x_train]\n",
    "x_test_circ = [convert_to_circuit(x) for x in x_test]"
   ]
  },
  {
   "cell_type": "code",
   "execution_count": 9,
   "metadata": {},
   "outputs": [
    {
     "name": "stderr",
     "output_type": "stream",
     "text": [
      "findfont: Font family ['Arial'] not found. Falling back to DejaVu Sans.\n"
     ]
    },
    {
     "data": {
      "image/svg+xml": [
       "<svg xmlns=\"http://www.w3.org/2000/svg\" width=\"317.5466796875\" height=\"250.0\"><line x1=\"34.7588671875\" x2=\"287.5466796875\" y1=\"25.0\" y2=\"25.0\" stroke=\"#1967d2\" stroke-width=\"1\" /><line x1=\"34.7588671875\" x2=\"287.5466796875\" y1=\"75.0\" y2=\"75.0\" stroke=\"#1967d2\" stroke-width=\"1\" /><line x1=\"34.7588671875\" x2=\"287.5466796875\" y1=\"125.0\" y2=\"125.0\" stroke=\"#1967d2\" stroke-width=\"1\" /><line x1=\"34.7588671875\" x2=\"287.5466796875\" y1=\"175.0\" y2=\"175.0\" stroke=\"#1967d2\" stroke-width=\"1\" /><line x1=\"34.7588671875\" x2=\"287.5466796875\" y1=\"225.0\" y2=\"225.0\" stroke=\"#1967d2\" stroke-width=\"1\" /><rect x=\"10.0\" y=\"5.0\" width=\"49.517734375\" height=\"40\" stroke=\"black\" fill=\"white\" stroke-width=\"0\" /><text x=\"34.7588671875\" y=\"25.0\" dominant-baseline=\"middle\" text-anchor=\"middle\" font-size=\"14px\">(0, 0): </text><rect x=\"10.0\" y=\"55.0\" width=\"49.517734375\" height=\"40\" stroke=\"black\" fill=\"white\" stroke-width=\"0\" /><text x=\"34.7588671875\" y=\"75.0\" dominant-baseline=\"middle\" text-anchor=\"middle\" font-size=\"14px\">(1, 0): </text><rect x=\"10.0\" y=\"105.0\" width=\"49.517734375\" height=\"40\" stroke=\"black\" fill=\"white\" stroke-width=\"0\" /><text x=\"34.7588671875\" y=\"125.0\" dominant-baseline=\"middle\" text-anchor=\"middle\" font-size=\"14px\">(2, 0): </text><rect x=\"10.0\" y=\"155.0\" width=\"49.517734375\" height=\"40\" stroke=\"black\" fill=\"white\" stroke-width=\"0\" /><text x=\"34.7588671875\" y=\"175.0\" dominant-baseline=\"middle\" text-anchor=\"middle\" font-size=\"14px\">(3, 0): </text><rect x=\"10.0\" y=\"205.0\" width=\"49.517734375\" height=\"40\" stroke=\"black\" fill=\"white\" stroke-width=\"0\" /><text x=\"34.7588671875\" y=\"225.0\" dominant-baseline=\"middle\" text-anchor=\"middle\" font-size=\"14px\">(4, 0): </text><rect x=\"79.517734375\" y=\"5.0\" width=\"84.097734375\" height=\"40\" stroke=\"black\" fill=\"white\" stroke-width=\"1\" /><text x=\"121.56660156250001\" y=\"25.0\" dominant-baseline=\"middle\" text-anchor=\"middle\" font-size=\"14px\">Ry(0.209π)</text><rect x=\"79.517734375\" y=\"55.0\" width=\"84.097734375\" height=\"40\" stroke=\"black\" fill=\"white\" stroke-width=\"1\" /><text x=\"121.56660156250001\" y=\"75.0\" dominant-baseline=\"middle\" text-anchor=\"middle\" font-size=\"14px\">Ry(0.209π)</text><rect x=\"79.517734375\" y=\"105.0\" width=\"84.097734375\" height=\"40\" stroke=\"black\" fill=\"white\" stroke-width=\"1\" /><text x=\"121.56660156250001\" y=\"125.0\" dominant-baseline=\"middle\" text-anchor=\"middle\" font-size=\"14px\">Ry(0.209π)</text><rect x=\"79.517734375\" y=\"155.0\" width=\"84.097734375\" height=\"40\" stroke=\"black\" fill=\"white\" stroke-width=\"1\" /><text x=\"121.56660156250001\" y=\"175.0\" dominant-baseline=\"middle\" text-anchor=\"middle\" font-size=\"14px\">Ry(0.209π)</text><rect x=\"79.517734375\" y=\"205.0\" width=\"84.097734375\" height=\"40\" stroke=\"black\" fill=\"white\" stroke-width=\"1\" /><text x=\"121.56660156250001\" y=\"225.0\" dominant-baseline=\"middle\" text-anchor=\"middle\" font-size=\"14px\">Ry(0.209π)</text><rect x=\"183.61546875\" y=\"5.0\" width=\"83.93121093750001\" height=\"40\" stroke=\"black\" fill=\"white\" stroke-width=\"1\" /><text x=\"225.58107421875\" y=\"25.0\" dominant-baseline=\"middle\" text-anchor=\"middle\" font-size=\"14px\">Rz(0.379π)</text><rect x=\"183.61546875\" y=\"55.0\" width=\"83.93121093750001\" height=\"40\" stroke=\"black\" fill=\"white\" stroke-width=\"1\" /><text x=\"225.58107421875\" y=\"75.0\" dominant-baseline=\"middle\" text-anchor=\"middle\" font-size=\"14px\">Rz(0.379π)</text><rect x=\"183.61546875\" y=\"105.0\" width=\"83.93121093750001\" height=\"40\" stroke=\"black\" fill=\"white\" stroke-width=\"1\" /><text x=\"225.58107421875\" y=\"125.0\" dominant-baseline=\"middle\" text-anchor=\"middle\" font-size=\"14px\">Rz(0.379π)</text><rect x=\"183.61546875\" y=\"155.0\" width=\"83.93121093750001\" height=\"40\" stroke=\"black\" fill=\"white\" stroke-width=\"1\" /><text x=\"225.58107421875\" y=\"175.0\" dominant-baseline=\"middle\" text-anchor=\"middle\" font-size=\"14px\">Rz(0.379π)</text><rect x=\"183.61546875\" y=\"205.0\" width=\"83.93121093750001\" height=\"40\" stroke=\"black\" fill=\"white\" stroke-width=\"1\" /><text x=\"225.58107421875\" y=\"225.0\" dominant-baseline=\"middle\" text-anchor=\"middle\" font-size=\"14px\">Rz(0.379π)</text></svg>"
      ],
      "text/plain": [
       "<cirq.contrib.svg.svg.SVGCircuit at 0x7f01485642e8>"
      ]
     },
     "execution_count": 9,
     "metadata": {},
     "output_type": "execute_result"
    }
   ],
   "source": [
    "SVGCircuit(x_train_circ[0])"
   ]
  },
  {
   "cell_type": "code",
   "execution_count": 10,
   "metadata": {},
   "outputs": [
    {
     "data": {
      "text/plain": [
       "(0.6095091274866908, 0.2086334341333908)"
      ]
     },
     "execution_count": 10,
     "metadata": {},
     "output_type": "execute_result"
    }
   ],
   "source": [
    "x_train[0],np.arcsin(x_train[0])/np.pi"
   ]
  },
  {
   "cell_type": "code",
   "execution_count": 11,
   "metadata": {},
   "outputs": [],
   "source": [
    "x_train_tfcirc = tfq.convert_to_tensor(x_train_circ)\n",
    "x_test_tfcirc = tfq.convert_to_tensor(x_test_circ)"
   ]
  },
  {
   "cell_type": "markdown",
   "metadata": {},
   "source": [
    "## パラメトリック量子回路（ニューラルネット）の作成"
   ]
  },
  {
   "cell_type": "code",
   "execution_count": 12,
   "metadata": {},
   "outputs": [],
   "source": [
    "class CircuitLayerBuilder():\n",
    "    def __init__(self, data_qubits, readout):\n",
    "        self.data_qubits = data_qubits\n",
    "        self.readout = readout\n",
    "    \n",
    "    def add_layer(self, circuit, gate, prefix):\n",
    "        for i, qubit in enumerate(self.data_qubits):\n",
    "            symbol = sympy.Symbol(prefix + '-' + str(i))\n",
    "            circuit.append(gate(qubit, self.readout)**symbol)\n",
    "            \n",
    "    def add_layer_single(self,circuit,gate,prefix):\n",
    "        symbol = sympy.Symbol(prefix + '-' + str(0))\n",
    "        circuit.append(gate(symbol).on(self.readout))\n",
    "    \n",
    "    def add_entangler(self,circuit,len_qubit):\n",
    "        circuit.append(cirq.CZ(self.readout,self.data_qubits[0]))\n",
    "        for i in range(len_qubit-1):\n",
    "            circuit.append(cirq.CZ(self.data_qubits[i],self.data_qubits[(i+1)%len_qubit]))\n",
    "        circuit.append(cirq.CZ(self.readout,self.data_qubits[-1]))\n",
    "            "
   ]
  },
  {
   "cell_type": "code",
   "execution_count": 13,
   "metadata": {},
   "outputs": [],
   "source": [
    "def create_quantum_model(c_depth=3):\n",
    "    data_qubits = cirq.GridQubit.rect(5,1)\n",
    "    readout = cirq.GridQubit(-1,-1)\n",
    "    circuit = cirq.Circuit()\n",
    "    \n",
    "    circuit.append(cirq.H(readout))\n",
    "    \n",
    "    builder = CircuitLayerBuilder(\n",
    "        data_qubits = data_qubits,\n",
    "        readout = readout\n",
    "    )\n",
    "    \n",
    "    for i in range(3):\n",
    "        builder.add_entangler(circuit,5)\n",
    "        builder.add_layer(circuit, gate = cirq.XX, prefix='xx'+str(i))\n",
    "        builder.add_layer(circuit, gate = cirq.ZZ, prefix='zz'+str(i))\n",
    "        builder.add_layer(circuit, gate = cirq.XX, prefix='xx1'+str(i))\n",
    "        builder.add_layer_single(circuit, gate = cirq.rz, prefix='z1'+str(i))\n",
    "        builder.add_layer_single(circuit, gate = cirq.rx, prefix='x1'+str(i))\n",
    "        builder.add_layer_single(circuit, gate = cirq.rz, prefix='z2'+str(i))\n",
    "        \n",
    "    \n",
    "    return circuit, cirq.Z(readout)"
   ]
  },
  {
   "cell_type": "code",
   "execution_count": 14,
   "metadata": {},
   "outputs": [],
   "source": [
    "model_circuit, model_readout = create_quantum_model()"
   ]
  },
  {
   "cell_type": "code",
   "execution_count": 15,
   "metadata": {},
   "outputs": [
    {
     "data": {
      "image/svg+xml": [
       "<svg xmlns=\"http://www.w3.org/2000/svg\" width=\"7152.810351562504\" height=\"300.0\"><line x1=\"39.810625\" x2=\"7122.810351562504\" y1=\"25.0\" y2=\"25.0\" stroke=\"#1967d2\" stroke-width=\"1\" /><line x1=\"39.810625\" x2=\"7122.810351562504\" y1=\"75.0\" y2=\"75.0\" stroke=\"#1967d2\" stroke-width=\"1\" /><line x1=\"39.810625\" x2=\"7122.810351562504\" y1=\"125.0\" y2=\"125.0\" stroke=\"#1967d2\" stroke-width=\"1\" /><line x1=\"39.810625\" x2=\"7122.810351562504\" y1=\"175.0\" y2=\"175.0\" stroke=\"#1967d2\" stroke-width=\"1\" /><line x1=\"39.810625\" x2=\"7122.810351562504\" y1=\"225.0\" y2=\"225.0\" stroke=\"#1967d2\" stroke-width=\"1\" /><line x1=\"39.810625\" x2=\"7122.810351562504\" y1=\"275.0\" y2=\"275.0\" stroke=\"#1967d2\" stroke-width=\"1\" /><line x1=\"169.62125\" x2=\"169.62125\" y1=\"25.0\" y2=\"75.0\" stroke=\"black\" stroke-width=\"3\" /><line x1=\"229.62125\" x2=\"229.62125\" y1=\"75.0\" y2=\"125.0\" stroke=\"black\" stroke-width=\"3\" /><line x1=\"289.62125000000003\" x2=\"289.62125000000003\" y1=\"125.0\" y2=\"175.0\" stroke=\"black\" stroke-width=\"3\" /><line x1=\"349.62125000000003\" x2=\"349.62125000000003\" y1=\"175.0\" y2=\"225.0\" stroke=\"black\" stroke-width=\"3\" /><line x1=\"409.62125000000003\" x2=\"409.62125000000003\" y1=\"225.0\" y2=\"275.0\" stroke=\"black\" stroke-width=\"3\" /><line x1=\"469.62125000000003\" x2=\"469.62125000000003\" y1=\"25.0\" y2=\"275.0\" stroke=\"black\" stroke-width=\"3\" /><line x1=\"554.4471484375\" x2=\"554.4471484375\" y1=\"25.0\" y2=\"75.0\" stroke=\"black\" stroke-width=\"3\" /><line x1=\"664.0989453125001\" x2=\"664.0989453125001\" y1=\"25.0\" y2=\"125.0\" stroke=\"black\" stroke-width=\"3\" /><line x1=\"773.7507421875001\" x2=\"773.7507421875001\" y1=\"25.0\" y2=\"175.0\" stroke=\"black\" stroke-width=\"3\" /><line x1=\"883.4025390625002\" x2=\"883.4025390625002\" y1=\"25.0\" y2=\"225.0\" stroke=\"black\" stroke-width=\"3\" /><line x1=\"993.0543359375002\" x2=\"993.0543359375002\" y1=\"25.0\" y2=\"275.0\" stroke=\"black\" stroke-width=\"3\" /><line x1=\"1101.6635156250004\" x2=\"1101.6635156250004\" y1=\"25.0\" y2=\"75.0\" stroke=\"black\" stroke-width=\"3\" /><line x1=\"1209.2300781250003\" x2=\"1209.2300781250003\" y1=\"25.0\" y2=\"125.0\" stroke=\"black\" stroke-width=\"3\" /><line x1=\"1316.7966406250002\" x2=\"1316.7966406250002\" y1=\"25.0\" y2=\"175.0\" stroke=\"black\" stroke-width=\"3\" /><line x1=\"1424.3632031250002\" x2=\"1424.3632031250002\" y1=\"25.0\" y2=\"225.0\" stroke=\"black\" stroke-width=\"3\" /><line x1=\"1531.929765625\" x2=\"1531.929765625\" y1=\"25.0\" y2=\"275.0\" stroke=\"black\" stroke-width=\"3\" /><line x1=\"1644.99255859375\" x2=\"1644.99255859375\" y1=\"25.0\" y2=\"75.0\" stroke=\"black\" stroke-width=\"3\" /><line x1=\"1763.5515820312498\" x2=\"1763.5515820312498\" y1=\"25.0\" y2=\"125.0\" stroke=\"black\" stroke-width=\"3\" /><line x1=\"1882.1106054687498\" x2=\"1882.1106054687498\" y1=\"25.0\" y2=\"175.0\" stroke=\"black\" stroke-width=\"3\" /><line x1=\"2000.6696289062497\" x2=\"2000.6696289062497\" y1=\"25.0\" y2=\"225.0\" stroke=\"black\" stroke-width=\"3\" /><line x1=\"2119.22865234375\" x2=\"2119.22865234375\" y1=\"25.0\" y2=\"275.0\" stroke=\"black\" stroke-width=\"3\" /><line x1=\"2494.0176171875\" x2=\"2494.0176171875\" y1=\"25.0\" y2=\"75.0\" stroke=\"black\" stroke-width=\"3\" /><line x1=\"2554.0176171875\" x2=\"2554.0176171875\" y1=\"75.0\" y2=\"125.0\" stroke=\"black\" stroke-width=\"3\" /><line x1=\"2614.0176171875\" x2=\"2614.0176171875\" y1=\"125.0\" y2=\"175.0\" stroke=\"black\" stroke-width=\"3\" /><line x1=\"2674.0176171875\" x2=\"2674.0176171875\" y1=\"175.0\" y2=\"225.0\" stroke=\"black\" stroke-width=\"3\" /><line x1=\"2734.0176171875\" x2=\"2734.0176171875\" y1=\"225.0\" y2=\"275.0\" stroke=\"black\" stroke-width=\"3\" /><line x1=\"2794.0176171875\" x2=\"2794.0176171875\" y1=\"25.0\" y2=\"275.0\" stroke=\"black\" stroke-width=\"3\" /><line x1=\"2878.8435156250002\" x2=\"2878.8435156250002\" y1=\"25.0\" y2=\"75.0\" stroke=\"black\" stroke-width=\"3\" /><line x1=\"2988.4953125\" x2=\"2988.4953125\" y1=\"25.0\" y2=\"125.0\" stroke=\"black\" stroke-width=\"3\" /><line x1=\"3098.147109375\" x2=\"3098.147109375\" y1=\"25.0\" y2=\"175.0\" stroke=\"black\" stroke-width=\"3\" /><line x1=\"3207.79890625\" x2=\"3207.79890625\" y1=\"25.0\" y2=\"225.0\" stroke=\"black\" stroke-width=\"3\" /><line x1=\"3317.450703125\" x2=\"3317.450703125\" y1=\"25.0\" y2=\"275.0\" stroke=\"black\" stroke-width=\"3\" /><line x1=\"3426.0598828125\" x2=\"3426.0598828125\" y1=\"25.0\" y2=\"75.0\" stroke=\"black\" stroke-width=\"3\" /><line x1=\"3533.6264453125\" x2=\"3533.6264453125\" y1=\"25.0\" y2=\"125.0\" stroke=\"black\" stroke-width=\"3\" /><line x1=\"3641.1930078125\" x2=\"3641.1930078125\" y1=\"25.0\" y2=\"175.0\" stroke=\"black\" stroke-width=\"3\" /><line x1=\"3748.7595703125003\" x2=\"3748.7595703125003\" y1=\"25.0\" y2=\"225.0\" stroke=\"black\" stroke-width=\"3\" /><line x1=\"3856.3261328125004\" x2=\"3856.3261328125004\" y1=\"25.0\" y2=\"275.0\" stroke=\"black\" stroke-width=\"3\" /><line x1=\"3969.3889257812507\" x2=\"3969.3889257812507\" y1=\"25.0\" y2=\"75.0\" stroke=\"black\" stroke-width=\"3\" /><line x1=\"4087.9479492187506\" x2=\"4087.9479492187506\" y1=\"25.0\" y2=\"125.0\" stroke=\"black\" stroke-width=\"3\" /><line x1=\"4206.506972656251\" x2=\"4206.506972656251\" y1=\"25.0\" y2=\"175.0\" stroke=\"black\" stroke-width=\"3\" /><line x1=\"4325.065996093751\" x2=\"4325.065996093751\" y1=\"25.0\" y2=\"225.0\" stroke=\"black\" stroke-width=\"3\" /><line x1=\"4443.625019531251\" x2=\"4443.625019531251\" y1=\"25.0\" y2=\"275.0\" stroke=\"black\" stroke-width=\"3\" /><line x1=\"4818.413984375001\" x2=\"4818.413984375001\" y1=\"25.0\" y2=\"75.0\" stroke=\"black\" stroke-width=\"3\" /><line x1=\"4878.413984375001\" x2=\"4878.413984375001\" y1=\"75.0\" y2=\"125.0\" stroke=\"black\" stroke-width=\"3\" /><line x1=\"4938.413984375001\" x2=\"4938.413984375001\" y1=\"125.0\" y2=\"175.0\" stroke=\"black\" stroke-width=\"3\" /><line x1=\"4998.413984375001\" x2=\"4998.413984375001\" y1=\"175.0\" y2=\"225.0\" stroke=\"black\" stroke-width=\"3\" /><line x1=\"5058.413984375001\" x2=\"5058.413984375001\" y1=\"225.0\" y2=\"275.0\" stroke=\"black\" stroke-width=\"3\" /><line x1=\"5118.413984375001\" x2=\"5118.413984375001\" y1=\"25.0\" y2=\"275.0\" stroke=\"black\" stroke-width=\"3\" /><line x1=\"5203.239882812501\" x2=\"5203.239882812501\" y1=\"25.0\" y2=\"75.0\" stroke=\"black\" stroke-width=\"3\" /><line x1=\"5312.891679687501\" x2=\"5312.891679687501\" y1=\"25.0\" y2=\"125.0\" stroke=\"black\" stroke-width=\"3\" /><line x1=\"5422.543476562501\" x2=\"5422.543476562501\" y1=\"25.0\" y2=\"175.0\" stroke=\"black\" stroke-width=\"3\" /><line x1=\"5532.195273437502\" x2=\"5532.195273437502\" y1=\"25.0\" y2=\"225.0\" stroke=\"black\" stroke-width=\"3\" /><line x1=\"5641.847070312502\" x2=\"5641.847070312502\" y1=\"25.0\" y2=\"275.0\" stroke=\"black\" stroke-width=\"3\" /><line x1=\"5750.456250000003\" x2=\"5750.456250000003\" y1=\"25.0\" y2=\"75.0\" stroke=\"black\" stroke-width=\"3\" /><line x1=\"5858.022812500003\" x2=\"5858.022812500003\" y1=\"25.0\" y2=\"125.0\" stroke=\"black\" stroke-width=\"3\" /><line x1=\"5965.589375000003\" x2=\"5965.589375000003\" y1=\"25.0\" y2=\"175.0\" stroke=\"black\" stroke-width=\"3\" /><line x1=\"6073.155937500003\" x2=\"6073.155937500003\" y1=\"25.0\" y2=\"225.0\" stroke=\"black\" stroke-width=\"3\" /><line x1=\"6180.7225000000035\" x2=\"6180.7225000000035\" y1=\"25.0\" y2=\"275.0\" stroke=\"black\" stroke-width=\"3\" /><line x1=\"6293.785292968753\" x2=\"6293.785292968753\" y1=\"25.0\" y2=\"75.0\" stroke=\"black\" stroke-width=\"3\" /><line x1=\"6412.344316406254\" x2=\"6412.344316406254\" y1=\"25.0\" y2=\"125.0\" stroke=\"black\" stroke-width=\"3\" /><line x1=\"6530.903339843754\" x2=\"6530.903339843754\" y1=\"25.0\" y2=\"175.0\" stroke=\"black\" stroke-width=\"3\" /><line x1=\"6649.4623632812545\" x2=\"6649.4623632812545\" y1=\"25.0\" y2=\"225.0\" stroke=\"black\" stroke-width=\"3\" /><line x1=\"6768.021386718755\" x2=\"6768.021386718755\" y1=\"25.0\" y2=\"275.0\" stroke=\"black\" stroke-width=\"3\" /><rect x=\"10.0\" y=\"5.0\" width=\"59.62125\" height=\"40\" stroke=\"black\" fill=\"white\" stroke-width=\"0\" /><text x=\"39.810625\" y=\"25.0\" dominant-baseline=\"middle\" text-anchor=\"middle\" font-size=\"14px\">(-1, -1): </text><rect x=\"10.0\" y=\"55.0\" width=\"59.62125\" height=\"40\" stroke=\"black\" fill=\"white\" stroke-width=\"0\" /><text x=\"39.810625\" y=\"75.0\" dominant-baseline=\"middle\" text-anchor=\"middle\" font-size=\"14px\">(0, 0): </text><rect x=\"10.0\" y=\"105.0\" width=\"59.62125\" height=\"40\" stroke=\"black\" fill=\"white\" stroke-width=\"0\" /><text x=\"39.810625\" y=\"125.0\" dominant-baseline=\"middle\" text-anchor=\"middle\" font-size=\"14px\">(1, 0): </text><rect x=\"10.0\" y=\"155.0\" width=\"59.62125\" height=\"40\" stroke=\"black\" fill=\"white\" stroke-width=\"0\" /><text x=\"39.810625\" y=\"175.0\" dominant-baseline=\"middle\" text-anchor=\"middle\" font-size=\"14px\">(2, 0): </text><rect x=\"10.0\" y=\"205.0\" width=\"59.62125\" height=\"40\" stroke=\"black\" fill=\"white\" stroke-width=\"0\" /><text x=\"39.810625\" y=\"225.0\" dominant-baseline=\"middle\" text-anchor=\"middle\" font-size=\"14px\">(3, 0): </text><rect x=\"10.0\" y=\"255.0\" width=\"59.62125\" height=\"40\" stroke=\"black\" fill=\"white\" stroke-width=\"0\" /><text x=\"39.810625\" y=\"275.0\" dominant-baseline=\"middle\" text-anchor=\"middle\" font-size=\"14px\">(4, 0): </text><rect x=\"89.62125\" y=\"5.0\" width=\"40\" height=\"40\" stroke=\"black\" fill=\"white\" stroke-width=\"1\" /><text x=\"109.62125\" y=\"25.0\" dominant-baseline=\"middle\" text-anchor=\"middle\" font-size=\"18px\">H</text><circle cx=\"169.62125\" cy=\"25.0\" r=\"10.0\" /><circle cx=\"169.62125\" cy=\"75.0\" r=\"10.0\" /><circle cx=\"229.62125\" cy=\"75.0\" r=\"10.0\" /><circle cx=\"229.62125\" cy=\"125.0\" r=\"10.0\" /><circle cx=\"289.62125000000003\" cy=\"125.0\" r=\"10.0\" /><circle cx=\"289.62125000000003\" cy=\"175.0\" r=\"10.0\" /><circle cx=\"349.62125000000003\" cy=\"175.0\" r=\"10.0\" /><circle cx=\"349.62125000000003\" cy=\"225.0\" r=\"10.0\" /><circle cx=\"409.62125000000003\" cy=\"225.0\" r=\"10.0\" /><circle cx=\"409.62125000000003\" cy=\"275.0\" r=\"10.0\" /><circle cx=\"469.62125000000003\" cy=\"25.0\" r=\"10.0\" /><circle cx=\"469.62125000000003\" cy=\"275.0\" r=\"10.0\" /><rect x=\"509.62125\" y=\"55.0\" width=\"89.65179687500002\" height=\"40\" stroke=\"black\" fill=\"white\" stroke-width=\"1\" /><text x=\"554.4471484375\" y=\"75.0\" dominant-baseline=\"middle\" text-anchor=\"middle\" font-size=\"14px\">XX^(xx0-0)</text><rect x=\"509.62125\" y=\"5.0\" width=\"89.65179687500002\" height=\"40\" stroke=\"black\" fill=\"white\" stroke-width=\"1\" /><text x=\"554.4471484375\" y=\"25.0\" dominant-baseline=\"middle\" text-anchor=\"middle\" font-size=\"14px\">XX</text><rect x=\"619.2730468750001\" y=\"105.0\" width=\"89.65179687500002\" height=\"40\" stroke=\"black\" fill=\"white\" stroke-width=\"1\" /><text x=\"664.0989453125001\" y=\"125.0\" dominant-baseline=\"middle\" text-anchor=\"middle\" font-size=\"14px\">XX^(xx0-1)</text><rect x=\"619.2730468750001\" y=\"5.0\" width=\"89.65179687500002\" height=\"40\" stroke=\"black\" fill=\"white\" stroke-width=\"1\" /><text x=\"664.0989453125001\" y=\"25.0\" dominant-baseline=\"middle\" text-anchor=\"middle\" font-size=\"14px\">XX</text><rect x=\"728.9248437500002\" y=\"155.0\" width=\"89.65179687500002\" height=\"40\" stroke=\"black\" fill=\"white\" stroke-width=\"1\" /><text x=\"773.7507421875001\" y=\"175.0\" dominant-baseline=\"middle\" text-anchor=\"middle\" font-size=\"14px\">XX^(xx0-2)</text><rect x=\"728.9248437500002\" y=\"5.0\" width=\"89.65179687500002\" height=\"40\" stroke=\"black\" fill=\"white\" stroke-width=\"1\" /><text x=\"773.7507421875001\" y=\"25.0\" dominant-baseline=\"middle\" text-anchor=\"middle\" font-size=\"14px\">XX</text><rect x=\"838.5766406250002\" y=\"205.0\" width=\"89.65179687500002\" height=\"40\" stroke=\"black\" fill=\"white\" stroke-width=\"1\" /><text x=\"883.4025390625002\" y=\"225.0\" dominant-baseline=\"middle\" text-anchor=\"middle\" font-size=\"14px\">XX^(xx0-3)</text><rect x=\"838.5766406250002\" y=\"5.0\" width=\"89.65179687500002\" height=\"40\" stroke=\"black\" fill=\"white\" stroke-width=\"1\" /><text x=\"883.4025390625002\" y=\"25.0\" dominant-baseline=\"middle\" text-anchor=\"middle\" font-size=\"14px\">XX</text><rect x=\"948.2284375000003\" y=\"255.0\" width=\"89.65179687500002\" height=\"40\" stroke=\"black\" fill=\"white\" stroke-width=\"1\" /><text x=\"993.0543359375002\" y=\"275.0\" dominant-baseline=\"middle\" text-anchor=\"middle\" font-size=\"14px\">XX^(xx0-4)</text><rect x=\"948.2284375000003\" y=\"5.0\" width=\"89.65179687500002\" height=\"40\" stroke=\"black\" fill=\"white\" stroke-width=\"1\" /><text x=\"993.0543359375002\" y=\"25.0\" dominant-baseline=\"middle\" text-anchor=\"middle\" font-size=\"14px\">XX</text><rect x=\"1057.8802343750003\" y=\"55.0\" width=\"87.56656250000002\" height=\"40\" stroke=\"black\" fill=\"white\" stroke-width=\"1\" /><text x=\"1101.6635156250004\" y=\"75.0\" dominant-baseline=\"middle\" text-anchor=\"middle\" font-size=\"14px\">ZZ^(zz0-0)</text><rect x=\"1057.8802343750003\" y=\"5.0\" width=\"87.56656250000002\" height=\"40\" stroke=\"black\" fill=\"white\" stroke-width=\"1\" /><text x=\"1101.6635156250004\" y=\"25.0\" dominant-baseline=\"middle\" text-anchor=\"middle\" font-size=\"14px\">ZZ</text><rect x=\"1165.4467968750002\" y=\"105.0\" width=\"87.56656250000002\" height=\"40\" stroke=\"black\" fill=\"white\" stroke-width=\"1\" /><text x=\"1209.2300781250003\" y=\"125.0\" dominant-baseline=\"middle\" text-anchor=\"middle\" font-size=\"14px\">ZZ^(zz0-1)</text><rect x=\"1165.4467968750002\" y=\"5.0\" width=\"87.56656250000002\" height=\"40\" stroke=\"black\" fill=\"white\" stroke-width=\"1\" /><text x=\"1209.2300781250003\" y=\"25.0\" dominant-baseline=\"middle\" text-anchor=\"middle\" font-size=\"14px\">ZZ</text><rect x=\"1273.0133593750002\" y=\"155.0\" width=\"87.56656250000002\" height=\"40\" stroke=\"black\" fill=\"white\" stroke-width=\"1\" /><text x=\"1316.7966406250002\" y=\"175.0\" dominant-baseline=\"middle\" text-anchor=\"middle\" font-size=\"14px\">ZZ^(zz0-2)</text><rect x=\"1273.0133593750002\" y=\"5.0\" width=\"87.56656250000002\" height=\"40\" stroke=\"black\" fill=\"white\" stroke-width=\"1\" /><text x=\"1316.7966406250002\" y=\"25.0\" dominant-baseline=\"middle\" text-anchor=\"middle\" font-size=\"14px\">ZZ</text><rect x=\"1380.579921875\" y=\"205.0\" width=\"87.56656250000002\" height=\"40\" stroke=\"black\" fill=\"white\" stroke-width=\"1\" /><text x=\"1424.3632031250002\" y=\"225.0\" dominant-baseline=\"middle\" text-anchor=\"middle\" font-size=\"14px\">ZZ^(zz0-3)</text><rect x=\"1380.579921875\" y=\"5.0\" width=\"87.56656250000002\" height=\"40\" stroke=\"black\" fill=\"white\" stroke-width=\"1\" /><text x=\"1424.3632031250002\" y=\"25.0\" dominant-baseline=\"middle\" text-anchor=\"middle\" font-size=\"14px\">ZZ</text><rect x=\"1488.146484375\" y=\"255.0\" width=\"87.56656250000002\" height=\"40\" stroke=\"black\" fill=\"white\" stroke-width=\"1\" /><text x=\"1531.929765625\" y=\"275.0\" dominant-baseline=\"middle\" text-anchor=\"middle\" font-size=\"14px\">ZZ^(zz0-4)</text><rect x=\"1488.146484375\" y=\"5.0\" width=\"87.56656250000002\" height=\"40\" stroke=\"black\" fill=\"white\" stroke-width=\"1\" /><text x=\"1531.929765625\" y=\"25.0\" dominant-baseline=\"middle\" text-anchor=\"middle\" font-size=\"14px\">ZZ</text><rect x=\"1595.713046875\" y=\"55.0\" width=\"98.55902343750002\" height=\"40\" stroke=\"black\" fill=\"white\" stroke-width=\"1\" /><text x=\"1644.99255859375\" y=\"75.0\" dominant-baseline=\"middle\" text-anchor=\"middle\" font-size=\"14px\">XX^(xx10-0)</text><rect x=\"1595.713046875\" y=\"5.0\" width=\"98.55902343750002\" height=\"40\" stroke=\"black\" fill=\"white\" stroke-width=\"1\" /><text x=\"1644.99255859375\" y=\"25.0\" dominant-baseline=\"middle\" text-anchor=\"middle\" font-size=\"14px\">XX</text><rect x=\"1714.2720703124999\" y=\"105.0\" width=\"98.55902343750002\" height=\"40\" stroke=\"black\" fill=\"white\" stroke-width=\"1\" /><text x=\"1763.5515820312498\" y=\"125.0\" dominant-baseline=\"middle\" text-anchor=\"middle\" font-size=\"14px\">XX^(xx10-1)</text><rect x=\"1714.2720703124999\" y=\"5.0\" width=\"98.55902343750002\" height=\"40\" stroke=\"black\" fill=\"white\" stroke-width=\"1\" /><text x=\"1763.5515820312498\" y=\"25.0\" dominant-baseline=\"middle\" text-anchor=\"middle\" font-size=\"14px\">XX</text><rect x=\"1832.8310937499998\" y=\"155.0\" width=\"98.55902343750002\" height=\"40\" stroke=\"black\" fill=\"white\" stroke-width=\"1\" /><text x=\"1882.1106054687498\" y=\"175.0\" dominant-baseline=\"middle\" text-anchor=\"middle\" font-size=\"14px\">XX^(xx10-2)</text><rect x=\"1832.8310937499998\" y=\"5.0\" width=\"98.55902343750002\" height=\"40\" stroke=\"black\" fill=\"white\" stroke-width=\"1\" /><text x=\"1882.1106054687498\" y=\"25.0\" dominant-baseline=\"middle\" text-anchor=\"middle\" font-size=\"14px\">XX</text><rect x=\"1951.3901171874998\" y=\"205.0\" width=\"98.55902343750002\" height=\"40\" stroke=\"black\" fill=\"white\" stroke-width=\"1\" /><text x=\"2000.6696289062497\" y=\"225.0\" dominant-baseline=\"middle\" text-anchor=\"middle\" font-size=\"14px\">XX^(xx10-3)</text><rect x=\"1951.3901171874998\" y=\"5.0\" width=\"98.55902343750002\" height=\"40\" stroke=\"black\" fill=\"white\" stroke-width=\"1\" /><text x=\"2000.6696289062497\" y=\"25.0\" dominant-baseline=\"middle\" text-anchor=\"middle\" font-size=\"14px\">XX</text><rect x=\"2069.949140625\" y=\"255.0\" width=\"98.55902343750002\" height=\"40\" stroke=\"black\" fill=\"white\" stroke-width=\"1\" /><text x=\"2119.22865234375\" y=\"275.0\" dominant-baseline=\"middle\" text-anchor=\"middle\" font-size=\"14px\">XX^(xx10-4)</text><rect x=\"2069.949140625\" y=\"5.0\" width=\"98.55902343750002\" height=\"40\" stroke=\"black\" fill=\"white\" stroke-width=\"1\" /><text x=\"2119.22865234375\" y=\"25.0\" dominant-baseline=\"middle\" text-anchor=\"middle\" font-size=\"14px\">XX</text><rect x=\"2188.5081640625\" y=\"5.0\" width=\"74.54546875000001\" height=\"40\" stroke=\"black\" fill=\"white\" stroke-width=\"1\" /><text x=\"2225.7808984374997\" y=\"25.0\" dominant-baseline=\"middle\" text-anchor=\"middle\" font-size=\"14px\">Rz(z10-0)</text><rect x=\"2283.0536328125\" y=\"5.0\" width=\"76.41851562500001\" height=\"40\" stroke=\"black\" fill=\"white\" stroke-width=\"1\" /><text x=\"2321.2628906249997\" y=\"25.0\" dominant-baseline=\"middle\" text-anchor=\"middle\" font-size=\"14px\">Rx(x10-0)</text><rect x=\"2379.4721484375\" y=\"5.0\" width=\"74.54546875000001\" height=\"40\" stroke=\"black\" fill=\"white\" stroke-width=\"1\" /><text x=\"2416.7448828125\" y=\"25.0\" dominant-baseline=\"middle\" text-anchor=\"middle\" font-size=\"14px\">Rz(z20-0)</text><circle cx=\"2494.0176171875\" cy=\"25.0\" r=\"10.0\" /><circle cx=\"2494.0176171875\" cy=\"75.0\" r=\"10.0\" /><circle cx=\"2554.0176171875\" cy=\"75.0\" r=\"10.0\" /><circle cx=\"2554.0176171875\" cy=\"125.0\" r=\"10.0\" /><circle cx=\"2614.0176171875\" cy=\"125.0\" r=\"10.0\" /><circle cx=\"2614.0176171875\" cy=\"175.0\" r=\"10.0\" /><circle cx=\"2674.0176171875\" cy=\"175.0\" r=\"10.0\" /><circle cx=\"2674.0176171875\" cy=\"225.0\" r=\"10.0\" /><circle cx=\"2734.0176171875\" cy=\"225.0\" r=\"10.0\" /><circle cx=\"2734.0176171875\" cy=\"275.0\" r=\"10.0\" /><circle cx=\"2794.0176171875\" cy=\"25.0\" r=\"10.0\" /><circle cx=\"2794.0176171875\" cy=\"275.0\" r=\"10.0\" /><rect x=\"2834.0176171875\" y=\"55.0\" width=\"89.65179687500002\" height=\"40\" stroke=\"black\" fill=\"white\" stroke-width=\"1\" /><text x=\"2878.8435156250002\" y=\"75.0\" dominant-baseline=\"middle\" text-anchor=\"middle\" font-size=\"14px\">XX^(xx1-0)</text><rect x=\"2834.0176171875\" y=\"5.0\" width=\"89.65179687500002\" height=\"40\" stroke=\"black\" fill=\"white\" stroke-width=\"1\" /><text x=\"2878.8435156250002\" y=\"25.0\" dominant-baseline=\"middle\" text-anchor=\"middle\" font-size=\"14px\">XX</text><rect x=\"2943.6694140625\" y=\"105.0\" width=\"89.65179687500002\" height=\"40\" stroke=\"black\" fill=\"white\" stroke-width=\"1\" /><text x=\"2988.4953125\" y=\"125.0\" dominant-baseline=\"middle\" text-anchor=\"middle\" font-size=\"14px\">XX^(xx1-1)</text><rect x=\"2943.6694140625\" y=\"5.0\" width=\"89.65179687500002\" height=\"40\" stroke=\"black\" fill=\"white\" stroke-width=\"1\" /><text x=\"2988.4953125\" y=\"25.0\" dominant-baseline=\"middle\" text-anchor=\"middle\" font-size=\"14px\">XX</text><rect x=\"3053.3212109375\" y=\"155.0\" width=\"89.65179687500002\" height=\"40\" stroke=\"black\" fill=\"white\" stroke-width=\"1\" /><text x=\"3098.147109375\" y=\"175.0\" dominant-baseline=\"middle\" text-anchor=\"middle\" font-size=\"14px\">XX^(xx1-2)</text><rect x=\"3053.3212109375\" y=\"5.0\" width=\"89.65179687500002\" height=\"40\" stroke=\"black\" fill=\"white\" stroke-width=\"1\" /><text x=\"3098.147109375\" y=\"25.0\" dominant-baseline=\"middle\" text-anchor=\"middle\" font-size=\"14px\">XX</text><rect x=\"3162.9730078125\" y=\"205.0\" width=\"89.65179687500002\" height=\"40\" stroke=\"black\" fill=\"white\" stroke-width=\"1\" /><text x=\"3207.79890625\" y=\"225.0\" dominant-baseline=\"middle\" text-anchor=\"middle\" font-size=\"14px\">XX^(xx1-3)</text><rect x=\"3162.9730078125\" y=\"5.0\" width=\"89.65179687500002\" height=\"40\" stroke=\"black\" fill=\"white\" stroke-width=\"1\" /><text x=\"3207.79890625\" y=\"25.0\" dominant-baseline=\"middle\" text-anchor=\"middle\" font-size=\"14px\">XX</text><rect x=\"3272.6248046875\" y=\"255.0\" width=\"89.65179687500002\" height=\"40\" stroke=\"black\" fill=\"white\" stroke-width=\"1\" /><text x=\"3317.450703125\" y=\"275.0\" dominant-baseline=\"middle\" text-anchor=\"middle\" font-size=\"14px\">XX^(xx1-4)</text><rect x=\"3272.6248046875\" y=\"5.0\" width=\"89.65179687500002\" height=\"40\" stroke=\"black\" fill=\"white\" stroke-width=\"1\" /><text x=\"3317.450703125\" y=\"25.0\" dominant-baseline=\"middle\" text-anchor=\"middle\" font-size=\"14px\">XX</text><rect x=\"3382.2766015624998\" y=\"55.0\" width=\"87.56656250000002\" height=\"40\" stroke=\"black\" fill=\"white\" stroke-width=\"1\" /><text x=\"3426.0598828125\" y=\"75.0\" dominant-baseline=\"middle\" text-anchor=\"middle\" font-size=\"14px\">ZZ^(zz1-0)</text><rect x=\"3382.2766015624998\" y=\"5.0\" width=\"87.56656250000002\" height=\"40\" stroke=\"black\" fill=\"white\" stroke-width=\"1\" /><text x=\"3426.0598828125\" y=\"25.0\" dominant-baseline=\"middle\" text-anchor=\"middle\" font-size=\"14px\">ZZ</text><rect x=\"3489.8431640625\" y=\"105.0\" width=\"87.56656250000002\" height=\"40\" stroke=\"black\" fill=\"white\" stroke-width=\"1\" /><text x=\"3533.6264453125\" y=\"125.0\" dominant-baseline=\"middle\" text-anchor=\"middle\" font-size=\"14px\">ZZ^(zz1-1)</text><rect x=\"3489.8431640625\" y=\"5.0\" width=\"87.56656250000002\" height=\"40\" stroke=\"black\" fill=\"white\" stroke-width=\"1\" /><text x=\"3533.6264453125\" y=\"25.0\" dominant-baseline=\"middle\" text-anchor=\"middle\" font-size=\"14px\">ZZ</text><rect x=\"3597.4097265625\" y=\"155.0\" width=\"87.56656250000002\" height=\"40\" stroke=\"black\" fill=\"white\" stroke-width=\"1\" /><text x=\"3641.1930078125\" y=\"175.0\" dominant-baseline=\"middle\" text-anchor=\"middle\" font-size=\"14px\">ZZ^(zz1-2)</text><rect x=\"3597.4097265625\" y=\"5.0\" width=\"87.56656250000002\" height=\"40\" stroke=\"black\" fill=\"white\" stroke-width=\"1\" /><text x=\"3641.1930078125\" y=\"25.0\" dominant-baseline=\"middle\" text-anchor=\"middle\" font-size=\"14px\">ZZ</text><rect x=\"3704.9762890625\" y=\"205.0\" width=\"87.56656250000002\" height=\"40\" stroke=\"black\" fill=\"white\" stroke-width=\"1\" /><text x=\"3748.7595703125003\" y=\"225.0\" dominant-baseline=\"middle\" text-anchor=\"middle\" font-size=\"14px\">ZZ^(zz1-3)</text><rect x=\"3704.9762890625\" y=\"5.0\" width=\"87.56656250000002\" height=\"40\" stroke=\"black\" fill=\"white\" stroke-width=\"1\" /><text x=\"3748.7595703125003\" y=\"25.0\" dominant-baseline=\"middle\" text-anchor=\"middle\" font-size=\"14px\">ZZ</text><rect x=\"3812.5428515625003\" y=\"255.0\" width=\"87.56656250000002\" height=\"40\" stroke=\"black\" fill=\"white\" stroke-width=\"1\" /><text x=\"3856.3261328125004\" y=\"275.0\" dominant-baseline=\"middle\" text-anchor=\"middle\" font-size=\"14px\">ZZ^(zz1-4)</text><rect x=\"3812.5428515625003\" y=\"5.0\" width=\"87.56656250000002\" height=\"40\" stroke=\"black\" fill=\"white\" stroke-width=\"1\" /><text x=\"3856.3261328125004\" y=\"25.0\" dominant-baseline=\"middle\" text-anchor=\"middle\" font-size=\"14px\">ZZ</text><rect x=\"3920.1094140625005\" y=\"55.0\" width=\"98.55902343750002\" height=\"40\" stroke=\"black\" fill=\"white\" stroke-width=\"1\" /><text x=\"3969.3889257812507\" y=\"75.0\" dominant-baseline=\"middle\" text-anchor=\"middle\" font-size=\"14px\">XX^(xx11-0)</text><rect x=\"3920.1094140625005\" y=\"5.0\" width=\"98.55902343750002\" height=\"40\" stroke=\"black\" fill=\"white\" stroke-width=\"1\" /><text x=\"3969.3889257812507\" y=\"25.0\" dominant-baseline=\"middle\" text-anchor=\"middle\" font-size=\"14px\">XX</text><rect x=\"4038.6684375000004\" y=\"105.0\" width=\"98.55902343750002\" height=\"40\" stroke=\"black\" fill=\"white\" stroke-width=\"1\" /><text x=\"4087.9479492187506\" y=\"125.0\" dominant-baseline=\"middle\" text-anchor=\"middle\" font-size=\"14px\">XX^(xx11-1)</text><rect x=\"4038.6684375000004\" y=\"5.0\" width=\"98.55902343750002\" height=\"40\" stroke=\"black\" fill=\"white\" stroke-width=\"1\" /><text x=\"4087.9479492187506\" y=\"25.0\" dominant-baseline=\"middle\" text-anchor=\"middle\" font-size=\"14px\">XX</text><rect x=\"4157.227460937501\" y=\"155.0\" width=\"98.55902343750002\" height=\"40\" stroke=\"black\" fill=\"white\" stroke-width=\"1\" /><text x=\"4206.506972656251\" y=\"175.0\" dominant-baseline=\"middle\" text-anchor=\"middle\" font-size=\"14px\">XX^(xx11-2)</text><rect x=\"4157.227460937501\" y=\"5.0\" width=\"98.55902343750002\" height=\"40\" stroke=\"black\" fill=\"white\" stroke-width=\"1\" /><text x=\"4206.506972656251\" y=\"25.0\" dominant-baseline=\"middle\" text-anchor=\"middle\" font-size=\"14px\">XX</text><rect x=\"4275.786484375001\" y=\"205.0\" width=\"98.55902343750002\" height=\"40\" stroke=\"black\" fill=\"white\" stroke-width=\"1\" /><text x=\"4325.065996093751\" y=\"225.0\" dominant-baseline=\"middle\" text-anchor=\"middle\" font-size=\"14px\">XX^(xx11-3)</text><rect x=\"4275.786484375001\" y=\"5.0\" width=\"98.55902343750002\" height=\"40\" stroke=\"black\" fill=\"white\" stroke-width=\"1\" /><text x=\"4325.065996093751\" y=\"25.0\" dominant-baseline=\"middle\" text-anchor=\"middle\" font-size=\"14px\">XX</text><rect x=\"4394.345507812502\" y=\"255.0\" width=\"98.55902343750002\" height=\"40\" stroke=\"black\" fill=\"white\" stroke-width=\"1\" /><text x=\"4443.625019531251\" y=\"275.0\" dominant-baseline=\"middle\" text-anchor=\"middle\" font-size=\"14px\">XX^(xx11-4)</text><rect x=\"4394.345507812502\" y=\"5.0\" width=\"98.55902343750002\" height=\"40\" stroke=\"black\" fill=\"white\" stroke-width=\"1\" /><text x=\"4443.625019531251\" y=\"25.0\" dominant-baseline=\"middle\" text-anchor=\"middle\" font-size=\"14px\">XX</text><rect x=\"4512.904531250002\" y=\"5.0\" width=\"74.54546875000001\" height=\"40\" stroke=\"black\" fill=\"white\" stroke-width=\"1\" /><text x=\"4550.177265625002\" y=\"25.0\" dominant-baseline=\"middle\" text-anchor=\"middle\" font-size=\"14px\">Rz(z11-0)</text><rect x=\"4607.450000000002\" y=\"5.0\" width=\"76.41851562500001\" height=\"40\" stroke=\"black\" fill=\"white\" stroke-width=\"1\" /><text x=\"4645.659257812502\" y=\"25.0\" dominant-baseline=\"middle\" text-anchor=\"middle\" font-size=\"14px\">Rx(x11-0)</text><rect x=\"4703.868515625001\" y=\"5.0\" width=\"74.54546875000001\" height=\"40\" stroke=\"black\" fill=\"white\" stroke-width=\"1\" /><text x=\"4741.1412500000015\" y=\"25.0\" dominant-baseline=\"middle\" text-anchor=\"middle\" font-size=\"14px\">Rz(z21-0)</text><circle cx=\"4818.413984375001\" cy=\"25.0\" r=\"10.0\" /><circle cx=\"4818.413984375001\" cy=\"75.0\" r=\"10.0\" /><circle cx=\"4878.413984375001\" cy=\"75.0\" r=\"10.0\" /><circle cx=\"4878.413984375001\" cy=\"125.0\" r=\"10.0\" /><circle cx=\"4938.413984375001\" cy=\"125.0\" r=\"10.0\" /><circle cx=\"4938.413984375001\" cy=\"175.0\" r=\"10.0\" /><circle cx=\"4998.413984375001\" cy=\"175.0\" r=\"10.0\" /><circle cx=\"4998.413984375001\" cy=\"225.0\" r=\"10.0\" /><circle cx=\"5058.413984375001\" cy=\"225.0\" r=\"10.0\" /><circle cx=\"5058.413984375001\" cy=\"275.0\" r=\"10.0\" /><circle cx=\"5118.413984375001\" cy=\"25.0\" r=\"10.0\" /><circle cx=\"5118.413984375001\" cy=\"275.0\" r=\"10.0\" /><rect x=\"5158.413984375001\" y=\"55.0\" width=\"89.65179687500002\" height=\"40\" stroke=\"black\" fill=\"white\" stroke-width=\"1\" /><text x=\"5203.239882812501\" y=\"75.0\" dominant-baseline=\"middle\" text-anchor=\"middle\" font-size=\"14px\">XX^(xx2-0)</text><rect x=\"5158.413984375001\" y=\"5.0\" width=\"89.65179687500002\" height=\"40\" stroke=\"black\" fill=\"white\" stroke-width=\"1\" /><text x=\"5203.239882812501\" y=\"25.0\" dominant-baseline=\"middle\" text-anchor=\"middle\" font-size=\"14px\">XX</text><rect x=\"5268.065781250001\" y=\"105.0\" width=\"89.65179687500002\" height=\"40\" stroke=\"black\" fill=\"white\" stroke-width=\"1\" /><text x=\"5312.891679687501\" y=\"125.0\" dominant-baseline=\"middle\" text-anchor=\"middle\" font-size=\"14px\">XX^(xx2-1)</text><rect x=\"5268.065781250001\" y=\"5.0\" width=\"89.65179687500002\" height=\"40\" stroke=\"black\" fill=\"white\" stroke-width=\"1\" /><text x=\"5312.891679687501\" y=\"25.0\" dominant-baseline=\"middle\" text-anchor=\"middle\" font-size=\"14px\">XX</text><rect x=\"5377.717578125002\" y=\"155.0\" width=\"89.65179687500002\" height=\"40\" stroke=\"black\" fill=\"white\" stroke-width=\"1\" /><text x=\"5422.543476562501\" y=\"175.0\" dominant-baseline=\"middle\" text-anchor=\"middle\" font-size=\"14px\">XX^(xx2-2)</text><rect x=\"5377.717578125002\" y=\"5.0\" width=\"89.65179687500002\" height=\"40\" stroke=\"black\" fill=\"white\" stroke-width=\"1\" /><text x=\"5422.543476562501\" y=\"25.0\" dominant-baseline=\"middle\" text-anchor=\"middle\" font-size=\"14px\">XX</text><rect x=\"5487.369375000002\" y=\"205.0\" width=\"89.65179687500002\" height=\"40\" stroke=\"black\" fill=\"white\" stroke-width=\"1\" /><text x=\"5532.195273437502\" y=\"225.0\" dominant-baseline=\"middle\" text-anchor=\"middle\" font-size=\"14px\">XX^(xx2-3)</text><rect x=\"5487.369375000002\" y=\"5.0\" width=\"89.65179687500002\" height=\"40\" stroke=\"black\" fill=\"white\" stroke-width=\"1\" /><text x=\"5532.195273437502\" y=\"25.0\" dominant-baseline=\"middle\" text-anchor=\"middle\" font-size=\"14px\">XX</text><rect x=\"5597.021171875002\" y=\"255.0\" width=\"89.65179687500002\" height=\"40\" stroke=\"black\" fill=\"white\" stroke-width=\"1\" /><text x=\"5641.847070312502\" y=\"275.0\" dominant-baseline=\"middle\" text-anchor=\"middle\" font-size=\"14px\">XX^(xx2-4)</text><rect x=\"5597.021171875002\" y=\"5.0\" width=\"89.65179687500002\" height=\"40\" stroke=\"black\" fill=\"white\" stroke-width=\"1\" /><text x=\"5641.847070312502\" y=\"25.0\" dominant-baseline=\"middle\" text-anchor=\"middle\" font-size=\"14px\">XX</text><rect x=\"5706.672968750003\" y=\"55.0\" width=\"87.56656250000002\" height=\"40\" stroke=\"black\" fill=\"white\" stroke-width=\"1\" /><text x=\"5750.456250000003\" y=\"75.0\" dominant-baseline=\"middle\" text-anchor=\"middle\" font-size=\"14px\">ZZ^(zz2-0)</text><rect x=\"5706.672968750003\" y=\"5.0\" width=\"87.56656250000002\" height=\"40\" stroke=\"black\" fill=\"white\" stroke-width=\"1\" /><text x=\"5750.456250000003\" y=\"25.0\" dominant-baseline=\"middle\" text-anchor=\"middle\" font-size=\"14px\">ZZ</text><rect x=\"5814.239531250003\" y=\"105.0\" width=\"87.56656250000002\" height=\"40\" stroke=\"black\" fill=\"white\" stroke-width=\"1\" /><text x=\"5858.022812500003\" y=\"125.0\" dominant-baseline=\"middle\" text-anchor=\"middle\" font-size=\"14px\">ZZ^(zz2-1)</text><rect x=\"5814.239531250003\" y=\"5.0\" width=\"87.56656250000002\" height=\"40\" stroke=\"black\" fill=\"white\" stroke-width=\"1\" /><text x=\"5858.022812500003\" y=\"25.0\" dominant-baseline=\"middle\" text-anchor=\"middle\" font-size=\"14px\">ZZ</text><rect x=\"5921.806093750003\" y=\"155.0\" width=\"87.56656250000002\" height=\"40\" stroke=\"black\" fill=\"white\" stroke-width=\"1\" /><text x=\"5965.589375000003\" y=\"175.0\" dominant-baseline=\"middle\" text-anchor=\"middle\" font-size=\"14px\">ZZ^(zz2-2)</text><rect x=\"5921.806093750003\" y=\"5.0\" width=\"87.56656250000002\" height=\"40\" stroke=\"black\" fill=\"white\" stroke-width=\"1\" /><text x=\"5965.589375000003\" y=\"25.0\" dominant-baseline=\"middle\" text-anchor=\"middle\" font-size=\"14px\">ZZ</text><rect x=\"6029.372656250003\" y=\"205.0\" width=\"87.56656250000002\" height=\"40\" stroke=\"black\" fill=\"white\" stroke-width=\"1\" /><text x=\"6073.155937500003\" y=\"225.0\" dominant-baseline=\"middle\" text-anchor=\"middle\" font-size=\"14px\">ZZ^(zz2-3)</text><rect x=\"6029.372656250003\" y=\"5.0\" width=\"87.56656250000002\" height=\"40\" stroke=\"black\" fill=\"white\" stroke-width=\"1\" /><text x=\"6073.155937500003\" y=\"25.0\" dominant-baseline=\"middle\" text-anchor=\"middle\" font-size=\"14px\">ZZ</text><rect x=\"6136.939218750003\" y=\"255.0\" width=\"87.56656250000002\" height=\"40\" stroke=\"black\" fill=\"white\" stroke-width=\"1\" /><text x=\"6180.7225000000035\" y=\"275.0\" dominant-baseline=\"middle\" text-anchor=\"middle\" font-size=\"14px\">ZZ^(zz2-4)</text><rect x=\"6136.939218750003\" y=\"5.0\" width=\"87.56656250000002\" height=\"40\" stroke=\"black\" fill=\"white\" stroke-width=\"1\" /><text x=\"6180.7225000000035\" y=\"25.0\" dominant-baseline=\"middle\" text-anchor=\"middle\" font-size=\"14px\">ZZ</text><rect x=\"6244.505781250004\" y=\"55.0\" width=\"98.55902343750002\" height=\"40\" stroke=\"black\" fill=\"white\" stroke-width=\"1\" /><text x=\"6293.785292968753\" y=\"75.0\" dominant-baseline=\"middle\" text-anchor=\"middle\" font-size=\"14px\">XX^(xx12-0)</text><rect x=\"6244.505781250004\" y=\"5.0\" width=\"98.55902343750002\" height=\"40\" stroke=\"black\" fill=\"white\" stroke-width=\"1\" /><text x=\"6293.785292968753\" y=\"25.0\" dominant-baseline=\"middle\" text-anchor=\"middle\" font-size=\"14px\">XX</text><rect x=\"6363.064804687504\" y=\"105.0\" width=\"98.55902343750002\" height=\"40\" stroke=\"black\" fill=\"white\" stroke-width=\"1\" /><text x=\"6412.344316406254\" y=\"125.0\" dominant-baseline=\"middle\" text-anchor=\"middle\" font-size=\"14px\">XX^(xx12-1)</text><rect x=\"6363.064804687504\" y=\"5.0\" width=\"98.55902343750002\" height=\"40\" stroke=\"black\" fill=\"white\" stroke-width=\"1\" /><text x=\"6412.344316406254\" y=\"25.0\" dominant-baseline=\"middle\" text-anchor=\"middle\" font-size=\"14px\">XX</text><rect x=\"6481.623828125004\" y=\"155.0\" width=\"98.55902343750002\" height=\"40\" stroke=\"black\" fill=\"white\" stroke-width=\"1\" /><text x=\"6530.903339843754\" y=\"175.0\" dominant-baseline=\"middle\" text-anchor=\"middle\" font-size=\"14px\">XX^(xx12-2)</text><rect x=\"6481.623828125004\" y=\"5.0\" width=\"98.55902343750002\" height=\"40\" stroke=\"black\" fill=\"white\" stroke-width=\"1\" /><text x=\"6530.903339843754\" y=\"25.0\" dominant-baseline=\"middle\" text-anchor=\"middle\" font-size=\"14px\">XX</text><rect x=\"6600.182851562505\" y=\"205.0\" width=\"98.55902343750002\" height=\"40\" stroke=\"black\" fill=\"white\" stroke-width=\"1\" /><text x=\"6649.4623632812545\" y=\"225.0\" dominant-baseline=\"middle\" text-anchor=\"middle\" font-size=\"14px\">XX^(xx12-3)</text><rect x=\"6600.182851562505\" y=\"5.0\" width=\"98.55902343750002\" height=\"40\" stroke=\"black\" fill=\"white\" stroke-width=\"1\" /><text x=\"6649.4623632812545\" y=\"25.0\" dominant-baseline=\"middle\" text-anchor=\"middle\" font-size=\"14px\">XX</text><rect x=\"6718.741875000005\" y=\"255.0\" width=\"98.55902343750002\" height=\"40\" stroke=\"black\" fill=\"white\" stroke-width=\"1\" /><text x=\"6768.021386718755\" y=\"275.0\" dominant-baseline=\"middle\" text-anchor=\"middle\" font-size=\"14px\">XX^(xx12-4)</text><rect x=\"6718.741875000005\" y=\"5.0\" width=\"98.55902343750002\" height=\"40\" stroke=\"black\" fill=\"white\" stroke-width=\"1\" /><text x=\"6768.021386718755\" y=\"25.0\" dominant-baseline=\"middle\" text-anchor=\"middle\" font-size=\"14px\">XX</text><rect x=\"6837.300898437506\" y=\"5.0\" width=\"74.54546875000001\" height=\"40\" stroke=\"black\" fill=\"white\" stroke-width=\"1\" /><text x=\"6874.573632812506\" y=\"25.0\" dominant-baseline=\"middle\" text-anchor=\"middle\" font-size=\"14px\">Rz(z12-0)</text><rect x=\"6931.846367187505\" y=\"5.0\" width=\"76.41851562500001\" height=\"40\" stroke=\"black\" fill=\"white\" stroke-width=\"1\" /><text x=\"6970.055625000005\" y=\"25.0\" dominant-baseline=\"middle\" text-anchor=\"middle\" font-size=\"14px\">Rx(x12-0)</text><rect x=\"7028.264882812505\" y=\"5.0\" width=\"74.54546875000001\" height=\"40\" stroke=\"black\" fill=\"white\" stroke-width=\"1\" /><text x=\"7065.537617187505\" y=\"25.0\" dominant-baseline=\"middle\" text-anchor=\"middle\" font-size=\"14px\">Rz(z22-0)</text></svg>"
      ],
      "text/plain": [
       "<cirq.contrib.svg.svg.SVGCircuit at 0x7f0148564668>"
      ]
     },
     "execution_count": 15,
     "metadata": {},
     "output_type": "execute_result"
    }
   ],
   "source": [
    "SVGCircuit(model_circuit)"
   ]
  },
  {
   "cell_type": "code",
   "execution_count": 16,
   "metadata": {},
   "outputs": [
    {
     "data": {
      "text/plain": [
       "cirq.Z.on(cirq.GridQubit(-1, -1))"
      ]
     },
     "execution_count": 16,
     "metadata": {},
     "output_type": "execute_result"
    }
   ],
   "source": [
    "model_readout"
   ]
  },
  {
   "cell_type": "code",
   "execution_count": 17,
   "metadata": {},
   "outputs": [],
   "source": [
    "# Build the Keras model.\n",
    "model = tf.keras.Sequential([\n",
    "    # The input is the data-circuit, encoded as a tf.string\n",
    "    tf.keras.layers.Input(shape=(), dtype=tf.string),\n",
    "    # The PQC layer returns the expected value of the readout gate, range [-1,1].\n",
    "    tfq.layers.PQC(model_circuit, model_readout),\n",
    "])"
   ]
  },
  {
   "cell_type": "code",
   "execution_count": null,
   "metadata": {},
   "outputs": [],
   "source": []
  },
  {
   "cell_type": "code",
   "execution_count": 18,
   "metadata": {},
   "outputs": [],
   "source": [
    "model.compile(\n",
    "    loss=tf.keras.losses.mse,\n",
    "    optimizer=tf.keras.optimizers.Adam(),\n",
    "    metrics=['mae'])"
   ]
  },
  {
   "cell_type": "code",
   "execution_count": 19,
   "metadata": {},
   "outputs": [
    {
     "name": "stdout",
     "output_type": "stream",
     "text": [
      "Model: \"sequential\"\n",
      "_________________________________________________________________\n",
      "Layer (type)                 Output Shape              Param #   \n",
      "=================================================================\n",
      "pqc (PQC)                    (None, 1)                 54        \n",
      "=================================================================\n",
      "Total params: 54\n",
      "Trainable params: 54\n",
      "Non-trainable params: 0\n",
      "_________________________________________________________________\n",
      "None\n"
     ]
    }
   ],
   "source": [
    "print(model.summary())"
   ]
  },
  {
   "cell_type": "code",
   "execution_count": 20,
   "metadata": {},
   "outputs": [],
   "source": [
    "EPOCHS = 100\n",
    "BATCH_SIZE = 50"
   ]
  },
  {
   "cell_type": "code",
   "execution_count": 21,
   "metadata": {
    "scrolled": true
   },
   "outputs": [
    {
     "name": "stdout",
     "output_type": "stream",
     "text": [
      "Train on 150 samples, validate on 50 samples\n",
      "Epoch 1/100\n",
      "150/150 [==============================] - 5s 34ms/sample - loss: 0.2067 - mae: 0.4036 - val_loss: 0.1548 - val_mae: 0.3429\n",
      "Epoch 2/100\n",
      "150/150 [==============================] - 3s 21ms/sample - loss: 0.1762 - mae: 0.3751 - val_loss: 0.1315 - val_mae: 0.3190\n",
      "Epoch 3/100\n",
      "150/150 [==============================] - 3s 21ms/sample - loss: 0.1491 - mae: 0.3465 - val_loss: 0.1110 - val_mae: 0.2953\n",
      "Epoch 4/100\n",
      "150/150 [==============================] - 3s 22ms/sample - loss: 0.1253 - mae: 0.3201 - val_loss: 0.0936 - val_mae: 0.2726\n",
      "Epoch 5/100\n",
      "150/150 [==============================] - 3s 22ms/sample - loss: 0.1044 - mae: 0.2928 - val_loss: 0.0795 - val_mae: 0.2511\n",
      "Epoch 6/100\n",
      "150/150 [==============================] - 3s 22ms/sample - loss: 0.0878 - mae: 0.2680 - val_loss: 0.0680 - val_mae: 0.2324\n",
      "Epoch 7/100\n",
      "150/150 [==============================] - 4s 25ms/sample - loss: 0.0738 - mae: 0.2449 - val_loss: 0.0589 - val_mae: 0.2168\n",
      "Epoch 8/100\n",
      "150/150 [==============================] - 4s 27ms/sample - loss: 0.0632 - mae: 0.2251 - val_loss: 0.0514 - val_mae: 0.2020\n",
      "Epoch 9/100\n",
      "150/150 [==============================] - 3s 23ms/sample - loss: 0.0539 - mae: 0.2067 - val_loss: 0.0454 - val_mae: 0.1897\n",
      "Epoch 10/100\n",
      "150/150 [==============================] - 4s 30ms/sample - loss: 0.0469 - mae: 0.1917 - val_loss: 0.0404 - val_mae: 0.1782\n",
      "Epoch 11/100\n",
      "150/150 [==============================] - 4s 28ms/sample - loss: 0.0408 - mae: 0.1778 - val_loss: 0.0361 - val_mae: 0.1674\n",
      "Epoch 12/100\n",
      "150/150 [==============================] - 5s 31ms/sample - loss: 0.0359 - mae: 0.1658 - val_loss: 0.0325 - val_mae: 0.1572\n",
      "Epoch 13/100\n",
      "150/150 [==============================] - 4s 28ms/sample - loss: 0.0316 - mae: 0.1544 - val_loss: 0.0293 - val_mae: 0.1479\n",
      "Epoch 14/100\n",
      "150/150 [==============================] - 4s 24ms/sample - loss: 0.0280 - mae: 0.1440 - val_loss: 0.0263 - val_mae: 0.1391\n",
      "Epoch 15/100\n",
      "150/150 [==============================] - 3s 21ms/sample - loss: 0.0249 - mae: 0.1348 - val_loss: 0.0237 - val_mae: 0.1309\n",
      "Epoch 16/100\n",
      "150/150 [==============================] - 4s 27ms/sample - loss: 0.0222 - mae: 0.1261 - val_loss: 0.0214 - val_mae: 0.1233\n",
      "Epoch 17/100\n",
      "150/150 [==============================] - 4s 27ms/sample - loss: 0.0198 - mae: 0.1181 - val_loss: 0.0192 - val_mae: 0.1161\n",
      "Epoch 18/100\n",
      "150/150 [==============================] - 4s 26ms/sample - loss: 0.0177 - mae: 0.1111 - val_loss: 0.0173 - val_mae: 0.1093\n",
      "Epoch 19/100\n",
      "150/150 [==============================] - 3s 23ms/sample - loss: 0.0158 - mae: 0.1043 - val_loss: 0.0156 - val_mae: 0.1030\n",
      "Epoch 20/100\n",
      "150/150 [==============================] - 4s 28ms/sample - loss: 0.0141 - mae: 0.0979 - val_loss: 0.0140 - val_mae: 0.0972\n",
      "Epoch 21/100\n",
      "150/150 [==============================] - 3s 22ms/sample - loss: 0.0126 - mae: 0.0920 - val_loss: 0.0127 - val_mae: 0.0919\n",
      "Epoch 22/100\n",
      "150/150 [==============================] - 3s 21ms/sample - loss: 0.0114 - mae: 0.0867 - val_loss: 0.0115 - val_mae: 0.0867\n",
      "Epoch 23/100\n",
      "150/150 [==============================] - 3s 22ms/sample - loss: 0.0102 - mae: 0.0819 - val_loss: 0.0104 - val_mae: 0.0819\n",
      "Epoch 24/100\n",
      "150/150 [==============================] - 3s 22ms/sample - loss: 0.0093 - mae: 0.0775 - val_loss: 0.0094 - val_mae: 0.0774\n",
      "Epoch 25/100\n",
      "150/150 [==============================] - 3s 22ms/sample - loss: 0.0083 - mae: 0.0732 - val_loss: 0.0086 - val_mae: 0.0735\n",
      "Epoch 26/100\n",
      "150/150 [==============================] - 3s 21ms/sample - loss: 0.0076 - mae: 0.0693 - val_loss: 0.0079 - val_mae: 0.0698\n",
      "Epoch 27/100\n",
      "150/150 [==============================] - 3s 22ms/sample - loss: 0.0069 - mae: 0.0659 - val_loss: 0.0072 - val_mae: 0.0665\n",
      "Epoch 28/100\n",
      "150/150 [==============================] - 3s 21ms/sample - loss: 0.0063 - mae: 0.0628 - val_loss: 0.0067 - val_mae: 0.0638\n",
      "Epoch 29/100\n",
      "150/150 [==============================] - 3s 22ms/sample - loss: 0.0058 - mae: 0.0601 - val_loss: 0.0062 - val_mae: 0.0612\n",
      "Epoch 30/100\n",
      "150/150 [==============================] - 3s 22ms/sample - loss: 0.0053 - mae: 0.0575 - val_loss: 0.0058 - val_mae: 0.0588\n",
      "Epoch 31/100\n",
      "150/150 [==============================] - 3s 21ms/sample - loss: 0.0049 - mae: 0.0552 - val_loss: 0.0054 - val_mae: 0.0565\n",
      "Epoch 32/100\n",
      "150/150 [==============================] - 3s 22ms/sample - loss: 0.0045 - mae: 0.0530 - val_loss: 0.0051 - val_mae: 0.0545\n",
      "Epoch 33/100\n",
      "150/150 [==============================] - 3s 22ms/sample - loss: 0.0042 - mae: 0.0510 - val_loss: 0.0048 - val_mae: 0.0526\n",
      "Epoch 34/100\n",
      "150/150 [==============================] - 3s 22ms/sample - loss: 0.0039 - mae: 0.0491 - val_loss: 0.0045 - val_mae: 0.0510\n",
      "Epoch 35/100\n",
      "150/150 [==============================] - 3s 22ms/sample - loss: 0.0036 - mae: 0.0475 - val_loss: 0.0042 - val_mae: 0.0496\n",
      "Epoch 36/100\n",
      "150/150 [==============================] - 3s 21ms/sample - loss: 0.0034 - mae: 0.0459 - val_loss: 0.0040 - val_mae: 0.0484\n",
      "Epoch 37/100\n",
      "150/150 [==============================] - 3s 21ms/sample - loss: 0.0032 - mae: 0.0445 - val_loss: 0.0038 - val_mae: 0.0472\n",
      "Epoch 38/100\n",
      "150/150 [==============================] - 3s 21ms/sample - loss: 0.0030 - mae: 0.0433 - val_loss: 0.0036 - val_mae: 0.0461\n",
      "Epoch 39/100\n",
      "150/150 [==============================] - 3s 21ms/sample - loss: 0.0029 - mae: 0.0421 - val_loss: 0.0035 - val_mae: 0.0450\n",
      "Epoch 40/100\n",
      "150/150 [==============================] - 3s 21ms/sample - loss: 0.0027 - mae: 0.0411 - val_loss: 0.0033 - val_mae: 0.0440\n",
      "Epoch 41/100\n",
      "150/150 [==============================] - 3s 21ms/sample - loss: 0.0026 - mae: 0.0401 - val_loss: 0.0032 - val_mae: 0.0430\n",
      "Epoch 42/100\n",
      "150/150 [==============================] - 3s 22ms/sample - loss: 0.0025 - mae: 0.0390 - val_loss: 0.0031 - val_mae: 0.0423\n",
      "Epoch 43/100\n",
      "150/150 [==============================] - 3s 21ms/sample - loss: 0.0024 - mae: 0.0382 - val_loss: 0.0030 - val_mae: 0.0414\n",
      "Epoch 44/100\n",
      "150/150 [==============================] - 3s 22ms/sample - loss: 0.0023 - mae: 0.0373 - val_loss: 0.0029 - val_mae: 0.0406\n",
      "Epoch 45/100\n",
      "150/150 [==============================] - 3s 21ms/sample - loss: 0.0022 - mae: 0.0366 - val_loss: 0.0028 - val_mae: 0.0399\n",
      "Epoch 46/100\n",
      "150/150 [==============================] - 3s 22ms/sample - loss: 0.0021 - mae: 0.0358 - val_loss: 0.0027 - val_mae: 0.0392\n",
      "Epoch 47/100\n",
      "150/150 [==============================] - 3s 21ms/sample - loss: 0.0020 - mae: 0.0352 - val_loss: 0.0026 - val_mae: 0.0385\n",
      "Epoch 48/100\n",
      "150/150 [==============================] - 3s 22ms/sample - loss: 0.0019 - mae: 0.0346 - val_loss: 0.0026 - val_mae: 0.0378\n",
      "Epoch 49/100\n",
      "150/150 [==============================] - 3s 21ms/sample - loss: 0.0019 - mae: 0.0340 - val_loss: 0.0025 - val_mae: 0.0371\n",
      "Epoch 50/100\n",
      "150/150 [==============================] - 3s 22ms/sample - loss: 0.0018 - mae: 0.0335 - val_loss: 0.0025 - val_mae: 0.0365\n",
      "Epoch 51/100\n",
      "150/150 [==============================] - 3s 22ms/sample - loss: 0.0018 - mae: 0.0330 - val_loss: 0.0024 - val_mae: 0.0360\n",
      "Epoch 52/100\n",
      "150/150 [==============================] - 3s 22ms/sample - loss: 0.0017 - mae: 0.0325 - val_loss: 0.0023 - val_mae: 0.0354\n",
      "Epoch 53/100\n",
      "150/150 [==============================] - 3s 22ms/sample - loss: 0.0017 - mae: 0.0320 - val_loss: 0.0023 - val_mae: 0.0349\n",
      "Epoch 54/100\n",
      "150/150 [==============================] - 4s 25ms/sample - loss: 0.0016 - mae: 0.0316 - val_loss: 0.0023 - val_mae: 0.0344\n",
      "Epoch 55/100\n",
      "150/150 [==============================] - 3s 22ms/sample - loss: 0.0016 - mae: 0.0312 - val_loss: 0.0022 - val_mae: 0.0341\n",
      "Epoch 56/100\n",
      "150/150 [==============================] - 3s 22ms/sample - loss: 0.0016 - mae: 0.0309 - val_loss: 0.0022 - val_mae: 0.0336\n",
      "Epoch 57/100\n",
      "150/150 [==============================] - 3s 22ms/sample - loss: 0.0015 - mae: 0.0305 - val_loss: 0.0021 - val_mae: 0.0333\n",
      "Epoch 58/100\n",
      "150/150 [==============================] - 3s 22ms/sample - loss: 0.0015 - mae: 0.0302 - val_loss: 0.0021 - val_mae: 0.0329\n",
      "Epoch 59/100\n",
      "150/150 [==============================] - 3s 21ms/sample - loss: 0.0015 - mae: 0.0299 - val_loss: 0.0021 - val_mae: 0.0325\n",
      "Epoch 60/100\n"
     ]
    },
    {
     "name": "stdout",
     "output_type": "stream",
     "text": [
      "150/150 [==============================] - 4s 24ms/sample - loss: 0.0014 - mae: 0.0295 - val_loss: 0.0020 - val_mae: 0.0322\n",
      "Epoch 61/100\n",
      "150/150 [==============================] - 3s 23ms/sample - loss: 0.0014 - mae: 0.0292 - val_loss: 0.0020 - val_mae: 0.0319\n",
      "Epoch 62/100\n",
      "150/150 [==============================] - 3s 23ms/sample - loss: 0.0014 - mae: 0.0290 - val_loss: 0.0020 - val_mae: 0.0316\n",
      "Epoch 63/100\n",
      "150/150 [==============================] - 4s 23ms/sample - loss: 0.0013 - mae: 0.0287 - val_loss: 0.0019 - val_mae: 0.0313\n",
      "Epoch 64/100\n",
      "150/150 [==============================] - 3s 23ms/sample - loss: 0.0013 - mae: 0.0285 - val_loss: 0.0019 - val_mae: 0.0310\n",
      "Epoch 65/100\n",
      "150/150 [==============================] - 4s 26ms/sample - loss: 0.0013 - mae: 0.0282 - val_loss: 0.0019 - val_mae: 0.0308\n",
      "Epoch 66/100\n",
      "150/150 [==============================] - 3s 23ms/sample - loss: 0.0013 - mae: 0.0280 - val_loss: 0.0019 - val_mae: 0.0305\n",
      "Epoch 67/100\n",
      "150/150 [==============================] - 3s 23ms/sample - loss: 0.0013 - mae: 0.0278 - val_loss: 0.0018 - val_mae: 0.0303\n",
      "Epoch 68/100\n",
      "150/150 [==============================] - 4s 24ms/sample - loss: 0.0012 - mae: 0.0276 - val_loss: 0.0018 - val_mae: 0.0301\n",
      "Epoch 69/100\n",
      "150/150 [==============================] - 4s 24ms/sample - loss: 0.0012 - mae: 0.0274 - val_loss: 0.0018 - val_mae: 0.0299\n",
      "Epoch 70/100\n",
      "150/150 [==============================] - 3s 22ms/sample - loss: 0.0012 - mae: 0.0272 - val_loss: 0.0018 - val_mae: 0.0298\n",
      "Epoch 71/100\n",
      "150/150 [==============================] - 3s 21ms/sample - loss: 0.0012 - mae: 0.0271 - val_loss: 0.0018 - val_mae: 0.0295\n",
      "Epoch 72/100\n",
      "150/150 [==============================] - 4s 24ms/sample - loss: 0.0012 - mae: 0.0269 - val_loss: 0.0017 - val_mae: 0.0293\n",
      "Epoch 73/100\n",
      "150/150 [==============================] - 3s 23ms/sample - loss: 0.0012 - mae: 0.0268 - val_loss: 0.0017 - val_mae: 0.0291\n",
      "Epoch 74/100\n",
      "150/150 [==============================] - 3s 22ms/sample - loss: 0.0012 - mae: 0.0267 - val_loss: 0.0017 - val_mae: 0.0290\n",
      "Epoch 75/100\n",
      "150/150 [==============================] - 3s 22ms/sample - loss: 0.0011 - mae: 0.0266 - val_loss: 0.0017 - val_mae: 0.0288\n",
      "Epoch 76/100\n",
      "150/150 [==============================] - 3s 21ms/sample - loss: 0.0011 - mae: 0.0264 - val_loss: 0.0017 - val_mae: 0.0287\n",
      "Epoch 77/100\n",
      "150/150 [==============================] - 3s 21ms/sample - loss: 0.0011 - mae: 0.0263 - val_loss: 0.0016 - val_mae: 0.0286\n",
      "Epoch 78/100\n",
      "150/150 [==============================] - 3s 21ms/sample - loss: 0.0011 - mae: 0.0261 - val_loss: 0.0016 - val_mae: 0.0284\n",
      "Epoch 79/100\n",
      "150/150 [==============================] - 3s 21ms/sample - loss: 0.0011 - mae: 0.0260 - val_loss: 0.0016 - val_mae: 0.0283\n",
      "Epoch 80/100\n",
      "150/150 [==============================] - 3s 22ms/sample - loss: 0.0011 - mae: 0.0259 - val_loss: 0.0016 - val_mae: 0.0281\n",
      "Epoch 81/100\n",
      "150/150 [==============================] - 3s 21ms/sample - loss: 0.0011 - mae: 0.0258 - val_loss: 0.0016 - val_mae: 0.0280\n",
      "Epoch 82/100\n",
      "150/150 [==============================] - 3s 22ms/sample - loss: 0.0011 - mae: 0.0257 - val_loss: 0.0016 - val_mae: 0.0278\n",
      "Epoch 83/100\n",
      "150/150 [==============================] - 3s 21ms/sample - loss: 0.0010 - mae: 0.0256 - val_loss: 0.0016 - val_mae: 0.0277\n",
      "Epoch 84/100\n",
      "150/150 [==============================] - 3s 22ms/sample - loss: 0.0010 - mae: 0.0255 - val_loss: 0.0015 - val_mae: 0.0276\n",
      "Epoch 85/100\n",
      "150/150 [==============================] - 3s 21ms/sample - loss: 0.0010 - mae: 0.0254 - val_loss: 0.0015 - val_mae: 0.0275\n",
      "Epoch 86/100\n",
      "150/150 [==============================] - 3s 22ms/sample - loss: 0.0010 - mae: 0.0253 - val_loss: 0.0015 - val_mae: 0.0274\n",
      "Epoch 87/100\n",
      "150/150 [==============================] - 3s 22ms/sample - loss: 0.0010 - mae: 0.0252 - val_loss: 0.0015 - val_mae: 0.0273\n",
      "Epoch 88/100\n",
      "150/150 [==============================] - 3s 22ms/sample - loss: 0.0010 - mae: 0.0251 - val_loss: 0.0015 - val_mae: 0.0272\n",
      "Epoch 89/100\n",
      "150/150 [==============================] - 4s 25ms/sample - loss: 9.9504e-04 - mae: 0.0250 - val_loss: 0.0015 - val_mae: 0.0272\n",
      "Epoch 90/100\n",
      "150/150 [==============================] - 3s 23ms/sample - loss: 9.8679e-04 - mae: 0.0249 - val_loss: 0.0015 - val_mae: 0.0270\n",
      "Epoch 91/100\n",
      "150/150 [==============================] - 3s 23ms/sample - loss: 9.8055e-04 - mae: 0.0248 - val_loss: 0.0015 - val_mae: 0.0270\n",
      "Epoch 92/100\n",
      "150/150 [==============================] - 3s 22ms/sample - loss: 9.7032e-04 - mae: 0.0247 - val_loss: 0.0014 - val_mae: 0.0269\n",
      "Epoch 93/100\n",
      "150/150 [==============================] - 3s 22ms/sample - loss: 9.6640e-04 - mae: 0.0247 - val_loss: 0.0014 - val_mae: 0.0267\n",
      "Epoch 94/100\n",
      "150/150 [==============================] - 3s 23ms/sample - loss: 9.5720e-04 - mae: 0.0246 - val_loss: 0.0014 - val_mae: 0.0266\n",
      "Epoch 95/100\n",
      "150/150 [==============================] - 4s 24ms/sample - loss: 9.5176e-04 - mae: 0.0245 - val_loss: 0.0014 - val_mae: 0.0266\n",
      "Epoch 96/100\n",
      "150/150 [==============================] - 4s 24ms/sample - loss: 9.4397e-04 - mae: 0.0244 - val_loss: 0.0014 - val_mae: 0.0264\n",
      "Epoch 97/100\n",
      "150/150 [==============================] - 4s 23ms/sample - loss: 9.3649e-04 - mae: 0.0243 - val_loss: 0.0014 - val_mae: 0.0263\n",
      "Epoch 98/100\n",
      "150/150 [==============================] - 3s 23ms/sample - loss: 9.3276e-04 - mae: 0.0243 - val_loss: 0.0014 - val_mae: 0.0263\n",
      "Epoch 99/100\n",
      "150/150 [==============================] - 3s 22ms/sample - loss: 9.2449e-04 - mae: 0.0242 - val_loss: 0.0014 - val_mae: 0.0263\n",
      "Epoch 100/100\n",
      "150/150 [==============================] - 3s 23ms/sample - loss: 9.1809e-04 - mae: 0.0241 - val_loss: 0.0013 - val_mae: 0.0262\n"
     ]
    }
   ],
   "source": [
    "qnn_history = model.fit(\n",
    "      x_train_tfcirc, y_train,\n",
    "      batch_size=25,\n",
    "      epochs=EPOCHS,\n",
    "      verbose=1,\n",
    "      validation_data=(x_test_tfcirc,y_test)\n",
    ")"
   ]
  },
  {
   "cell_type": "code",
   "execution_count": 44,
   "metadata": {},
   "outputs": [
    {
     "name": "stdout",
     "output_type": "stream",
     "text": [
      "50/50 [==============================] - 0s 3ms/sample - loss: 0.0048 - mae: 0.0550\n"
     ]
    },
    {
     "data": {
      "text/plain": [
       "[0.004848419241607189, 0.054976977]"
      ]
     },
     "execution_count": 44,
     "metadata": {},
     "output_type": "execute_result"
    }
   ],
   "source": [
    "model.evaluate(x_test_tfcirc,y_test)"
   ]
  },
  {
   "cell_type": "code",
   "execution_count": 45,
   "metadata": {},
   "outputs": [],
   "source": [
    "y_pred = model.predict(x_test_tfcirc)"
   ]
  },
  {
   "cell_type": "code",
   "execution_count": 46,
   "metadata": {},
   "outputs": [
    {
     "data": {
      "text/plain": [
       "(50,)"
      ]
     },
     "execution_count": 46,
     "metadata": {},
     "output_type": "execute_result"
    }
   ],
   "source": [
    "x_test.shape"
   ]
  },
  {
   "cell_type": "code",
   "execution_count": 47,
   "metadata": {},
   "outputs": [
    {
     "data": {
      "text/plain": [
       "(50, 1)"
      ]
     },
     "execution_count": 47,
     "metadata": {},
     "output_type": "execute_result"
    }
   ],
   "source": [
    "y_pred.shape"
   ]
  },
  {
   "cell_type": "code",
   "execution_count": 48,
   "metadata": {},
   "outputs": [
    {
     "data": {
      "image/png": "[encoded data removed]",
      "text/plain": [
       "<Figure size 432x288 with 1 Axes>"
      ]
     },
     "metadata": {
      "needs_background": "light"
     },
     "output_type": "display_data"
    }
   ],
   "source": [
    "plt.plot(x_test,y_pred,\"o\",label=\"pred\")\n",
    "plt.plot(x_test,y_test,\"xr\",label=\"test\")\n",
    "plt.xlabel('x')\n",
    "plt.ylabel('y')\n",
    "plt.legend()\n",
    "#plt.show()\n",
    "plt.savefig('fig-depth5.png')"
   ]
  },
  {
   "cell_type": "code",
   "execution_count": 49,
   "metadata": {},
   "outputs": [
    {
     "data": {
      "text/plain": [
       "array([0.49549553], dtype=float32)"
      ]
     },
     "execution_count": 49,
     "metadata": {},
     "output_type": "execute_result"
    }
   ],
   "source": [
    "max(y_pred)"
   ]
  },
  {
   "cell_type": "code",
   "execution_count": 50,
   "metadata": {},
   "outputs": [
    {
     "data": {
      "text/plain": [
       "0.7071067811865475"
      ]
     },
     "execution_count": 50,
     "metadata": {},
     "output_type": "execute_result"
    }
   ],
   "source": [
    "1/np.sqrt(2)"
   ]
  },
  {
   "cell_type": "code",
   "execution_count": null,
   "metadata": {},
   "outputs": [],
   "source": []
  }
 ],
 "metadata": {
  "kernelspec": {
   "display_name": "tf-q",
   "language": "python",
   "name": "tf-q"
  },
  "language_info": {
   "codemirror_mode": {
    "name": "ipython",
    "version": 3
   },
   "file_extension": ".py",
   "mimetype": "text/x-python",
   "name": "python",
   "nbconvert_exporter": "python",
   "pygments_lexer": "ipython3",
   "version": "3.6.10"
  }
 },
 "nbformat": 4,
 "nbformat_minor": 2
}
