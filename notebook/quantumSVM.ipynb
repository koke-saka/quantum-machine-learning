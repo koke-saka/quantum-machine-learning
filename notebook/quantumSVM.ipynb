{
 "cells": [
  {
   "cell_type": "code",
   "execution_count": 1,
   "metadata": {},
   "outputs": [],
   "source": [
    "import numpy as np\n",
    "import matplotlib.pyplot as plt\n",
    "from qulacs import QuantumState\n",
    "from qulacs import Observable\n",
    "from qulacs import QuantumCircuit\n",
    "from qulacs import ParametricQuantumCircuit\n",
    "from qulacs.gate import DenseMatrix,RY,RZ,RX\n",
    "import math\n",
    "import cmath"
   ]
  },
  {
   "cell_type": "code",
   "execution_count": 2,
   "metadata": {},
   "outputs": [],
   "source": [
    "nqubit = 2"
   ]
  },
  {
   "cell_type": "code",
   "execution_count": 3,
   "metadata": {
    "scrolled": true
   },
   "outputs": [],
   "source": [
    "n_mesh = 100\n",
    "x = np.linspace(0., 2*math.pi, n_mesh)\n",
    "y = np.linspace(0., 2*math.pi, n_mesh)\n",
    "xx,yy = np.meshgrid(x,y)\n",
    "yy\n",
    "z = np.zeros((n_mesh,n_mesh))"
   ]
  },
  {
   "cell_type": "code",
   "execution_count": 12,
   "metadata": {},
   "outputs": [],
   "source": [
    "def U_encode_gate(x1,x2):\n",
    "    U = QuantumCircuit(nqubit)\n",
    "    \n",
    "    for i in range(nqubit):\n",
    "        U.add_H_gate(i)\n",
    "    U.add_RZ_gate(0,x1)\n",
    "    U.add_RZ_gate(1,x2)\n",
    "    for i in range(nqubit):\n",
    "        U.add_H_gate(i) \n",
    "    theta = (math.pi - x1)*(math.pi - x2)\n",
    "    for i in range(nqubit):\n",
    "        U.add_RZ_gate(i,theta)\n",
    "    return U\n",
    "\n",
    "beta = math.pi*2*np.random.rand(2)\n",
    "gamma = math.pi*2*np.random.rand(2)\n",
    "delta = math.pi*2*np.random.rand(2)\n",
    "\n",
    "def encode_state(x1,x2):\n",
    "    state = QuantumState(nqubit)\n",
    "    state.set_zero_state()\n",
    "    u = U_encode_gate(x1,x2)\n",
    "    u.update_quantum_state(state)\n",
    "    for i in range(2):\n",
    "        ry_gate1 = RX(i,beta[i])\n",
    "        ry_gate1.update_quantum_state(state)\n",
    "        rz_gate = RY(i,gamma[i])\n",
    "        rz_gate.update_quantum_state(state)\n",
    "        ry_gate2 = RX(i,delta[i])\n",
    "        ry_gate2.update_quantum_state(state)\n",
    "        \n",
    "    return state"
   ]
  },
  {
   "cell_type": "code",
   "execution_count": 13,
   "metadata": {},
   "outputs": [],
   "source": [
    "from qulacs import Observable\n",
    "obs = Observable(nqubit)\n",
    "obs.add_operator(1., 'Z 0 Z 1')\n",
    "\n",
    "def get_e_value(state):\n",
    "    return obs.get_expectation_value(state)"
   ]
  },
  {
   "cell_type": "code",
   "execution_count": 14,
   "metadata": {},
   "outputs": [
    {
     "data": {
      "text/plain": [
       "-0.5578043852605314"
      ]
     },
     "execution_count": 14,
     "metadata": {},
     "output_type": "execute_result"
    }
   ],
   "source": [
    "get_e_value(encode_state(0.5,0.5))"
   ]
  },
  {
   "cell_type": "code",
   "execution_count": 15,
   "metadata": {},
   "outputs": [],
   "source": [
    "nditer = np.nditer(z, flags=['multi_index'])"
   ]
  },
  {
   "cell_type": "code",
   "execution_count": 16,
   "metadata": {},
   "outputs": [],
   "source": [
    "a_class_index = []\n",
    "b_class_index = []"
   ]
  },
  {
   "cell_type": "code",
   "execution_count": 17,
   "metadata": {},
   "outputs": [],
   "source": [
    "while not nditer.finished:\n",
    "    #print(nditer.multi_index)\n",
    "    z[nditer.multi_index] = get_e_value(encode_state(xx[nditer.multi_index],yy[nditer.multi_index]))\n",
    "    if z[nditer.multi_index] > 0.2:\n",
    "        a_class_index.append(nditer.multi_index)\n",
    "    elif z[nditer.multi_index] < 0.2:\n",
    "        b_class_index.append(nditer.multi_index)\n",
    "    nditer.iternext()"
   ]
  },
  {
   "cell_type": "code",
   "execution_count": 18,
   "metadata": {},
   "outputs": [],
   "source": [
    "#cont = plt.contour(x,y,z,colors=['black'])\n",
    "#plt.show()"
   ]
  },
  {
   "cell_type": "code",
   "execution_count": 19,
   "metadata": {},
   "outputs": [
    {
     "name": "stderr",
     "output_type": "stream",
     "text": [
      "/home/sakai2030/anaconda3/envs/Qulacs/lib/python3.6/site-packages/ipykernel_launcher.py:12: UserWarning: Matplotlib is currently using module://ipykernel.pylab.backend_inline, which is a non-GUI backend, so cannot show the figure.\n",
      "  if sys.path[0] == '':\n"
     ]
    },
    {
     "data": {
      "image/png": "[encoded data removed]",
      "text/plain": [
       "<Figure size 432x288 with 1 Axes>"
      ]
     },
     "metadata": {
      "needs_background": "light"
     },
     "output_type": "display_data"
    }
   ],
   "source": [
    "fig = plt.figure()\n",
    "\n",
    "ax = fig.add_subplot(1,1,1)\n",
    "\n",
    "ax.scatter(xx[z>0.2],yy[z>0.2], c='red')\n",
    "ax.scatter(xx[z<-0.2],yy[z<-0.2], c='blue')\n",
    "\n",
    "ax.set_title('second scatter plot')\n",
    "ax.set_xlabel('x')\n",
    "ax.set_ylabel('y')\n",
    "\n",
    "fig.show()"
   ]
  },
  {
   "cell_type": "code",
   "execution_count": null,
   "metadata": {},
   "outputs": [],
   "source": []
  }
 ],
 "metadata": {
  "kernelspec": {
   "display_name": "Qulacs",
   "language": "python",
   "name": "qulacs"
  },
  "language_info": {
   "codemirror_mode": {
    "name": "ipython",
    "version": 3
   },
   "file_extension": ".py",
   "mimetype": "text/x-python",
   "name": "python",
   "nbconvert_exporter": "python",
   "pygments_lexer": "ipython3",
   "version": "3.6.9"
  }
 },
 "nbformat": 4,
 "nbformat_minor": 2
}
