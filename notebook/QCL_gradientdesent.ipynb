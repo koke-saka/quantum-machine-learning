{
 "cells": [
  {
   "cell_type": "markdown",
   "metadata": {},
   "source": [
    "QuantumNativeDojo/5章変分量子回路に基づくアルゴリズム/5-2[1]を参考にして,勾配降下法による量子回路の学習の実装を行った."
   ]
  },
  {
   "cell_type": "code",
   "execution_count": 1,
   "metadata": {},
   "outputs": [],
   "source": [
    "import numpy as np\n",
    "import matplotlib.pyplot as plt\n",
    "from qulacs import QuantumState\n",
    "from qulacs import Observable\n",
    "from qulacs import QuantumCircuit\n",
    "from qulacs import ParametricQuantumCircuit"
   ]
  },
  {
   "cell_type": "code",
   "execution_count": 2,
   "metadata": {
    "scrolled": true
   },
   "outputs": [
    {
     "data": {
      "image/png": "[encoded data removed]",
      "text/plain": [
       "<Figure size 432x288 with 1 Axes>"
      ]
     },
     "metadata": {
      "needs_background": "light"
     },
     "output_type": "display_data"
    }
   ],
   "source": [
    "########  パラメータ  #############\n",
    "nqubit = 3 ## qubitの数\n",
    "c_depth = 3 ## circuitの深さ\n",
    "time_step = 0.77  ## ランダムハミルトニアンによる時間発展の経過時間\n",
    "\n",
    "## [x_min, x_max]のうち, ランダムにnum_x_train個の点をとって教師データとする.\n",
    "x_min = - 1.; x_max = 1.;\n",
    "num_x_train = 50\n",
    "\n",
    "## 学習したい1変数関数\n",
    "func_to_learn = lambda x: np.cos(x*np.pi)\n",
    "\n",
    "## 乱数のシード\n",
    "random_seed = 2\n",
    "## 乱数発生器の初期化\n",
    "np.random.seed(random_seed)\n",
    "\n",
    "#### 教師データを準備\n",
    "x_train = x_min + (x_max - x_min) * np.random.rand(num_x_train)\n",
    "y_train = func_to_learn(x_train)\n",
    "\n",
    "# 現実のデータを用いる場合を想定し、きれいなsin関数にノイズを付加\n",
    "mag_noise = 0.05\n",
    "y_train = y_train + mag_noise * np.random.randn(num_x_train)\n",
    "\n",
    "plt.plot(x_train, y_train, \"o\"); plt.show()"
   ]
  },
  {
   "cell_type": "markdown",
   "metadata": {},
   "source": [
    "# Parametrized Quantum Circuit の作成\n",
    "量子回路の作成は[2]を参考にした.\n",
    "\n",
    "各量子ビットに作用するパラメトリックな回転ゲート層とエンタングルメントを生成するCZゲート層の組を`c_depth`分積み重ねる.\n",
    "\n",
    "[1]では１つの回転ゲート層の各量子ビットにRX,RY,RXを通しているが、ここではRXゲートのみとなっている.(Observableとの組み合わせ次第で,RXゲートだけではsin波データの学習は失敗する. cf `X-Y decomposition of a single qbit gate`)"
   ]
  },
  {
   "cell_type": "code",
   "execution_count": 3,
   "metadata": {},
   "outputs": [],
   "source": [
    "U_out = ParametricQuantumCircuit(nqubit)\n",
    "for d in range(c_depth):\n",
    "    for i in range(nqubit):\n",
    "        angle = 2.0*np.pi*np.random.rand()\n",
    "        U_out.add_parametric_RX_gate(i,angle)\n",
    "        U_out.add_CZ_gate(i%nqubit,(i+1)%nqubit) # entangler layer\n",
    "for i in range(nqubit):\n",
    "    angle = 2.0*np.pi*np.random.rand()\n",
    "    U_out.add_parametric_RX_gate(i,angle)"
   ]
  },
  {
   "cell_type": "markdown",
   "metadata": {},
   "source": [
    "# 予測モデルの作成\n",
    "[1]を参考に予測モデルを作成した.\n",
    "\n",
    "`U_encode_gate`は教師データを高次元データにエンコードするゲートである.\n",
    "\n",
    "`encode_state`はミニバッチ学習を見据え教師データをまとめてエンコードする関数である."
   ]
  },
  {
   "cell_type": "code",
   "execution_count": 4,
   "metadata": {},
   "outputs": [],
   "source": [
    "def U_encode_gate(x):\n",
    "    U = QuantumCircuit(nqubit)\n",
    "    \n",
    "    angle_y = np.arcsin(x)\n",
    "    angle_z = np.arccos(x**2)\n",
    "    \n",
    "    for i in range(nqubit):\n",
    "        U.add_RY_gate(i,angle_y)\n",
    "        U.add_RZ_gate(i,angle_z)\n",
    "        \n",
    "    return U\n",
    "\n",
    "def encode_state(x):\n",
    "    encode_state_list = []\n",
    "    state = QuantumState(nqubit)\n",
    "    for i in range(len(x)):\n",
    "        state.set_zero_state()\n",
    "        u = U_encode_gate(x[i])\n",
    "        u.update_quantum_state(state)\n",
    "        encode_state_list.append(state.copy())\n",
    "        \n",
    "    return encode_state_list\n",
    "\n",
    "from qulacs import Observable\n",
    "obs = Observable(nqubit)\n",
    "obs.add_operator(2., 'Z 0')\n",
    "\n",
    "def pred(x, u):\n",
    "    state_list = encode_state(x)\n",
    "    res_list = []\n",
    "    for i in range(len(state_list)):\n",
    "        u.update_quantum_state(state_list[i])\n",
    "        res = obs.get_expectation_value(state_list[i])\n",
    "        res_list.append(res)\n",
    "    return np.array(res_list)"
   ]
  },
  {
   "cell_type": "markdown",
   "metadata": {},
   "source": [
    "# コスト関数/勾配\n",
    "コスト関数として平均自乗誤差を用いる.平均自乗誤差のパラメータ微分のやり方は[3]に詳しい."
   ]
  },
  {
   "cell_type": "code",
   "execution_count": 5,
   "metadata": {},
   "outputs": [],
   "source": [
    "def set_U(theta, u):\n",
    "    parameter_count = u.get_parameter_count()\n",
    "    for i in range(parameter_count):\n",
    "        u.set_parameter(i,theta[i])\n",
    "    return u\n",
    "\n",
    "def cost_func(x,theta,u):\n",
    "    set_U(theta, u)\n",
    "    y_pred = pred(x,u)\n",
    "    L = ((y_pred - y_train)**2).mean()\n",
    "    \n",
    "    return L\n",
    "    \n",
    "def pred_grad(x,theta,u):\n",
    "    batch_size = len(x)\n",
    "    theta_plus = np.array([theta.copy() + np.eye(len(theta))[i]*np.pi/2. for i in range(len(theta))])\n",
    "    theta_minus = np.array([theta.copy() - np.eye(len(theta))[i]*np.pi/2. for i in range(len(theta))])\n",
    "    grad = []\n",
    "    u_plus = u.copy()\n",
    "    u_minus = u.copy()\n",
    "    \n",
    "    for i in range(len(theta)):\n",
    "        set_U(theta_plus[i],u_plus)\n",
    "        set_U(theta_minus[i],u_minus)\n",
    "    \n",
    "        grad.append(((pred(x,u_plus)-pred(x,u_minus))/2.)/batch_size)\n",
    "    return np.array(grad)\n",
    "\n",
    "def cost_func_grad(x,y,theta,u):\n",
    "    b_gr = pred_grad(x,theta,u)\n",
    "    set_U(theta,u)\n",
    "    cf_grad = np.dot(b_gr,(pred(x,u)-y))\n",
    "    return np.array(cf_grad)"
   ]
  },
  {
   "cell_type": "code",
   "execution_count": 6,
   "metadata": {},
   "outputs": [
    {
     "data": {
      "text/plain": [
       "2.058682814287808"
      ]
     },
     "execution_count": 6,
     "metadata": {},
     "output_type": "execute_result"
    }
   ],
   "source": [
    "parameter_count = U_out.get_parameter_count()\n",
    "theta_init = np.array([U_out.get_parameter(ind) for ind in range(parameter_count)])\n",
    "cost_func(x_train,theta_init,U_out)"
   ]
  },
  {
   "cell_type": "code",
   "execution_count": 7,
   "metadata": {},
   "outputs": [
    {
     "name": "stdout",
     "output_type": "stream",
     "text": [
      "1.6012996205503598\n",
      "0.12917904935631336\n",
      "0.11835762771148522\n",
      "0.11467143859752485\n",
      "0.1121493981681858\n",
      "0.10877573592727713\n",
      "0.10359771917361686\n",
      "0.09630285580996595\n",
      "0.08723454904179725\n",
      "0.07770947365591838\n"
     ]
    }
   ],
   "source": [
    "theta = theta_init.copy()\n",
    "learning_rate = 0.1\n",
    "for i in range(1000):\n",
    "    theta = theta -learning_rate*cost_func_grad(x_train,y_train,theta,U_out)\n",
    "    if (i % 100) == 0:\n",
    "        print(cost_func(x_train,theta,U_out))"
   ]
  },
  {
   "cell_type": "code",
   "execution_count": 9,
   "metadata": {},
   "outputs": [
    {
     "data": {
      "text/plain": [
       "[<matplotlib.lines.Line2D at 0x7fbc9cb06be0>]"
      ]
     },
     "execution_count": 9,
     "metadata": {},
     "output_type": "execute_result"
    },
    {
     "data": {
      "image/png": "[encoded data removed]",
      "text/plain": [
       "<Figure size 432x288 with 1 Axes>"
      ]
     },
     "metadata": {
      "needs_background": "light"
     },
     "output_type": "display_data"
    }
   ],
   "source": [
    "# パラメータthetaの初期値のもとでのグラフ\n",
    "xlist = np.arange(x_min, x_max, 0.02)\n",
    "set_U(theta_init,U_out)\n",
    "y_init = pred(xlist, U_out)\n",
    "plt.plot(xlist, y_init)"
   ]
  },
  {
   "cell_type": "code",
   "execution_count": 11,
   "metadata": {},
   "outputs": [
    {
     "data": {
      "image/png": "[encoded data removed]",
      "text/plain": [
       "<Figure size 720x432 with 1 Axes>"
      ]
     },
     "metadata": {
      "needs_background": "light"
     },
     "output_type": "display_data"
    }
   ],
   "source": [
    "plt.figure(figsize=(10,6))\n",
    "x_list = np.arange(x_min,x_max,0.02)\n",
    "set_U(theta,U_out)\n",
    "y_pred = pred(x_train, U_out)\n",
    "plt.plot(x_train, y_pred, \"o\",label='Final Model Prediction')\n",
    "\n",
    "plt.legend()\n",
    "plt.show()"
   ]
  },
  {
   "cell_type": "markdown",
   "metadata": {},
   "source": [
    "# 参考文献\n",
    "[1] [Quantum Native Dojo(変分量子回路に基づくアルゴリズム)](https://dojo.qulacs.org/ja/latest/notebooks/5.2_Quantum_Circuit_Learning.html)\n",
    "\n",
    "[2] C. Zoufal,A. Lucchi, and S. Woerner, \"Quantum Generative Adversarial Networksfor Learning and Loading Random Distributions\"\n",
    "\n",
    "[3] K. Mitarai, M. Negoro, M. Kitagawa, and K. Fujii, “Quantum circuit learning”, [Phys. Rev. A 98, 032309 (2018)](https://journals.aps.org/pra/abstract/10.1103/PhysRevA.98.032309), arXiv版：https://arxiv.org/abs/1803.00745  "
   ]
  },
  {
   "cell_type": "code",
   "execution_count": null,
   "metadata": {},
   "outputs": [],
   "source": []
  }
 ],
 "metadata": {
  "kernelspec": {
   "display_name": "Qulacs",
   "language": "python",
   "name": "qulacs"
  },
  "language_info": {
   "codemirror_mode": {
    "name": "ipython",
    "version": 3
   },
   "file_extension": ".py",
   "mimetype": "text/x-python",
   "name": "python",
   "nbconvert_exporter": "python",
   "pygments_lexer": "ipython3",
   "version": "3.6.9"
  }
 },
 "nbformat": 4,
 "nbformat_minor": 2
}
